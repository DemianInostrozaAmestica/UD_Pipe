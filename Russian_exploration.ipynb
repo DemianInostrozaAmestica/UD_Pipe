{
 "cells": [
  {
   "cell_type": "code",
   "execution_count": null,
   "metadata": {},
   "outputs": [],
   "source": [
    "from conllu import parse\n",
    "\n",
    "with open('data/russian.conllu', 'r', encoding='utf8') as file:\n",
    "    data = file.read()\n",
    "\n",
    "sentences = parse(data)\n",
    "\n",
    "import spacy\n",
    "from spacy.tokens import Doc, Token\n",
    "from conllu import parse_incr\n",
    "from conllu import parse\n",
    "from spacy.vocab import Vocab\n",
    "from spacy import displacy\n",
    "from pprint import pprint\n",
    "\n",
    "nlp = spacy.blank(\"ru\")  \n",
    "vocab = nlp.vocab\n",
    "\n",
    "if not Token.has_extension(\"xpos\"):\n",
    "    Token.set_extension(\"xpos\", default=None)\n",
    "if not Token.has_extension(\"deps\"):\n",
    "    Token.set_extension(\"deps\", default=None)\n",
    "if not Token.has_extension(\"misc\"):\n",
    "    Token.set_extension(\"misc\", default=None)\n",
    "\n",
    "\n",
    "def process_conllu_file(file_path):\n",
    "    docs = []\n",
    "    with open(file_path, \"r\", encoding=\"utf-8\") as file:\n",
    "        for conllu_sentence in parse_incr(file):\n",
    "            doc = conllu_to_spacy_doc(conllu_sentence, vocab)\n",
    "            docs.append(doc)\n",
    "    return docs\n",
    "\n",
    "def conllu_to_spacy_doc(conllu_sentence, vocab):\n",
    "    words = [token[\"form\"] for token in conllu_sentence]\n",
    "    heads = [token[\"head\"] if token[\"head\"] is not None else 0 for token in conllu_sentence]  # Head = 0 para raíces\n",
    "    deps = [token[\"deprel\"].split(\":\")[0] for token in conllu_sentence]\n",
    "    lemmas = [token[\"lemma\"] for token in conllu_sentence]\n",
    "    pos_tags = [token[\"upostag\"] for token in conllu_sentence]\n",
    "    xpos_tags = [token[\"xpos\"] for token in conllu_sentence]\n",
    "    morph_feats = [token[\"feats\"] or {} for token in conllu_sentence]\n",
    "    misc_info = [token[\"misc\"] or {} for token in conllu_sentence]\n",
    "    deps_info = [token[\"deps\"] or {} for token in conllu_sentence]\n",
    "\n",
    "    # Crear el objeto Doc\n",
    "    doc = Doc(vocab, words=words)\n",
    "\n",
    "    # Asignar los atributos a cada token\n",
    "    for i, token in enumerate(doc):\n",
    "        token.lemma_ = lemmas[i]\n",
    "        \n",
    "        # Asignar el Universal POS a `pos_`, o usar `tag_` si no es válido\n",
    "        if pos_tags[i] != \"_\":\n",
    "            token.pos_ = pos_tags[i]\n",
    "        elif xpos_tags[i] is not None:  # Verificar si xpos_tags[i] no es None antes de asignarlo\n",
    "            token.tag_ = xpos_tags[i]  # Usar `xpos` como `tag_` si `upos` es \"_\"\n",
    "\n",
    "        token.dep_ = deps[i]\n",
    "        \n",
    "        # Verificar que heads[i] sea un número entero antes de asignarlo como cabeza\n",
    "        if isinstance(heads[i], int) and heads[i] > 0:\n",
    "            token.head = doc[heads[i] - 1]  # Usar head como índice (spaCy usa índice 0 para la raíz)\n",
    "        else:\n",
    "            token.head = token  # Si head es 0 o no válido, el token se apunta a sí mismo como raíz\n",
    "\n",
    "        # Asignar xpos, deps y misc como atributos personalizados\n",
    "        token._.xpos = xpos_tags[i]\n",
    "        token._.deps = deps_info[i]\n",
    "        token._.misc = misc_info[i]\n",
    "\n",
    "        # Convertir `feats` a un formato que spaCy entiende y asignarlo a morph\n",
    "        if morph_feats[i]:\n",
    "            feats_str = \"|\".join(f\"{k}={v}\" for k, v in morph_feats[i].items())\n",
    "            token.set_morph(feats_str)\n",
    "\n",
    "    return doc\n",
    "\n",
    "def render_doc_by_sent_id(docs, sentences, target_sent_id):\n",
    "    # Buscar el índice del `sent_id` deseado en los metadatos de `sentences`\n",
    "    for i, sentence in enumerate(sentences):\n",
    "        if sentence.metadata.get(\"sent_id\") == target_sent_id:\n",
    "            # Renderizar el Doc correspondiente usando `displacy`\n",
    "            displacy.render(docs[i], style=\"dep\", jupyter=True)\n",
    "            return  # Salimos después de encontrar y renderizar\n",
    "    print(f\"Oración con sent_id '{target_sent_id}' no encontrada.\")\n",
    "\n",
    "\n",
    "file_path = \"data/russian.conllu\"\n",
    "docs = process_conllu_file(file_path)\n",
    "\n",
    "\n"
   ]
  },
  {
   "cell_type": "markdown",
   "metadata": {},
   "source": [
    "PLACE"
   ]
  },
  {
   "cell_type": "code",
   "execution_count": 19,
   "metadata": {},
   "outputs": [
    {
     "data": {
      "text/html": [
       "<span class=\"tex2jax_ignore\"><svg xmlns=\"http://www.w3.org/2000/svg\" xmlns:xlink=\"http://www.w3.org/1999/xlink\" xml:lang=\"ru\" id=\"705d53bdc4694681b2940d540ee5a1bf-0\" class=\"displacy\" width=\"575\" height=\"312.0\" direction=\"ltr\" style=\"max-width: none; height: 312.0px; color: #000000; background: #ffffff; font-family: Arial; direction: ltr\">\n",
       "<text class=\"displacy-token\" fill=\"currentColor\" text-anchor=\"middle\" y=\"222.0\">\n",
       "    <tspan class=\"displacy-word\" fill=\"currentColor\" x=\"50\">Кошка</tspan>\n",
       "    <tspan class=\"displacy-tag\" dy=\"2em\" fill=\"currentColor\" x=\"50\">NOUN</tspan>\n",
       "</text>\n",
       "\n",
       "<text class=\"displacy-token\" fill=\"currentColor\" text-anchor=\"middle\" y=\"222.0\">\n",
       "    <tspan class=\"displacy-word\" fill=\"currentColor\" x=\"225\">в</tspan>\n",
       "    <tspan class=\"displacy-tag\" dy=\"2em\" fill=\"currentColor\" x=\"225\">ADP</tspan>\n",
       "</text>\n",
       "\n",
       "<text class=\"displacy-token\" fill=\"currentColor\" text-anchor=\"middle\" y=\"222.0\">\n",
       "    <tspan class=\"displacy-word\" fill=\"currentColor\" x=\"400\">шкафу .</tspan>\n",
       "    <tspan class=\"displacy-tag\" dy=\"2em\" fill=\"currentColor\" x=\"400\">NOUN</tspan>\n",
       "</text>\n",
       "\n",
       "<g class=\"displacy-arrow\">\n",
       "    <path class=\"displacy-arc\" id=\"arrow-705d53bdc4694681b2940d540ee5a1bf-0-0\" stroke-width=\"2px\" d=\"M245,177.0 C245,89.5 395.0,89.5 395.0,177.0\" fill=\"none\" stroke=\"currentColor\"/>\n",
       "    <text dy=\"1.25em\" style=\"font-size: 0.8em; letter-spacing: 1px\">\n",
       "        <textPath xlink:href=\"#arrow-705d53bdc4694681b2940d540ee5a1bf-0-0\" class=\"displacy-label\" startOffset=\"50%\" side=\"left\" fill=\"currentColor\" text-anchor=\"middle\">case</textPath>\n",
       "    </text>\n",
       "    <path class=\"displacy-arrowhead\" d=\"M245,179.0 L237,167.0 253,167.0\" fill=\"currentColor\"/>\n",
       "</g>\n",
       "\n",
       "<g class=\"displacy-arrow\">\n",
       "    <path class=\"displacy-arc\" id=\"arrow-705d53bdc4694681b2940d540ee5a1bf-0-1\" stroke-width=\"2px\" d=\"M70,177.0 C70,2.0 400.0,2.0 400.0,177.0\" fill=\"none\" stroke=\"currentColor\"/>\n",
       "    <text dy=\"1.25em\" style=\"font-size: 0.8em; letter-spacing: 1px\">\n",
       "        <textPath xlink:href=\"#arrow-705d53bdc4694681b2940d540ee5a1bf-0-1\" class=\"displacy-label\" startOffset=\"50%\" side=\"left\" fill=\"currentColor\" text-anchor=\"middle\">nmod</textPath>\n",
       "    </text>\n",
       "    <path class=\"displacy-arrowhead\" d=\"M400.0,179.0 L408.0,167.0 392.0,167.0\" fill=\"currentColor\"/>\n",
       "</g>\n",
       "</svg></span>"
      ],
      "text/plain": [
       "<IPython.core.display.HTML object>"
      ]
     },
     "metadata": {},
     "output_type": "display_data"
    },
    {
     "name": "stdout",
     "output_type": "stream",
     "text": [
      "TokenList<Кошка, в, шкафу, ., metadata={generator: \"UDPipe 2, https://lindat.mff.cuni.cz/services/udpipe\", udpipe_model: \"russian-syntagrus-ud-2.12-230717\", udpipe_model_licence: \"CC BY-NC-SA\", newdoc: \"None\", newpar: \"None\", sent_id: \"1\", text: \"Кошка в шкафу.\"}>\n",
      "dict_items([('id', 1), ('form', 'Кошка'), ('lemma', 'кошка'), ('upos', 'NOUN'), ('xpos', None), ('feats', {'Animacy': 'Anim', 'Case': 'Nom', 'Gender': 'Fem', 'Number': 'Sing'}), ('head', 0), ('deprel', 'root'), ('deps', None), ('misc', {'TokenRange': '0:5'})])\n",
      "dict_items([('id', 2), ('form', 'в'), ('lemma', 'в'), ('upos', 'ADP'), ('xpos', None), ('feats', None), ('head', 3), ('deprel', 'case'), ('deps', None), ('misc', {'TokenRange': '6:7'})])\n",
      "dict_items([('id', 3), ('form', 'шкафу'), ('lemma', 'шкаф'), ('upos', 'NOUN'), ('xpos', None), ('feats', {'Animacy': 'Inan', 'Case': 'Loc', 'Gender': 'Masc', 'Number': 'Sing'}), ('head', 1), ('deprel', 'nmod'), ('deps', None), ('misc', {'SpaceAfter': 'No', 'TokenRange': '8:13'})])\n",
      "dict_items([('id', 4), ('form', '.'), ('lemma', '.'), ('upos', 'PUNCT'), ('xpos', None), ('feats', None), ('head', 1), ('deprel', 'punct'), ('deps', None), ('misc', {'SpacesAfter': '\\\\n', 'TokenRange': '13:14'})])\n"
     ]
    }
   ],
   "source": [
    "render_doc_by_sent_id(docs, sentences, '1')\n",
    "# The cat is in the wardrobe. [place, IN]\n",
    "\n",
    "\n",
    "print(sentences[0])\n",
    "\n",
    "for token in sentences[0]:\n",
    "    print(token.items())"
   ]
  },
  {
   "cell_type": "code",
   "execution_count": null,
   "metadata": {},
   "outputs": [
    {
     "data": {
      "text/plain": [
       "'Loc'"
      ]
     },
     "execution_count": 12,
     "metadata": {},
     "output_type": "execute_result"
    }
   ],
   "source": [
    "sentences[0][2].get('feats').get('Case')"
   ]
  },
  {
   "cell_type": "code",
   "execution_count": 20,
   "metadata": {},
   "outputs": [
    {
     "data": {
      "text/html": [
       "<span class=\"tex2jax_ignore\"><svg xmlns=\"http://www.w3.org/2000/svg\" xmlns:xlink=\"http://www.w3.org/1999/xlink\" xml:lang=\"ru\" id=\"1919ce5dee254f8ea0c6bfd41e5a53fd-0\" class=\"displacy\" width=\"575\" height=\"312.0\" direction=\"ltr\" style=\"max-width: none; height: 312.0px; color: #000000; background: #ffffff; font-family: Arial; direction: ltr\">\n",
       "<text class=\"displacy-token\" fill=\"currentColor\" text-anchor=\"middle\" y=\"222.0\">\n",
       "    <tspan class=\"displacy-word\" fill=\"currentColor\" x=\"50\">Книга</tspan>\n",
       "    <tspan class=\"displacy-tag\" dy=\"2em\" fill=\"currentColor\" x=\"50\">NOUN</tspan>\n",
       "</text>\n",
       "\n",
       "<text class=\"displacy-token\" fill=\"currentColor\" text-anchor=\"middle\" y=\"222.0\">\n",
       "    <tspan class=\"displacy-word\" fill=\"currentColor\" x=\"225\">на</tspan>\n",
       "    <tspan class=\"displacy-tag\" dy=\"2em\" fill=\"currentColor\" x=\"225\">ADP</tspan>\n",
       "</text>\n",
       "\n",
       "<text class=\"displacy-token\" fill=\"currentColor\" text-anchor=\"middle\" y=\"222.0\">\n",
       "    <tspan class=\"displacy-word\" fill=\"currentColor\" x=\"400\">столе .</tspan>\n",
       "    <tspan class=\"displacy-tag\" dy=\"2em\" fill=\"currentColor\" x=\"400\">NOUN</tspan>\n",
       "</text>\n",
       "\n",
       "<g class=\"displacy-arrow\">\n",
       "    <path class=\"displacy-arc\" id=\"arrow-1919ce5dee254f8ea0c6bfd41e5a53fd-0-0\" stroke-width=\"2px\" d=\"M245,177.0 C245,89.5 395.0,89.5 395.0,177.0\" fill=\"none\" stroke=\"currentColor\"/>\n",
       "    <text dy=\"1.25em\" style=\"font-size: 0.8em; letter-spacing: 1px\">\n",
       "        <textPath xlink:href=\"#arrow-1919ce5dee254f8ea0c6bfd41e5a53fd-0-0\" class=\"displacy-label\" startOffset=\"50%\" side=\"left\" fill=\"currentColor\" text-anchor=\"middle\">case</textPath>\n",
       "    </text>\n",
       "    <path class=\"displacy-arrowhead\" d=\"M245,179.0 L237,167.0 253,167.0\" fill=\"currentColor\"/>\n",
       "</g>\n",
       "\n",
       "<g class=\"displacy-arrow\">\n",
       "    <path class=\"displacy-arc\" id=\"arrow-1919ce5dee254f8ea0c6bfd41e5a53fd-0-1\" stroke-width=\"2px\" d=\"M70,177.0 C70,2.0 400.0,2.0 400.0,177.0\" fill=\"none\" stroke=\"currentColor\"/>\n",
       "    <text dy=\"1.25em\" style=\"font-size: 0.8em; letter-spacing: 1px\">\n",
       "        <textPath xlink:href=\"#arrow-1919ce5dee254f8ea0c6bfd41e5a53fd-0-1\" class=\"displacy-label\" startOffset=\"50%\" side=\"left\" fill=\"currentColor\" text-anchor=\"middle\">nmod</textPath>\n",
       "    </text>\n",
       "    <path class=\"displacy-arrowhead\" d=\"M400.0,179.0 L408.0,167.0 392.0,167.0\" fill=\"currentColor\"/>\n",
       "</g>\n",
       "</svg></span>"
      ],
      "text/plain": [
       "<IPython.core.display.HTML object>"
      ]
     },
     "metadata": {},
     "output_type": "display_data"
    },
    {
     "name": "stdout",
     "output_type": "stream",
     "text": [
      "TokenList<Книга, на, столе, ., metadata={sent_id: \"4\", text: \"Книга на столе.\"}>\n",
      "dict_items([('id', 1), ('form', 'Книга'), ('lemma', 'книга'), ('upos', 'NOUN'), ('xpos', None), ('feats', {'Animacy': 'Inan', 'Case': 'Nom', 'Gender': 'Fem', 'Number': 'Sing'}), ('head', 0), ('deprel', 'root'), ('deps', None), ('misc', {'TokenRange': '57:62'})])\n",
      "dict_items([('id', 2), ('form', 'на'), ('lemma', 'на'), ('upos', 'ADP'), ('xpos', None), ('feats', None), ('head', 3), ('deprel', 'case'), ('deps', None), ('misc', {'TokenRange': '63:65'})])\n",
      "dict_items([('id', 3), ('form', 'столе'), ('lemma', 'стол'), ('upos', 'NOUN'), ('xpos', None), ('feats', {'Animacy': 'Inan', 'Case': 'Loc', 'Gender': 'Masc', 'Number': 'Sing'}), ('head', 1), ('deprel', 'nmod'), ('deps', None), ('misc', {'SpaceAfter': 'No', 'TokenRange': '66:71'})])\n",
      "dict_items([('id', 4), ('form', '.'), ('lemma', '.'), ('upos', 'PUNCT'), ('xpos', None), ('feats', None), ('head', 1), ('deprel', 'punct'), ('deps', None), ('misc', {'SpacesAfter': '\\\\n', 'TokenRange': '71:72'})])\n"
     ]
    }
   ],
   "source": [
    "render_doc_by_sent_id(docs, sentences, '4')\n",
    "# The book is on the table. [place, ON]\n",
    "\n",
    "print(sentences[3])\n",
    "\n",
    "for token in sentences[3]:\n",
    "    print(token.items())\n",
    "\n"
   ]
  },
  {
   "cell_type": "code",
   "execution_count": null,
   "metadata": {},
   "outputs": [
    {
     "data": {
      "text/html": [
       "<span class=\"tex2jax_ignore\"><svg xmlns=\"http://www.w3.org/2000/svg\" xmlns:xlink=\"http://www.w3.org/1999/xlink\" xml:lang=\"ru\" id=\"90181b8b099e4d55ba5116831998428a-0\" class=\"displacy\" width=\"750\" height=\"312.0\" direction=\"ltr\" style=\"max-width: none; height: 312.0px; color: #000000; background: #ffffff; font-family: Arial; direction: ltr\">\n",
       "<text class=\"displacy-token\" fill=\"currentColor\" text-anchor=\"middle\" y=\"222.0\">\n",
       "    <tspan class=\"displacy-word\" fill=\"currentColor\" x=\"50\">Птица</tspan>\n",
       "    <tspan class=\"displacy-tag\" dy=\"2em\" fill=\"currentColor\" x=\"50\">NOUN</tspan>\n",
       "</text>\n",
       "\n",
       "<text class=\"displacy-token\" fill=\"currentColor\" text-anchor=\"middle\" y=\"222.0\">\n",
       "    <tspan class=\"displacy-word\" fill=\"currentColor\" x=\"225\">отдыхает</tspan>\n",
       "    <tspan class=\"displacy-tag\" dy=\"2em\" fill=\"currentColor\" x=\"225\">VERB</tspan>\n",
       "</text>\n",
       "\n",
       "<text class=\"displacy-token\" fill=\"currentColor\" text-anchor=\"middle\" y=\"222.0\">\n",
       "    <tspan class=\"displacy-word\" fill=\"currentColor\" x=\"400\">у</tspan>\n",
       "    <tspan class=\"displacy-tag\" dy=\"2em\" fill=\"currentColor\" x=\"400\">ADP</tspan>\n",
       "</text>\n",
       "\n",
       "<text class=\"displacy-token\" fill=\"currentColor\" text-anchor=\"middle\" y=\"222.0\">\n",
       "    <tspan class=\"displacy-word\" fill=\"currentColor\" x=\"575\">дерева .</tspan>\n",
       "    <tspan class=\"displacy-tag\" dy=\"2em\" fill=\"currentColor\" x=\"575\">NOUN</tspan>\n",
       "</text>\n",
       "\n",
       "<g class=\"displacy-arrow\">\n",
       "    <path class=\"displacy-arc\" id=\"arrow-90181b8b099e4d55ba5116831998428a-0-0\" stroke-width=\"2px\" d=\"M70,177.0 C70,89.5 220.0,89.5 220.0,177.0\" fill=\"none\" stroke=\"currentColor\"/>\n",
       "    <text dy=\"1.25em\" style=\"font-size: 0.8em; letter-spacing: 1px\">\n",
       "        <textPath xlink:href=\"#arrow-90181b8b099e4d55ba5116831998428a-0-0\" class=\"displacy-label\" startOffset=\"50%\" side=\"left\" fill=\"currentColor\" text-anchor=\"middle\">nsubj</textPath>\n",
       "    </text>\n",
       "    <path class=\"displacy-arrowhead\" d=\"M70,179.0 L62,167.0 78,167.0\" fill=\"currentColor\"/>\n",
       "</g>\n",
       "\n",
       "<g class=\"displacy-arrow\">\n",
       "    <path class=\"displacy-arc\" id=\"arrow-90181b8b099e4d55ba5116831998428a-0-1\" stroke-width=\"2px\" d=\"M420,177.0 C420,89.5 570.0,89.5 570.0,177.0\" fill=\"none\" stroke=\"currentColor\"/>\n",
       "    <text dy=\"1.25em\" style=\"font-size: 0.8em; letter-spacing: 1px\">\n",
       "        <textPath xlink:href=\"#arrow-90181b8b099e4d55ba5116831998428a-0-1\" class=\"displacy-label\" startOffset=\"50%\" side=\"left\" fill=\"currentColor\" text-anchor=\"middle\">case</textPath>\n",
       "    </text>\n",
       "    <path class=\"displacy-arrowhead\" d=\"M420,179.0 L412,167.0 428,167.0\" fill=\"currentColor\"/>\n",
       "</g>\n",
       "\n",
       "<g class=\"displacy-arrow\">\n",
       "    <path class=\"displacy-arc\" id=\"arrow-90181b8b099e4d55ba5116831998428a-0-2\" stroke-width=\"2px\" d=\"M245,177.0 C245,2.0 575.0,2.0 575.0,177.0\" fill=\"none\" stroke=\"currentColor\"/>\n",
       "    <text dy=\"1.25em\" style=\"font-size: 0.8em; letter-spacing: 1px\">\n",
       "        <textPath xlink:href=\"#arrow-90181b8b099e4d55ba5116831998428a-0-2\" class=\"displacy-label\" startOffset=\"50%\" side=\"left\" fill=\"currentColor\" text-anchor=\"middle\">obl</textPath>\n",
       "    </text>\n",
       "    <path class=\"displacy-arrowhead\" d=\"M575.0,179.0 L583.0,167.0 567.0,167.0\" fill=\"currentColor\"/>\n",
       "</g>\n",
       "</svg></span>"
      ],
      "text/plain": [
       "<IPython.core.display.HTML object>"
      ]
     },
     "metadata": {},
     "output_type": "display_data"
    },
    {
     "name": "stdout",
     "output_type": "stream",
     "text": [
      "TokenList<Птица, отдыхает, у, дерева, ., metadata={sent_id: \"7\", text: \"Птица отдыхает у дерева.\"}>\n",
      "dict_items([('id', 1), ('form', 'Птица'), ('lemma', 'птица'), ('upos', 'NOUN'), ('xpos', None), ('feats', {'Animacy': 'Anim', 'Case': 'Nom', 'Gender': 'Fem', 'Number': 'Sing'}), ('head', 2), ('deprel', 'nsubj'), ('deps', None), ('misc', {'TokenRange': '123:128'})])\n",
      "dict_items([('id', 2), ('form', 'отдыхает'), ('lemma', 'отдыхать'), ('upos', 'VERB'), ('xpos', None), ('feats', {'Aspect': 'Imp', 'Mood': 'Ind', 'Number': 'Sing', 'Person': '3', 'Tense': 'Pres', 'VerbForm': 'Fin', 'Voice': 'Act'}), ('head', 0), ('deprel', 'root'), ('deps', None), ('misc', {'TokenRange': '129:137'})])\n",
      "dict_items([('id', 3), ('form', 'у'), ('lemma', 'у'), ('upos', 'ADP'), ('xpos', None), ('feats', None), ('head', 4), ('deprel', 'case'), ('deps', None), ('misc', {'TokenRange': '138:139'})])\n",
      "dict_items([('id', 4), ('form', 'дерева'), ('lemma', 'дерево'), ('upos', 'NOUN'), ('xpos', None), ('feats', {'Animacy': 'Inan', 'Case': 'Gen', 'Gender': 'Neut', 'Number': 'Sing'}), ('head', 2), ('deprel', 'obl'), ('deps', None), ('misc', {'SpaceAfter': 'No', 'TokenRange': '140:146'})])\n",
      "dict_items([('id', 5), ('form', '.'), ('lemma', '.'), ('upos', 'PUNCT'), ('xpos', None), ('feats', None), ('head', 2), ('deprel', 'punct'), ('deps', None), ('misc', {'SpacesAfter': '\\\\n', 'TokenRange': '146:147'})])\n"
     ]
    }
   ],
   "source": [
    "render_doc_by_sent_id(docs, sentences, '7')\n",
    "# The bird rests next to the tree. [place, AT]\n",
    "\n",
    "print(sentences[6])\n",
    "\n",
    "for token in sentences[6]:\n",
    "    print(token.items())"
   ]
  },
  {
   "cell_type": "code",
   "execution_count": null,
   "metadata": {},
   "outputs": [],
   "source": []
  },
  {
   "cell_type": "markdown",
   "metadata": {},
   "source": [
    "GOAL"
   ]
  },
  {
   "cell_type": "code",
   "execution_count": 22,
   "metadata": {},
   "outputs": [
    {
     "data": {
      "text/html": [
       "<span class=\"tex2jax_ignore\"><svg xmlns=\"http://www.w3.org/2000/svg\" xmlns:xlink=\"http://www.w3.org/1999/xlink\" xml:lang=\"ru\" id=\"a4738d2814904a56bd2d6d081e1d8a82-0\" class=\"displacy\" width=\"750\" height=\"312.0\" direction=\"ltr\" style=\"max-width: none; height: 312.0px; color: #000000; background: #ffffff; font-family: Arial; direction: ltr\">\n",
       "<text class=\"displacy-token\" fill=\"currentColor\" text-anchor=\"middle\" y=\"222.0\">\n",
       "    <tspan class=\"displacy-word\" fill=\"currentColor\" x=\"50\">Она</tspan>\n",
       "    <tspan class=\"displacy-tag\" dy=\"2em\" fill=\"currentColor\" x=\"50\">PRON</tspan>\n",
       "</text>\n",
       "\n",
       "<text class=\"displacy-token\" fill=\"currentColor\" text-anchor=\"middle\" y=\"222.0\">\n",
       "    <tspan class=\"displacy-word\" fill=\"currentColor\" x=\"225\">входит</tspan>\n",
       "    <tspan class=\"displacy-tag\" dy=\"2em\" fill=\"currentColor\" x=\"225\">VERB</tspan>\n",
       "</text>\n",
       "\n",
       "<text class=\"displacy-token\" fill=\"currentColor\" text-anchor=\"middle\" y=\"222.0\">\n",
       "    <tspan class=\"displacy-word\" fill=\"currentColor\" x=\"400\">в</tspan>\n",
       "    <tspan class=\"displacy-tag\" dy=\"2em\" fill=\"currentColor\" x=\"400\">ADP</tspan>\n",
       "</text>\n",
       "\n",
       "<text class=\"displacy-token\" fill=\"currentColor\" text-anchor=\"middle\" y=\"222.0\">\n",
       "    <tspan class=\"displacy-word\" fill=\"currentColor\" x=\"575\">магазин .</tspan>\n",
       "    <tspan class=\"displacy-tag\" dy=\"2em\" fill=\"currentColor\" x=\"575\">NOUN</tspan>\n",
       "</text>\n",
       "\n",
       "<g class=\"displacy-arrow\">\n",
       "    <path class=\"displacy-arc\" id=\"arrow-a4738d2814904a56bd2d6d081e1d8a82-0-0\" stroke-width=\"2px\" d=\"M70,177.0 C70,89.5 220.0,89.5 220.0,177.0\" fill=\"none\" stroke=\"currentColor\"/>\n",
       "    <text dy=\"1.25em\" style=\"font-size: 0.8em; letter-spacing: 1px\">\n",
       "        <textPath xlink:href=\"#arrow-a4738d2814904a56bd2d6d081e1d8a82-0-0\" class=\"displacy-label\" startOffset=\"50%\" side=\"left\" fill=\"currentColor\" text-anchor=\"middle\">nsubj</textPath>\n",
       "    </text>\n",
       "    <path class=\"displacy-arrowhead\" d=\"M70,179.0 L62,167.0 78,167.0\" fill=\"currentColor\"/>\n",
       "</g>\n",
       "\n",
       "<g class=\"displacy-arrow\">\n",
       "    <path class=\"displacy-arc\" id=\"arrow-a4738d2814904a56bd2d6d081e1d8a82-0-1\" stroke-width=\"2px\" d=\"M420,177.0 C420,89.5 570.0,89.5 570.0,177.0\" fill=\"none\" stroke=\"currentColor\"/>\n",
       "    <text dy=\"1.25em\" style=\"font-size: 0.8em; letter-spacing: 1px\">\n",
       "        <textPath xlink:href=\"#arrow-a4738d2814904a56bd2d6d081e1d8a82-0-1\" class=\"displacy-label\" startOffset=\"50%\" side=\"left\" fill=\"currentColor\" text-anchor=\"middle\">case</textPath>\n",
       "    </text>\n",
       "    <path class=\"displacy-arrowhead\" d=\"M420,179.0 L412,167.0 428,167.0\" fill=\"currentColor\"/>\n",
       "</g>\n",
       "\n",
       "<g class=\"displacy-arrow\">\n",
       "    <path class=\"displacy-arc\" id=\"arrow-a4738d2814904a56bd2d6d081e1d8a82-0-2\" stroke-width=\"2px\" d=\"M245,177.0 C245,2.0 575.0,2.0 575.0,177.0\" fill=\"none\" stroke=\"currentColor\"/>\n",
       "    <text dy=\"1.25em\" style=\"font-size: 0.8em; letter-spacing: 1px\">\n",
       "        <textPath xlink:href=\"#arrow-a4738d2814904a56bd2d6d081e1d8a82-0-2\" class=\"displacy-label\" startOffset=\"50%\" side=\"left\" fill=\"currentColor\" text-anchor=\"middle\">obl</textPath>\n",
       "    </text>\n",
       "    <path class=\"displacy-arrowhead\" d=\"M575.0,179.0 L583.0,167.0 567.0,167.0\" fill=\"currentColor\"/>\n",
       "</g>\n",
       "</svg></span>"
      ],
      "text/plain": [
       "<IPython.core.display.HTML object>"
      ]
     },
     "metadata": {},
     "output_type": "display_data"
    },
    {
     "name": "stdout",
     "output_type": "stream",
     "text": [
      "TokenList<Она, входит, в, магазин, ., metadata={sent_id: \"2\", text: \"Она входит в магазин.\"}>\n",
      "dict_items([('id', 1), ('form', 'Она'), ('lemma', 'она'), ('upos', 'PRON'), ('xpos', None), ('feats', {'Case': 'Nom', 'Gender': 'Fem', 'Number': 'Sing', 'Person': '3', 'PronType': 'Prs'}), ('head', 2), ('deprel', 'nsubj'), ('deps', None), ('misc', {'TokenRange': '15:18'})])\n",
      "dict_items([('id', 2), ('form', 'входит'), ('lemma', 'входить'), ('upos', 'VERB'), ('xpos', None), ('feats', {'Aspect': 'Imp', 'Mood': 'Ind', 'Number': 'Sing', 'Person': '3', 'Tense': 'Pres', 'VerbForm': 'Fin', 'Voice': 'Act'}), ('head', 0), ('deprel', 'root'), ('deps', None), ('misc', {'TokenRange': '19:25'})])\n",
      "dict_items([('id', 3), ('form', 'в'), ('lemma', 'в'), ('upos', 'ADP'), ('xpos', None), ('feats', None), ('head', 4), ('deprel', 'case'), ('deps', None), ('misc', {'TokenRange': '26:27'})])\n",
      "dict_items([('id', 4), ('form', 'магазин'), ('lemma', 'магазин'), ('upos', 'NOUN'), ('xpos', None), ('feats', {'Animacy': 'Inan', 'Case': 'Acc', 'Gender': 'Masc', 'Number': 'Sing'}), ('head', 2), ('deprel', 'obl'), ('deps', None), ('misc', {'SpaceAfter': 'No', 'TokenRange': '28:35'})])\n",
      "dict_items([('id', 5), ('form', '.'), ('lemma', '.'), ('upos', 'PUNCT'), ('xpos', None), ('feats', None), ('head', 2), ('deprel', 'punct'), ('deps', None), ('misc', {'SpacesAfter': '\\\\n', 'TokenRange': '35:36'})])\n"
     ]
    }
   ],
   "source": [
    "render_doc_by_sent_id(docs, sentences, '2')\n",
    "# She enters the shop.\n",
    "\n",
    "print(sentences[1])\n",
    "\n",
    "for token in sentences[1]:\n",
    "    print(token.items())"
   ]
  },
  {
   "cell_type": "code",
   "execution_count": 23,
   "metadata": {},
   "outputs": [
    {
     "data": {
      "text/html": [
       "<span class=\"tex2jax_ignore\"><svg xmlns=\"http://www.w3.org/2000/svg\" xmlns:xlink=\"http://www.w3.org/1999/xlink\" xml:lang=\"ru\" id=\"e4fd20232de0496583145aca11a717af-0\" class=\"displacy\" width=\"750\" height=\"312.0\" direction=\"ltr\" style=\"max-width: none; height: 312.0px; color: #000000; background: #ffffff; font-family: Arial; direction: ltr\">\n",
       "<text class=\"displacy-token\" fill=\"currentColor\" text-anchor=\"middle\" y=\"222.0\">\n",
       "    <tspan class=\"displacy-word\" fill=\"currentColor\" x=\"50\">Мальчик</tspan>\n",
       "    <tspan class=\"displacy-tag\" dy=\"2em\" fill=\"currentColor\" x=\"50\">NOUN</tspan>\n",
       "</text>\n",
       "\n",
       "<text class=\"displacy-token\" fill=\"currentColor\" text-anchor=\"middle\" y=\"222.0\">\n",
       "    <tspan class=\"displacy-word\" fill=\"currentColor\" x=\"225\">прыгнул</tspan>\n",
       "    <tspan class=\"displacy-tag\" dy=\"2em\" fill=\"currentColor\" x=\"225\">VERB</tspan>\n",
       "</text>\n",
       "\n",
       "<text class=\"displacy-token\" fill=\"currentColor\" text-anchor=\"middle\" y=\"222.0\">\n",
       "    <tspan class=\"displacy-word\" fill=\"currentColor\" x=\"400\">на</tspan>\n",
       "    <tspan class=\"displacy-tag\" dy=\"2em\" fill=\"currentColor\" x=\"400\">ADP</tspan>\n",
       "</text>\n",
       "\n",
       "<text class=\"displacy-token\" fill=\"currentColor\" text-anchor=\"middle\" y=\"222.0\">\n",
       "    <tspan class=\"displacy-word\" fill=\"currentColor\" x=\"575\">стол .</tspan>\n",
       "    <tspan class=\"displacy-tag\" dy=\"2em\" fill=\"currentColor\" x=\"575\">NOUN</tspan>\n",
       "</text>\n",
       "\n",
       "<g class=\"displacy-arrow\">\n",
       "    <path class=\"displacy-arc\" id=\"arrow-e4fd20232de0496583145aca11a717af-0-0\" stroke-width=\"2px\" d=\"M70,177.0 C70,89.5 220.0,89.5 220.0,177.0\" fill=\"none\" stroke=\"currentColor\"/>\n",
       "    <text dy=\"1.25em\" style=\"font-size: 0.8em; letter-spacing: 1px\">\n",
       "        <textPath xlink:href=\"#arrow-e4fd20232de0496583145aca11a717af-0-0\" class=\"displacy-label\" startOffset=\"50%\" side=\"left\" fill=\"currentColor\" text-anchor=\"middle\">nsubj</textPath>\n",
       "    </text>\n",
       "    <path class=\"displacy-arrowhead\" d=\"M70,179.0 L62,167.0 78,167.0\" fill=\"currentColor\"/>\n",
       "</g>\n",
       "\n",
       "<g class=\"displacy-arrow\">\n",
       "    <path class=\"displacy-arc\" id=\"arrow-e4fd20232de0496583145aca11a717af-0-1\" stroke-width=\"2px\" d=\"M420,177.0 C420,89.5 570.0,89.5 570.0,177.0\" fill=\"none\" stroke=\"currentColor\"/>\n",
       "    <text dy=\"1.25em\" style=\"font-size: 0.8em; letter-spacing: 1px\">\n",
       "        <textPath xlink:href=\"#arrow-e4fd20232de0496583145aca11a717af-0-1\" class=\"displacy-label\" startOffset=\"50%\" side=\"left\" fill=\"currentColor\" text-anchor=\"middle\">case</textPath>\n",
       "    </text>\n",
       "    <path class=\"displacy-arrowhead\" d=\"M420,179.0 L412,167.0 428,167.0\" fill=\"currentColor\"/>\n",
       "</g>\n",
       "\n",
       "<g class=\"displacy-arrow\">\n",
       "    <path class=\"displacy-arc\" id=\"arrow-e4fd20232de0496583145aca11a717af-0-2\" stroke-width=\"2px\" d=\"M245,177.0 C245,2.0 575.0,2.0 575.0,177.0\" fill=\"none\" stroke=\"currentColor\"/>\n",
       "    <text dy=\"1.25em\" style=\"font-size: 0.8em; letter-spacing: 1px\">\n",
       "        <textPath xlink:href=\"#arrow-e4fd20232de0496583145aca11a717af-0-2\" class=\"displacy-label\" startOffset=\"50%\" side=\"left\" fill=\"currentColor\" text-anchor=\"middle\">obl</textPath>\n",
       "    </text>\n",
       "    <path class=\"displacy-arrowhead\" d=\"M575.0,179.0 L583.0,167.0 567.0,167.0\" fill=\"currentColor\"/>\n",
       "</g>\n",
       "</svg></span>"
      ],
      "text/plain": [
       "<IPython.core.display.HTML object>"
      ]
     },
     "metadata": {},
     "output_type": "display_data"
    },
    {
     "name": "stdout",
     "output_type": "stream",
     "text": [
      "TokenList<Мальчик, прыгнул, на, стол, ., metadata={sent_id: \"5\", text: \"Мальчик прыгнул на стол.\"}>\n",
      "dict_items([('id', 1), ('form', 'Мальчик'), ('lemma', 'мальчик'), ('upos', 'NOUN'), ('xpos', None), ('feats', {'Animacy': 'Anim', 'Case': 'Nom', 'Gender': 'Masc', 'Number': 'Sing'}), ('head', 2), ('deprel', 'nsubj'), ('deps', None), ('misc', {'TokenRange': '73:80'})])\n",
      "dict_items([('id', 2), ('form', 'прыгнул'), ('lemma', 'прыгать'), ('upos', 'VERB'), ('xpos', None), ('feats', {'Aspect': 'Perf', 'Gender': 'Masc', 'Mood': 'Ind', 'Number': 'Sing', 'Tense': 'Past', 'VerbForm': 'Fin', 'Voice': 'Act'}), ('head', 0), ('deprel', 'root'), ('deps', None), ('misc', {'TokenRange': '81:88'})])\n",
      "dict_items([('id', 3), ('form', 'на'), ('lemma', 'на'), ('upos', 'ADP'), ('xpos', None), ('feats', None), ('head', 4), ('deprel', 'case'), ('deps', None), ('misc', {'TokenRange': '89:91'})])\n",
      "dict_items([('id', 4), ('form', 'стол'), ('lemma', 'стол'), ('upos', 'NOUN'), ('xpos', None), ('feats', {'Animacy': 'Inan', 'Case': 'Acc', 'Gender': 'Masc', 'Number': 'Sing'}), ('head', 2), ('deprel', 'obl'), ('deps', None), ('misc', {'SpaceAfter': 'No', 'TokenRange': '92:96'})])\n",
      "dict_items([('id', 5), ('form', '.'), ('lemma', '.'), ('upos', 'PUNCT'), ('xpos', None), ('feats', None), ('head', 2), ('deprel', 'punct'), ('deps', None), ('misc', {'SpacesAfter': '\\\\n', 'TokenRange': '96:97'})])\n"
     ]
    }
   ],
   "source": [
    "render_doc_by_sent_id(docs, sentences, '5')\n",
    "# The boy jumped onto the table.\n",
    "\n",
    "print(sentences[4])\n",
    "\n",
    "for token in sentences[4]:\n",
    "    print(token.items())"
   ]
  },
  {
   "cell_type": "code",
   "execution_count": null,
   "metadata": {},
   "outputs": [
    {
     "data": {
      "text/html": [
       "<span class=\"tex2jax_ignore\"><svg xmlns=\"http://www.w3.org/2000/svg\" xmlns:xlink=\"http://www.w3.org/1999/xlink\" xml:lang=\"ru\" id=\"a559c95714db422e858a7176554620d4-0\" class=\"displacy\" width=\"750\" height=\"312.0\" direction=\"ltr\" style=\"max-width: none; height: 312.0px; color: #000000; background: #ffffff; font-family: Arial; direction: ltr\">\n",
       "<text class=\"displacy-token\" fill=\"currentColor\" text-anchor=\"middle\" y=\"222.0\">\n",
       "    <tspan class=\"displacy-word\" fill=\"currentColor\" x=\"50\">Мальчик</tspan>\n",
       "    <tspan class=\"displacy-tag\" dy=\"2em\" fill=\"currentColor\" x=\"50\">NOUN</tspan>\n",
       "</text>\n",
       "\n",
       "<text class=\"displacy-token\" fill=\"currentColor\" text-anchor=\"middle\" y=\"222.0\">\n",
       "    <tspan class=\"displacy-word\" fill=\"currentColor\" x=\"225\">бежит</tspan>\n",
       "    <tspan class=\"displacy-tag\" dy=\"2em\" fill=\"currentColor\" x=\"225\">VERB</tspan>\n",
       "</text>\n",
       "\n",
       "<text class=\"displacy-token\" fill=\"currentColor\" text-anchor=\"middle\" y=\"222.0\">\n",
       "    <tspan class=\"displacy-word\" fill=\"currentColor\" x=\"400\">к</tspan>\n",
       "    <tspan class=\"displacy-tag\" dy=\"2em\" fill=\"currentColor\" x=\"400\">ADP</tspan>\n",
       "</text>\n",
       "\n",
       "<text class=\"displacy-token\" fill=\"currentColor\" text-anchor=\"middle\" y=\"222.0\">\n",
       "    <tspan class=\"displacy-word\" fill=\"currentColor\" x=\"575\">дереву .</tspan>\n",
       "    <tspan class=\"displacy-tag\" dy=\"2em\" fill=\"currentColor\" x=\"575\">NOUN</tspan>\n",
       "</text>\n",
       "\n",
       "<g class=\"displacy-arrow\">\n",
       "    <path class=\"displacy-arc\" id=\"arrow-a559c95714db422e858a7176554620d4-0-0\" stroke-width=\"2px\" d=\"M70,177.0 C70,89.5 220.0,89.5 220.0,177.0\" fill=\"none\" stroke=\"currentColor\"/>\n",
       "    <text dy=\"1.25em\" style=\"font-size: 0.8em; letter-spacing: 1px\">\n",
       "        <textPath xlink:href=\"#arrow-a559c95714db422e858a7176554620d4-0-0\" class=\"displacy-label\" startOffset=\"50%\" side=\"left\" fill=\"currentColor\" text-anchor=\"middle\">nsubj</textPath>\n",
       "    </text>\n",
       "    <path class=\"displacy-arrowhead\" d=\"M70,179.0 L62,167.0 78,167.0\" fill=\"currentColor\"/>\n",
       "</g>\n",
       "\n",
       "<g class=\"displacy-arrow\">\n",
       "    <path class=\"displacy-arc\" id=\"arrow-a559c95714db422e858a7176554620d4-0-1\" stroke-width=\"2px\" d=\"M420,177.0 C420,89.5 570.0,89.5 570.0,177.0\" fill=\"none\" stroke=\"currentColor\"/>\n",
       "    <text dy=\"1.25em\" style=\"font-size: 0.8em; letter-spacing: 1px\">\n",
       "        <textPath xlink:href=\"#arrow-a559c95714db422e858a7176554620d4-0-1\" class=\"displacy-label\" startOffset=\"50%\" side=\"left\" fill=\"currentColor\" text-anchor=\"middle\">case</textPath>\n",
       "    </text>\n",
       "    <path class=\"displacy-arrowhead\" d=\"M420,179.0 L412,167.0 428,167.0\" fill=\"currentColor\"/>\n",
       "</g>\n",
       "\n",
       "<g class=\"displacy-arrow\">\n",
       "    <path class=\"displacy-arc\" id=\"arrow-a559c95714db422e858a7176554620d4-0-2\" stroke-width=\"2px\" d=\"M245,177.0 C245,2.0 575.0,2.0 575.0,177.0\" fill=\"none\" stroke=\"currentColor\"/>\n",
       "    <text dy=\"1.25em\" style=\"font-size: 0.8em; letter-spacing: 1px\">\n",
       "        <textPath xlink:href=\"#arrow-a559c95714db422e858a7176554620d4-0-2\" class=\"displacy-label\" startOffset=\"50%\" side=\"left\" fill=\"currentColor\" text-anchor=\"middle\">obl</textPath>\n",
       "    </text>\n",
       "    <path class=\"displacy-arrowhead\" d=\"M575.0,179.0 L583.0,167.0 567.0,167.0\" fill=\"currentColor\"/>\n",
       "</g>\n",
       "</svg></span>"
      ],
      "text/plain": [
       "<IPython.core.display.HTML object>"
      ]
     },
     "metadata": {},
     "output_type": "display_data"
    },
    {
     "name": "stdout",
     "output_type": "stream",
     "text": [
      "TokenList<Мальчик, бежит, к, дереву, ., metadata={sent_id: \"8\", text: \"Мальчик бежит к дереву.\"}>\n",
      "dict_items([('id', 1), ('form', 'Мальчик'), ('lemma', 'мальчик'), ('upos', 'NOUN'), ('xpos', None), ('feats', {'Animacy': 'Anim', 'Case': 'Nom', 'Gender': 'Masc', 'Number': 'Sing'}), ('head', 2), ('deprel', 'nsubj'), ('deps', None), ('misc', {'TokenRange': '148:155'})])\n",
      "dict_items([('id', 2), ('form', 'бежит'), ('lemma', 'бежать'), ('upos', 'VERB'), ('xpos', None), ('feats', {'Aspect': 'Imp', 'Mood': 'Ind', 'Number': 'Sing', 'Person': '3', 'Tense': 'Pres', 'VerbForm': 'Fin', 'Voice': 'Act'}), ('head', 0), ('deprel', 'root'), ('deps', None), ('misc', {'TokenRange': '156:161'})])\n",
      "dict_items([('id', 3), ('form', 'к'), ('lemma', 'к'), ('upos', 'ADP'), ('xpos', None), ('feats', None), ('head', 4), ('deprel', 'case'), ('deps', None), ('misc', {'TokenRange': '162:163'})])\n",
      "dict_items([('id', 4), ('form', 'дереву'), ('lemma', 'дерево'), ('upos', 'NOUN'), ('xpos', None), ('feats', {'Animacy': 'Inan', 'Case': 'Dat', 'Gender': 'Neut', 'Number': 'Sing'}), ('head', 2), ('deprel', 'obl'), ('deps', None), ('misc', {'SpaceAfter': 'No', 'TokenRange': '164:170'})])\n",
      "dict_items([('id', 5), ('form', '.'), ('lemma', '.'), ('upos', 'PUNCT'), ('xpos', None), ('feats', None), ('head', 2), ('deprel', 'punct'), ('deps', None), ('misc', {'SpacesAfter': '\\\\n', 'TokenRange': '170:171'})])\n"
     ]
    }
   ],
   "source": [
    "render_doc_by_sent_id(docs, sentences, '8')\n",
    "# The boy runs toward the tree.\n",
    "\n",
    "\n",
    "print(sentences[7])\n",
    "\n",
    "for token in sentences[7]:\n",
    "    print(token.items())"
   ]
  },
  {
   "cell_type": "markdown",
   "metadata": {},
   "source": [
    "SOURCE"
   ]
  },
  {
   "cell_type": "code",
   "execution_count": 26,
   "metadata": {},
   "outputs": [
    {
     "data": {
      "text/html": [
       "<span class=\"tex2jax_ignore\"><svg xmlns=\"http://www.w3.org/2000/svg\" xmlns:xlink=\"http://www.w3.org/1999/xlink\" xml:lang=\"ru\" id=\"dfbcbcee6ae146fc8c8d883e6177eb0d-0\" class=\"displacy\" width=\"750\" height=\"312.0\" direction=\"ltr\" style=\"max-width: none; height: 312.0px; color: #000000; background: #ffffff; font-family: Arial; direction: ltr\">\n",
       "<text class=\"displacy-token\" fill=\"currentColor\" text-anchor=\"middle\" y=\"222.0\">\n",
       "    <tspan class=\"displacy-word\" fill=\"currentColor\" x=\"50\">Он</tspan>\n",
       "    <tspan class=\"displacy-tag\" dy=\"2em\" fill=\"currentColor\" x=\"50\">PRON</tspan>\n",
       "</text>\n",
       "\n",
       "<text class=\"displacy-token\" fill=\"currentColor\" text-anchor=\"middle\" y=\"222.0\">\n",
       "    <tspan class=\"displacy-word\" fill=\"currentColor\" x=\"225\">вышел</tspan>\n",
       "    <tspan class=\"displacy-tag\" dy=\"2em\" fill=\"currentColor\" x=\"225\">VERB</tspan>\n",
       "</text>\n",
       "\n",
       "<text class=\"displacy-token\" fill=\"currentColor\" text-anchor=\"middle\" y=\"222.0\">\n",
       "    <tspan class=\"displacy-word\" fill=\"currentColor\" x=\"400\">из</tspan>\n",
       "    <tspan class=\"displacy-tag\" dy=\"2em\" fill=\"currentColor\" x=\"400\">ADP</tspan>\n",
       "</text>\n",
       "\n",
       "<text class=\"displacy-token\" fill=\"currentColor\" text-anchor=\"middle\" y=\"222.0\">\n",
       "    <tspan class=\"displacy-word\" fill=\"currentColor\" x=\"575\">пещеры .</tspan>\n",
       "    <tspan class=\"displacy-tag\" dy=\"2em\" fill=\"currentColor\" x=\"575\">NOUN</tspan>\n",
       "</text>\n",
       "\n",
       "<g class=\"displacy-arrow\">\n",
       "    <path class=\"displacy-arc\" id=\"arrow-dfbcbcee6ae146fc8c8d883e6177eb0d-0-0\" stroke-width=\"2px\" d=\"M70,177.0 C70,89.5 220.0,89.5 220.0,177.0\" fill=\"none\" stroke=\"currentColor\"/>\n",
       "    <text dy=\"1.25em\" style=\"font-size: 0.8em; letter-spacing: 1px\">\n",
       "        <textPath xlink:href=\"#arrow-dfbcbcee6ae146fc8c8d883e6177eb0d-0-0\" class=\"displacy-label\" startOffset=\"50%\" side=\"left\" fill=\"currentColor\" text-anchor=\"middle\">nsubj</textPath>\n",
       "    </text>\n",
       "    <path class=\"displacy-arrowhead\" d=\"M70,179.0 L62,167.0 78,167.0\" fill=\"currentColor\"/>\n",
       "</g>\n",
       "\n",
       "<g class=\"displacy-arrow\">\n",
       "    <path class=\"displacy-arc\" id=\"arrow-dfbcbcee6ae146fc8c8d883e6177eb0d-0-1\" stroke-width=\"2px\" d=\"M420,177.0 C420,89.5 570.0,89.5 570.0,177.0\" fill=\"none\" stroke=\"currentColor\"/>\n",
       "    <text dy=\"1.25em\" style=\"font-size: 0.8em; letter-spacing: 1px\">\n",
       "        <textPath xlink:href=\"#arrow-dfbcbcee6ae146fc8c8d883e6177eb0d-0-1\" class=\"displacy-label\" startOffset=\"50%\" side=\"left\" fill=\"currentColor\" text-anchor=\"middle\">case</textPath>\n",
       "    </text>\n",
       "    <path class=\"displacy-arrowhead\" d=\"M420,179.0 L412,167.0 428,167.0\" fill=\"currentColor\"/>\n",
       "</g>\n",
       "\n",
       "<g class=\"displacy-arrow\">\n",
       "    <path class=\"displacy-arc\" id=\"arrow-dfbcbcee6ae146fc8c8d883e6177eb0d-0-2\" stroke-width=\"2px\" d=\"M245,177.0 C245,2.0 575.0,2.0 575.0,177.0\" fill=\"none\" stroke=\"currentColor\"/>\n",
       "    <text dy=\"1.25em\" style=\"font-size: 0.8em; letter-spacing: 1px\">\n",
       "        <textPath xlink:href=\"#arrow-dfbcbcee6ae146fc8c8d883e6177eb0d-0-2\" class=\"displacy-label\" startOffset=\"50%\" side=\"left\" fill=\"currentColor\" text-anchor=\"middle\">obl</textPath>\n",
       "    </text>\n",
       "    <path class=\"displacy-arrowhead\" d=\"M575.0,179.0 L583.0,167.0 567.0,167.0\" fill=\"currentColor\"/>\n",
       "</g>\n",
       "</svg></span>"
      ],
      "text/plain": [
       "<IPython.core.display.HTML object>"
      ]
     },
     "metadata": {},
     "output_type": "display_data"
    },
    {
     "name": "stdout",
     "output_type": "stream",
     "text": [
      "TokenList<Он, вышел, из, пещеры, ., metadata={sent_id: \"3\", text: \"Он вышел из пещеры.\"}>\n",
      "dict_items([('id', 1), ('form', 'Он'), ('lemma', 'он'), ('upos', 'PRON'), ('xpos', None), ('feats', {'Case': 'Nom', 'Gender': 'Masc', 'Number': 'Sing', 'Person': '3'}), ('head', 2), ('deprel', 'nsubj'), ('deps', None), ('misc', {'TokenRange': '37:39'})])\n",
      "dict_items([('id', 2), ('form', 'вышел'), ('lemma', 'выйти'), ('upos', 'VERB'), ('xpos', None), ('feats', {'Aspect': 'Perf', 'Gender': 'Masc', 'Mood': 'Ind', 'Number': 'Sing', 'Tense': 'Past', 'VerbForm': 'Fin', 'Voice': 'Act'}), ('head', 0), ('deprel', 'root'), ('deps', None), ('misc', {'TokenRange': '40:45'})])\n",
      "dict_items([('id', 3), ('form', 'из'), ('lemma', 'из'), ('upos', 'ADP'), ('xpos', None), ('feats', None), ('head', 4), ('deprel', 'case'), ('deps', None), ('misc', {'TokenRange': '46:48'})])\n",
      "dict_items([('id', 4), ('form', 'пещеры'), ('lemma', 'пещера'), ('upos', 'NOUN'), ('xpos', None), ('feats', {'Animacy': 'Inan', 'Case': 'Gen', 'Gender': 'Fem', 'Number': 'Sing'}), ('head', 2), ('deprel', 'obl'), ('deps', None), ('misc', {'SpaceAfter': 'No', 'TokenRange': '49:55'})])\n",
      "dict_items([('id', 5), ('form', '.'), ('lemma', '.'), ('upos', 'PUNCT'), ('xpos', None), ('feats', None), ('head', 2), ('deprel', 'punct'), ('deps', None), ('misc', {'SpacesAfter': '\\\\n', 'TokenRange': '55:56'})])\n"
     ]
    }
   ],
   "source": [
    "\n",
    "render_doc_by_sent_id(docs, sentences, '3')\n",
    "# He came out of the cave.\n",
    "\n",
    "\n",
    "print(sentences[2])\n",
    "\n",
    "for token in sentences[2]:\n",
    "    print(token.items())"
   ]
  },
  {
   "cell_type": "code",
   "execution_count": 29,
   "metadata": {},
   "outputs": [
    {
     "data": {
      "text/html": [
       "<span class=\"tex2jax_ignore\"><svg xmlns=\"http://www.w3.org/2000/svg\" xmlns:xlink=\"http://www.w3.org/1999/xlink\" xml:lang=\"ru\" id=\"733000bf531d4c60ac4159ff0064dcbb-0\" class=\"displacy\" width=\"750\" height=\"312.0\" direction=\"ltr\" style=\"max-width: none; height: 312.0px; color: #000000; background: #ffffff; font-family: Arial; direction: ltr\">\n",
       "<text class=\"displacy-token\" fill=\"currentColor\" text-anchor=\"middle\" y=\"222.0\">\n",
       "    <tspan class=\"displacy-word\" fill=\"currentColor\" x=\"50\">Девочка</tspan>\n",
       "    <tspan class=\"displacy-tag\" dy=\"2em\" fill=\"currentColor\" x=\"50\">NOUN</tspan>\n",
       "</text>\n",
       "\n",
       "<text class=\"displacy-token\" fill=\"currentColor\" text-anchor=\"middle\" y=\"222.0\">\n",
       "    <tspan class=\"displacy-word\" fill=\"currentColor\" x=\"225\">слезла</tspan>\n",
       "    <tspan class=\"displacy-tag\" dy=\"2em\" fill=\"currentColor\" x=\"225\">VERB</tspan>\n",
       "</text>\n",
       "\n",
       "<text class=\"displacy-token\" fill=\"currentColor\" text-anchor=\"middle\" y=\"222.0\">\n",
       "    <tspan class=\"displacy-word\" fill=\"currentColor\" x=\"400\">со</tspan>\n",
       "    <tspan class=\"displacy-tag\" dy=\"2em\" fill=\"currentColor\" x=\"400\">ADP</tspan>\n",
       "</text>\n",
       "\n",
       "<text class=\"displacy-token\" fill=\"currentColor\" text-anchor=\"middle\" y=\"222.0\">\n",
       "    <tspan class=\"displacy-word\" fill=\"currentColor\" x=\"575\">стола .</tspan>\n",
       "    <tspan class=\"displacy-tag\" dy=\"2em\" fill=\"currentColor\" x=\"575\">NOUN</tspan>\n",
       "</text>\n",
       "\n",
       "<g class=\"displacy-arrow\">\n",
       "    <path class=\"displacy-arc\" id=\"arrow-733000bf531d4c60ac4159ff0064dcbb-0-0\" stroke-width=\"2px\" d=\"M70,177.0 C70,89.5 220.0,89.5 220.0,177.0\" fill=\"none\" stroke=\"currentColor\"/>\n",
       "    <text dy=\"1.25em\" style=\"font-size: 0.8em; letter-spacing: 1px\">\n",
       "        <textPath xlink:href=\"#arrow-733000bf531d4c60ac4159ff0064dcbb-0-0\" class=\"displacy-label\" startOffset=\"50%\" side=\"left\" fill=\"currentColor\" text-anchor=\"middle\">nsubj</textPath>\n",
       "    </text>\n",
       "    <path class=\"displacy-arrowhead\" d=\"M70,179.0 L62,167.0 78,167.0\" fill=\"currentColor\"/>\n",
       "</g>\n",
       "\n",
       "<g class=\"displacy-arrow\">\n",
       "    <path class=\"displacy-arc\" id=\"arrow-733000bf531d4c60ac4159ff0064dcbb-0-1\" stroke-width=\"2px\" d=\"M420,177.0 C420,89.5 570.0,89.5 570.0,177.0\" fill=\"none\" stroke=\"currentColor\"/>\n",
       "    <text dy=\"1.25em\" style=\"font-size: 0.8em; letter-spacing: 1px\">\n",
       "        <textPath xlink:href=\"#arrow-733000bf531d4c60ac4159ff0064dcbb-0-1\" class=\"displacy-label\" startOffset=\"50%\" side=\"left\" fill=\"currentColor\" text-anchor=\"middle\">case</textPath>\n",
       "    </text>\n",
       "    <path class=\"displacy-arrowhead\" d=\"M420,179.0 L412,167.0 428,167.0\" fill=\"currentColor\"/>\n",
       "</g>\n",
       "\n",
       "<g class=\"displacy-arrow\">\n",
       "    <path class=\"displacy-arc\" id=\"arrow-733000bf531d4c60ac4159ff0064dcbb-0-2\" stroke-width=\"2px\" d=\"M245,177.0 C245,2.0 575.0,2.0 575.0,177.0\" fill=\"none\" stroke=\"currentColor\"/>\n",
       "    <text dy=\"1.25em\" style=\"font-size: 0.8em; letter-spacing: 1px\">\n",
       "        <textPath xlink:href=\"#arrow-733000bf531d4c60ac4159ff0064dcbb-0-2\" class=\"displacy-label\" startOffset=\"50%\" side=\"left\" fill=\"currentColor\" text-anchor=\"middle\">obl</textPath>\n",
       "    </text>\n",
       "    <path class=\"displacy-arrowhead\" d=\"M575.0,179.0 L583.0,167.0 567.0,167.0\" fill=\"currentColor\"/>\n",
       "</g>\n",
       "</svg></span>"
      ],
      "text/plain": [
       "<IPython.core.display.HTML object>"
      ]
     },
     "metadata": {},
     "output_type": "display_data"
    },
    {
     "name": "stdout",
     "output_type": "stream",
     "text": [
      "TokenList<Девочка, слезла, со, стола, ., metadata={sent_id: \"6\", text: \"Девочка слезла со стола.\"}>\n",
      "dict_items([('id', 1), ('form', 'Девочка'), ('lemma', 'девочка'), ('upos', 'NOUN'), ('xpos', None), ('feats', {'Animacy': 'Anim', 'Case': 'Nom', 'Gender': 'Fem', 'Number': 'Sing'}), ('head', 2), ('deprel', 'nsubj'), ('deps', None), ('misc', {'TokenRange': '98:105'})])\n",
      "dict_items([('id', 2), ('form', 'слезла'), ('lemma', 'слезть'), ('upos', 'VERB'), ('xpos', None), ('feats', {'Aspect': 'Perf', 'Gender': 'Fem', 'Mood': 'Ind', 'Number': 'Sing', 'Tense': 'Past', 'VerbForm': 'Fin', 'Voice': 'Act'}), ('head', 0), ('deprel', 'root'), ('deps', None), ('misc', {'TokenRange': '106:112'})])\n",
      "dict_items([('id', 3), ('form', 'со'), ('lemma', 'с'), ('upos', 'ADP'), ('xpos', None), ('feats', None), ('head', 4), ('deprel', 'case'), ('deps', None), ('misc', {'TokenRange': '113:115'})])\n",
      "dict_items([('id', 4), ('form', 'стола'), ('lemma', 'стол'), ('upos', 'NOUN'), ('xpos', None), ('feats', {'Animacy': 'Inan', 'Case': 'Gen', 'Gender': 'Masc', 'Number': 'Sing'}), ('head', 2), ('deprel', 'obl'), ('deps', None), ('misc', {'SpaceAfter': 'No', 'TokenRange': '116:121'})])\n",
      "dict_items([('id', 5), ('form', '.'), ('lemma', '.'), ('upos', 'PUNCT'), ('xpos', None), ('feats', None), ('head', 2), ('deprel', 'punct'), ('deps', None), ('misc', {'SpacesAfter': '\\\\n', 'TokenRange': '121:122'})])\n"
     ]
    }
   ],
   "source": [
    "render_doc_by_sent_id(docs, sentences, '6')\n",
    "# The girl climbed down from the table.\n",
    "\n",
    "\n",
    "print(sentences[5])\n",
    "\n",
    "for token in sentences[5]:\n",
    "    print(token.items())"
   ]
  },
  {
   "cell_type": "code",
   "execution_count": 30,
   "metadata": {},
   "outputs": [
    {
     "data": {
      "text/html": [
       "<span class=\"tex2jax_ignore\"><svg xmlns=\"http://www.w3.org/2000/svg\" xmlns:xlink=\"http://www.w3.org/1999/xlink\" xml:lang=\"ru\" id=\"8029192c8a724f379b2152ac1528ba27-0\" class=\"displacy\" width=\"750\" height=\"312.0\" direction=\"ltr\" style=\"max-width: none; height: 312.0px; color: #000000; background: #ffffff; font-family: Arial; direction: ltr\">\n",
       "<text class=\"displacy-token\" fill=\"currentColor\" text-anchor=\"middle\" y=\"222.0\">\n",
       "    <tspan class=\"displacy-word\" fill=\"currentColor\" x=\"50\">Белка</tspan>\n",
       "    <tspan class=\"displacy-tag\" dy=\"2em\" fill=\"currentColor\" x=\"50\">NOUN</tspan>\n",
       "</text>\n",
       "\n",
       "<text class=\"displacy-token\" fill=\"currentColor\" text-anchor=\"middle\" y=\"222.0\">\n",
       "    <tspan class=\"displacy-word\" fill=\"currentColor\" x=\"225\">отошла</tspan>\n",
       "    <tspan class=\"displacy-tag\" dy=\"2em\" fill=\"currentColor\" x=\"225\">VERB</tspan>\n",
       "</text>\n",
       "\n",
       "<text class=\"displacy-token\" fill=\"currentColor\" text-anchor=\"middle\" y=\"222.0\">\n",
       "    <tspan class=\"displacy-word\" fill=\"currentColor\" x=\"400\">от</tspan>\n",
       "    <tspan class=\"displacy-tag\" dy=\"2em\" fill=\"currentColor\" x=\"400\">ADP</tspan>\n",
       "</text>\n",
       "\n",
       "<text class=\"displacy-token\" fill=\"currentColor\" text-anchor=\"middle\" y=\"222.0\">\n",
       "    <tspan class=\"displacy-word\" fill=\"currentColor\" x=\"575\">дерева .</tspan>\n",
       "    <tspan class=\"displacy-tag\" dy=\"2em\" fill=\"currentColor\" x=\"575\">NOUN</tspan>\n",
       "</text>\n",
       "\n",
       "<g class=\"displacy-arrow\">\n",
       "    <path class=\"displacy-arc\" id=\"arrow-8029192c8a724f379b2152ac1528ba27-0-0\" stroke-width=\"2px\" d=\"M70,177.0 C70,89.5 220.0,89.5 220.0,177.0\" fill=\"none\" stroke=\"currentColor\"/>\n",
       "    <text dy=\"1.25em\" style=\"font-size: 0.8em; letter-spacing: 1px\">\n",
       "        <textPath xlink:href=\"#arrow-8029192c8a724f379b2152ac1528ba27-0-0\" class=\"displacy-label\" startOffset=\"50%\" side=\"left\" fill=\"currentColor\" text-anchor=\"middle\">nsubj</textPath>\n",
       "    </text>\n",
       "    <path class=\"displacy-arrowhead\" d=\"M70,179.0 L62,167.0 78,167.0\" fill=\"currentColor\"/>\n",
       "</g>\n",
       "\n",
       "<g class=\"displacy-arrow\">\n",
       "    <path class=\"displacy-arc\" id=\"arrow-8029192c8a724f379b2152ac1528ba27-0-1\" stroke-width=\"2px\" d=\"M420,177.0 C420,89.5 570.0,89.5 570.0,177.0\" fill=\"none\" stroke=\"currentColor\"/>\n",
       "    <text dy=\"1.25em\" style=\"font-size: 0.8em; letter-spacing: 1px\">\n",
       "        <textPath xlink:href=\"#arrow-8029192c8a724f379b2152ac1528ba27-0-1\" class=\"displacy-label\" startOffset=\"50%\" side=\"left\" fill=\"currentColor\" text-anchor=\"middle\">case</textPath>\n",
       "    </text>\n",
       "    <path class=\"displacy-arrowhead\" d=\"M420,179.0 L412,167.0 428,167.0\" fill=\"currentColor\"/>\n",
       "</g>\n",
       "\n",
       "<g class=\"displacy-arrow\">\n",
       "    <path class=\"displacy-arc\" id=\"arrow-8029192c8a724f379b2152ac1528ba27-0-2\" stroke-width=\"2px\" d=\"M245,177.0 C245,2.0 575.0,2.0 575.0,177.0\" fill=\"none\" stroke=\"currentColor\"/>\n",
       "    <text dy=\"1.25em\" style=\"font-size: 0.8em; letter-spacing: 1px\">\n",
       "        <textPath xlink:href=\"#arrow-8029192c8a724f379b2152ac1528ba27-0-2\" class=\"displacy-label\" startOffset=\"50%\" side=\"left\" fill=\"currentColor\" text-anchor=\"middle\">obl</textPath>\n",
       "    </text>\n",
       "    <path class=\"displacy-arrowhead\" d=\"M575.0,179.0 L583.0,167.0 567.0,167.0\" fill=\"currentColor\"/>\n",
       "</g>\n",
       "</svg></span>"
      ],
      "text/plain": [
       "<IPython.core.display.HTML object>"
      ]
     },
     "metadata": {},
     "output_type": "display_data"
    },
    {
     "name": "stdout",
     "output_type": "stream",
     "text": [
      "TokenList<Белка, отошла, от, дерева, ., metadata={sent_id: \"9\", text: \"Белка отошла от дерева.\"}>\n",
      "dict_items([('id', 1), ('form', 'Белка'), ('lemma', 'белка'), ('upos', 'NOUN'), ('xpos', None), ('feats', {'Animacy': 'Inan', 'Case': 'Nom', 'Gender': 'Fem', 'Number': 'Sing'}), ('head', 2), ('deprel', 'nsubj'), ('deps', None), ('misc', {'TokenRange': '172:177'})])\n",
      "dict_items([('id', 2), ('form', 'отошла'), ('lemma', 'отойти'), ('upos', 'VERB'), ('xpos', None), ('feats', {'Aspect': 'Perf', 'Gender': 'Fem', 'Mood': 'Ind', 'Number': 'Sing', 'Tense': 'Past', 'VerbForm': 'Fin', 'Voice': 'Act'}), ('head', 0), ('deprel', 'root'), ('deps', None), ('misc', {'TokenRange': '178:184'})])\n",
      "dict_items([('id', 3), ('form', 'от'), ('lemma', 'от'), ('upos', 'ADP'), ('xpos', None), ('feats', None), ('head', 4), ('deprel', 'case'), ('deps', None), ('misc', {'TokenRange': '185:187'})])\n",
      "dict_items([('id', 4), ('form', 'дерева'), ('lemma', 'дерево'), ('upos', 'NOUN'), ('xpos', None), ('feats', {'Animacy': 'Inan', 'Case': 'Gen', 'Gender': 'Neut', 'Number': 'Sing'}), ('head', 2), ('deprel', 'obl'), ('deps', None), ('misc', {'SpaceAfter': 'No', 'TokenRange': '188:194'})])\n",
      "dict_items([('id', 5), ('form', '.'), ('lemma', '.'), ('upos', 'PUNCT'), ('xpos', None), ('feats', None), ('head', 2), ('deprel', 'punct'), ('deps', None), ('misc', {'SpaceAfter': 'No', 'TokenRange': '194:195'})])\n"
     ]
    }
   ],
   "source": [
    "render_doc_by_sent_id(docs, sentences, '9')\n",
    "#The squirrel moved away from the tree.\n",
    "\n",
    "print(sentences[8])\n",
    "\n",
    "for token in sentences[8]:\n",
    "    print(token.items())\n",
    "\n",
    "\n"
   ]
  },
  {
   "cell_type": "code",
   "execution_count": null,
   "metadata": {},
   "outputs": [],
   "source": []
  }
 ],
 "metadata": {
  "kernelspec": {
   "display_name": "venv",
   "language": "python",
   "name": "python3"
  },
  "language_info": {
   "codemirror_mode": {
    "name": "ipython",
    "version": 3
   },
   "file_extension": ".py",
   "mimetype": "text/x-python",
   "name": "python",
   "nbconvert_exporter": "python",
   "pygments_lexer": "ipython3",
   "version": "3.12.4"
  }
 },
 "nbformat": 4,
 "nbformat_minor": 2
}

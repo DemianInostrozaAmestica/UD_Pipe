{
 "cells": [
  {
   "cell_type": "code",
   "execution_count": 4,
   "metadata": {},
   "outputs": [],
   "source": [
    "from conllu import parse\n",
    "\n",
    "with open('data/finnish.conllu', 'r', encoding='utf8') as file:\n",
    "    data = file.read()\n",
    "\n",
    "sentences = parse(data)\n",
    "\n",
    "import spacy\n",
    "from spacy.tokens import Doc, Token\n",
    "from conllu import parse_incr\n",
    "from conllu import parse\n",
    "from spacy.vocab import Vocab\n",
    "from spacy import displacy\n",
    "from pprint import pprint\n",
    "\n",
    "nlp = spacy.blank(\"fi\")  \n",
    "vocab = nlp.vocab\n",
    "\n",
    "if not Token.has_extension(\"xpos\"):\n",
    "    Token.set_extension(\"xpos\", default=None)\n",
    "if not Token.has_extension(\"deps\"):\n",
    "    Token.set_extension(\"deps\", default=None)\n",
    "if not Token.has_extension(\"misc\"):\n",
    "    Token.set_extension(\"misc\", default=None)\n",
    "\n",
    "\n",
    "def process_conllu_file(file_path):\n",
    "    docs = []\n",
    "    with open(file_path, \"r\", encoding=\"utf-8\") as file:\n",
    "        for conllu_sentence in parse_incr(file):\n",
    "            doc = conllu_to_spacy_doc(conllu_sentence, vocab)\n",
    "            docs.append(doc)\n",
    "    return docs\n",
    "\n",
    "def conllu_to_spacy_doc(conllu_sentence, vocab):\n",
    "    words = [token[\"form\"] for token in conllu_sentence]\n",
    "    heads = [token[\"head\"] if token[\"head\"] is not None else 0 for token in conllu_sentence]  # Head = 0 para raíces\n",
    "    deps = [token[\"deprel\"].split(\":\")[0] for token in conllu_sentence]\n",
    "    lemmas = [token[\"lemma\"] for token in conllu_sentence]\n",
    "    pos_tags = [token[\"upostag\"] for token in conllu_sentence]\n",
    "    xpos_tags = [token[\"xpos\"] for token in conllu_sentence]\n",
    "    morph_feats = [token[\"feats\"] or {} for token in conllu_sentence]\n",
    "    misc_info = [token[\"misc\"] or {} for token in conllu_sentence]\n",
    "    deps_info = [token[\"deps\"] or {} for token in conllu_sentence]\n",
    "\n",
    "    # Crear el objeto Doc\n",
    "    doc = Doc(vocab, words=words)\n",
    "\n",
    "    # Asignar los atributos a cada token\n",
    "    for i, token in enumerate(doc):\n",
    "        token.lemma_ = lemmas[i]\n",
    "        \n",
    "        # Asignar el Universal POS a `pos_`, o usar `tag_` si no es válido\n",
    "        if pos_tags[i] != \"_\":\n",
    "            token.pos_ = pos_tags[i]\n",
    "        elif xpos_tags[i] is not None:  # Verificar si xpos_tags[i] no es None antes de asignarlo\n",
    "            token.tag_ = xpos_tags[i]  # Usar `xpos` como `tag_` si `upos` es \"_\"\n",
    "\n",
    "        token.dep_ = deps[i]\n",
    "        \n",
    "        # Verificar que heads[i] sea un número entero antes de asignarlo como cabeza\n",
    "        if isinstance(heads[i], int) and heads[i] > 0:\n",
    "            token.head = doc[heads[i] - 1]  # Usar head como índice (spaCy usa índice 0 para la raíz)\n",
    "        else:\n",
    "            token.head = token  # Si head es 0 o no válido, el token se apunta a sí mismo como raíz\n",
    "\n",
    "        # Asignar xpos, deps y misc como atributos personalizados\n",
    "        token._.xpos = xpos_tags[i]\n",
    "        token._.deps = deps_info[i]\n",
    "        token._.misc = misc_info[i]\n",
    "\n",
    "        # Convertir `feats` a un formato que spaCy entiende y asignarlo a morph\n",
    "        if morph_feats[i]:\n",
    "            feats_str = \"|\".join(f\"{k}={v}\" for k, v in morph_feats[i].items())\n",
    "            token.set_morph(feats_str)\n",
    "\n",
    "    return doc\n",
    "\n",
    "def render_doc_by_sent_id(docs, sentences, target_sent_id):\n",
    "    # Buscar el índice del `sent_id` deseado en los metadatos de `sentences`\n",
    "    for i, sentence in enumerate(sentences):\n",
    "        if sentence.metadata.get(\"sent_id\") == target_sent_id:\n",
    "            # Renderizar el Doc correspondiente usando `displacy`\n",
    "            displacy.render(docs[i], style=\"dep\", jupyter=True)\n",
    "            return  # Salimos después de encontrar y renderizar\n",
    "    print(f\"Oración con sent_id '{target_sent_id}' no encontrada.\")\n",
    "\n",
    "\n",
    "file_path = \"data/finnish.conllu\"\n",
    "docs = process_conllu_file(file_path)\n"
   ]
  },
  {
   "cell_type": "markdown",
   "metadata": {},
   "source": [
    "IN"
   ]
  },
  {
   "cell_type": "code",
   "execution_count": 5,
   "metadata": {},
   "outputs": [
    {
     "data": {
      "text/html": [
       "<span class=\"tex2jax_ignore\"><svg xmlns=\"http://www.w3.org/2000/svg\" xmlns:xlink=\"http://www.w3.org/1999/xlink\" xml:lang=\"fi\" id=\"b2407df6915d45b3ac96054c4b0cdd01-0\" class=\"displacy\" width=\"575\" height=\"312.0\" direction=\"ltr\" style=\"max-width: none; height: 312.0px; color: #000000; background: #ffffff; font-family: Arial; direction: ltr\">\n",
       "<text class=\"displacy-token\" fill=\"currentColor\" text-anchor=\"middle\" y=\"222.0\">\n",
       "    <tspan class=\"displacy-word\" fill=\"currentColor\" x=\"50\">Kissa</tspan>\n",
       "    <tspan class=\"displacy-tag\" dy=\"2em\" fill=\"currentColor\" x=\"50\">NOUN</tspan>\n",
       "</text>\n",
       "\n",
       "<text class=\"displacy-token\" fill=\"currentColor\" text-anchor=\"middle\" y=\"222.0\">\n",
       "    <tspan class=\"displacy-word\" fill=\"currentColor\" x=\"225\">on</tspan>\n",
       "    <tspan class=\"displacy-tag\" dy=\"2em\" fill=\"currentColor\" x=\"225\">AUX</tspan>\n",
       "</text>\n",
       "\n",
       "<text class=\"displacy-token\" fill=\"currentColor\" text-anchor=\"middle\" y=\"222.0\">\n",
       "    <tspan class=\"displacy-word\" fill=\"currentColor\" x=\"400\">vaatekaapissa .</tspan>\n",
       "    <tspan class=\"displacy-tag\" dy=\"2em\" fill=\"currentColor\" x=\"400\">NOUN</tspan>\n",
       "</text>\n",
       "\n",
       "<g class=\"displacy-arrow\">\n",
       "    <path class=\"displacy-arc\" id=\"arrow-b2407df6915d45b3ac96054c4b0cdd01-0-0\" stroke-width=\"2px\" d=\"M70,177.0 C70,2.0 400.0,2.0 400.0,177.0\" fill=\"none\" stroke=\"currentColor\"/>\n",
       "    <text dy=\"1.25em\" style=\"font-size: 0.8em; letter-spacing: 1px\">\n",
       "        <textPath xlink:href=\"#arrow-b2407df6915d45b3ac96054c4b0cdd01-0-0\" class=\"displacy-label\" startOffset=\"50%\" side=\"left\" fill=\"currentColor\" text-anchor=\"middle\">nsubj</textPath>\n",
       "    </text>\n",
       "    <path class=\"displacy-arrowhead\" d=\"M70,179.0 L62,167.0 78,167.0\" fill=\"currentColor\"/>\n",
       "</g>\n",
       "\n",
       "<g class=\"displacy-arrow\">\n",
       "    <path class=\"displacy-arc\" id=\"arrow-b2407df6915d45b3ac96054c4b0cdd01-0-1\" stroke-width=\"2px\" d=\"M245,177.0 C245,89.5 395.0,89.5 395.0,177.0\" fill=\"none\" stroke=\"currentColor\"/>\n",
       "    <text dy=\"1.25em\" style=\"font-size: 0.8em; letter-spacing: 1px\">\n",
       "        <textPath xlink:href=\"#arrow-b2407df6915d45b3ac96054c4b0cdd01-0-1\" class=\"displacy-label\" startOffset=\"50%\" side=\"left\" fill=\"currentColor\" text-anchor=\"middle\">cop</textPath>\n",
       "    </text>\n",
       "    <path class=\"displacy-arrowhead\" d=\"M245,179.0 L237,167.0 253,167.0\" fill=\"currentColor\"/>\n",
       "</g>\n",
       "</svg></span>"
      ],
      "text/plain": [
       "<IPython.core.display.HTML object>"
      ]
     },
     "metadata": {},
     "output_type": "display_data"
    },
    {
     "name": "stdout",
     "output_type": "stream",
     "text": [
      "TokenList<Kissa, on, vaatekaapissa, ., metadata={generator: \"UDPipe 2, https://lindat.mff.cuni.cz/services/udpipe\", udpipe_model: \"finnish-tdt-ud-2.12-230717\", udpipe_model_licence: \"CC BY-NC-SA\", newdoc: \"None\", newpar: \"None\", sent_id: \"1\", text: \"Kissa on vaatekaapissa.\"}>\n",
      "dict_items([('id', 1), ('form', 'Kissa'), ('lemma', 'kissa'), ('upos', 'NOUN'), ('xpos', 'N'), ('feats', {'Case': 'Nom', 'Number': 'Sing'}), ('head', 3), ('deprel', 'nsubj:cop'), ('deps', None), ('misc', {'TokenRange': '0:5'})])\n",
      "dict_items([('id', 2), ('form', 'on'), ('lemma', 'olla'), ('upos', 'AUX'), ('xpos', 'V'), ('feats', {'Mood': 'Ind', 'Number': 'Sing', 'Person': '3', 'Tense': 'Pres', 'VerbForm': 'Fin', 'Voice': 'Act'}), ('head', 3), ('deprel', 'cop'), ('deps', None), ('misc', {'TokenRange': '6:8'})])\n",
      "dict_items([('id', 3), ('form', 'vaatekaapissa'), ('lemma', 'vaate#kaappi'), ('upos', 'NOUN'), ('xpos', 'N'), ('feats', {'Case': 'Ine', 'Number': 'Sing'}), ('head', 0), ('deprel', 'root'), ('deps', None), ('misc', {'SpaceAfter': 'No', 'TokenRange': '9:22'})])\n",
      "dict_items([('id', 4), ('form', '.'), ('lemma', '.'), ('upos', 'PUNCT'), ('xpos', 'Punct'), ('feats', None), ('head', 3), ('deprel', 'punct'), ('deps', None), ('misc', {'SpacesAfter': '\\\\n', 'TokenRange': '22:23'})])\n"
     ]
    }
   ],
   "source": [
    "render_doc_by_sent_id(docs, sentences, '1')\n",
    "# The cat is in the wardrobe.\n",
    "\n",
    "print(sentences[0])\n",
    "\n",
    "for token in sentences[0]:\n",
    "    print(token.items())"
   ]
  },
  {
   "cell_type": "code",
   "execution_count": 7,
   "metadata": {},
   "outputs": [
    {
     "data": {
      "text/html": [
       "<span class=\"tex2jax_ignore\"><svg xmlns=\"http://www.w3.org/2000/svg\" xmlns:xlink=\"http://www.w3.org/1999/xlink\" xml:lang=\"fi\" id=\"627d109bde4041ffb59ef1b11fa0f9e5-0\" class=\"displacy\" width=\"575\" height=\"224.5\" direction=\"ltr\" style=\"max-width: none; height: 224.5px; color: #000000; background: #ffffff; font-family: Arial; direction: ltr\">\n",
       "<text class=\"displacy-token\" fill=\"currentColor\" text-anchor=\"middle\" y=\"134.5\">\n",
       "    <tspan class=\"displacy-word\" fill=\"currentColor\" x=\"50\">Hän</tspan>\n",
       "    <tspan class=\"displacy-tag\" dy=\"2em\" fill=\"currentColor\" x=\"50\">PRON</tspan>\n",
       "</text>\n",
       "\n",
       "<text class=\"displacy-token\" fill=\"currentColor\" text-anchor=\"middle\" y=\"134.5\">\n",
       "    <tspan class=\"displacy-word\" fill=\"currentColor\" x=\"225\">menee</tspan>\n",
       "    <tspan class=\"displacy-tag\" dy=\"2em\" fill=\"currentColor\" x=\"225\">VERB</tspan>\n",
       "</text>\n",
       "\n",
       "<text class=\"displacy-token\" fill=\"currentColor\" text-anchor=\"middle\" y=\"134.5\">\n",
       "    <tspan class=\"displacy-word\" fill=\"currentColor\" x=\"400\">kauppaan .</tspan>\n",
       "    <tspan class=\"displacy-tag\" dy=\"2em\" fill=\"currentColor\" x=\"400\">NOUN</tspan>\n",
       "</text>\n",
       "\n",
       "<g class=\"displacy-arrow\">\n",
       "    <path class=\"displacy-arc\" id=\"arrow-627d109bde4041ffb59ef1b11fa0f9e5-0-0\" stroke-width=\"2px\" d=\"M70,89.5 C70,2.0 225.0,2.0 225.0,89.5\" fill=\"none\" stroke=\"currentColor\"/>\n",
       "    <text dy=\"1.25em\" style=\"font-size: 0.8em; letter-spacing: 1px\">\n",
       "        <textPath xlink:href=\"#arrow-627d109bde4041ffb59ef1b11fa0f9e5-0-0\" class=\"displacy-label\" startOffset=\"50%\" side=\"left\" fill=\"currentColor\" text-anchor=\"middle\">nsubj</textPath>\n",
       "    </text>\n",
       "    <path class=\"displacy-arrowhead\" d=\"M70,91.5 L62,79.5 78,79.5\" fill=\"currentColor\"/>\n",
       "</g>\n",
       "\n",
       "<g class=\"displacy-arrow\">\n",
       "    <path class=\"displacy-arc\" id=\"arrow-627d109bde4041ffb59ef1b11fa0f9e5-0-1\" stroke-width=\"2px\" d=\"M245,89.5 C245,2.0 400.0,2.0 400.0,89.5\" fill=\"none\" stroke=\"currentColor\"/>\n",
       "    <text dy=\"1.25em\" style=\"font-size: 0.8em; letter-spacing: 1px\">\n",
       "        <textPath xlink:href=\"#arrow-627d109bde4041ffb59ef1b11fa0f9e5-0-1\" class=\"displacy-label\" startOffset=\"50%\" side=\"left\" fill=\"currentColor\" text-anchor=\"middle\">obl</textPath>\n",
       "    </text>\n",
       "    <path class=\"displacy-arrowhead\" d=\"M400.0,91.5 L408.0,79.5 392.0,79.5\" fill=\"currentColor\"/>\n",
       "</g>\n",
       "</svg></span>"
      ],
      "text/plain": [
       "<IPython.core.display.HTML object>"
      ]
     },
     "metadata": {},
     "output_type": "display_data"
    },
    {
     "name": "stdout",
     "output_type": "stream",
     "text": [
      "TokenList<Hän, menee, kauppaan, ., metadata={sent_id: \"2\", text: \"Hän menee kauppaan.\"}>\n",
      "dict_items([('id', 1), ('form', 'Hän'), ('lemma', 'hän'), ('upos', 'PRON'), ('xpos', 'Pron'), ('feats', {'Case': 'Nom', 'Number': 'Sing', 'Person': '3', 'PronType': 'Prs'}), ('head', 2), ('deprel', 'nsubj'), ('deps', None), ('misc', {'TokenRange': '24:27'})])\n",
      "dict_items([('id', 2), ('form', 'menee'), ('lemma', 'mennä'), ('upos', 'VERB'), ('xpos', 'V'), ('feats', {'Mood': 'Ind', 'Number': 'Sing', 'Person': '3', 'Tense': 'Pres', 'VerbForm': 'Fin', 'Voice': 'Act'}), ('head', 0), ('deprel', 'root'), ('deps', None), ('misc', {'TokenRange': '28:33'})])\n",
      "dict_items([('id', 3), ('form', 'kauppaan'), ('lemma', 'kauppa'), ('upos', 'NOUN'), ('xpos', 'N'), ('feats', {'Case': 'Ill', 'Number': 'Sing'}), ('head', 2), ('deprel', 'obl'), ('deps', None), ('misc', {'SpaceAfter': 'No', 'TokenRange': '34:42'})])\n",
      "dict_items([('id', 4), ('form', '.'), ('lemma', '.'), ('upos', 'PUNCT'), ('xpos', 'Punct'), ('feats', None), ('head', 2), ('deprel', 'punct'), ('deps', None), ('misc', {'SpacesAfter': '\\\\n', 'TokenRange': '42:43'})])\n"
     ]
    }
   ],
   "source": [
    "render_doc_by_sent_id(docs, sentences, '2')\n",
    "# She enters the shop.\n",
    "\n",
    "\n",
    "print(sentences[1])\n",
    "\n",
    "for token in sentences[1]:\n",
    "    print(token.items())"
   ]
  },
  {
   "cell_type": "code",
   "execution_count": 8,
   "metadata": {},
   "outputs": [
    {
     "data": {
      "text/plain": [
       "'Ill'"
      ]
     },
     "execution_count": 8,
     "metadata": {},
     "output_type": "execute_result"
    }
   ],
   "source": [
    "sentences[1][2].get('feats').get('Case')"
   ]
  },
  {
   "cell_type": "code",
   "execution_count": null,
   "metadata": {},
   "outputs": [
    {
     "data": {
      "text/html": [
       "<span class=\"tex2jax_ignore\"><svg xmlns=\"http://www.w3.org/2000/svg\" xmlns:xlink=\"http://www.w3.org/1999/xlink\" xml:lang=\"fi\" id=\"266f47d8bffc4565bb83c999bdfb4163-0\" class=\"displacy\" width=\"750\" height=\"312.0\" direction=\"ltr\" style=\"max-width: none; height: 312.0px; color: #000000; background: #ffffff; font-family: Arial; direction: ltr\">\n",
       "<text class=\"displacy-token\" fill=\"currentColor\" text-anchor=\"middle\" y=\"222.0\">\n",
       "    <tspan class=\"displacy-word\" fill=\"currentColor\" x=\"50\">Hän</tspan>\n",
       "    <tspan class=\"displacy-tag\" dy=\"2em\" fill=\"currentColor\" x=\"50\">PRON</tspan>\n",
       "</text>\n",
       "\n",
       "<text class=\"displacy-token\" fill=\"currentColor\" text-anchor=\"middle\" y=\"222.0\">\n",
       "    <tspan class=\"displacy-word\" fill=\"currentColor\" x=\"225\">tuli</tspan>\n",
       "    <tspan class=\"displacy-tag\" dy=\"2em\" fill=\"currentColor\" x=\"225\">VERB</tspan>\n",
       "</text>\n",
       "\n",
       "<text class=\"displacy-token\" fill=\"currentColor\" text-anchor=\"middle\" y=\"222.0\">\n",
       "    <tspan class=\"displacy-word\" fill=\"currentColor\" x=\"400\">ulos</tspan>\n",
       "    <tspan class=\"displacy-tag\" dy=\"2em\" fill=\"currentColor\" x=\"400\">ADV</tspan>\n",
       "</text>\n",
       "\n",
       "<text class=\"displacy-token\" fill=\"currentColor\" text-anchor=\"middle\" y=\"222.0\">\n",
       "    <tspan class=\"displacy-word\" fill=\"currentColor\" x=\"575\">luolasta .</tspan>\n",
       "    <tspan class=\"displacy-tag\" dy=\"2em\" fill=\"currentColor\" x=\"575\">NOUN</tspan>\n",
       "</text>\n",
       "\n",
       "<g class=\"displacy-arrow\">\n",
       "    <path class=\"displacy-arc\" id=\"arrow-266f47d8bffc4565bb83c999bdfb4163-0-0\" stroke-width=\"2px\" d=\"M70,177.0 C70,89.5 220.0,89.5 220.0,177.0\" fill=\"none\" stroke=\"currentColor\"/>\n",
       "    <text dy=\"1.25em\" style=\"font-size: 0.8em; letter-spacing: 1px\">\n",
       "        <textPath xlink:href=\"#arrow-266f47d8bffc4565bb83c999bdfb4163-0-0\" class=\"displacy-label\" startOffset=\"50%\" side=\"left\" fill=\"currentColor\" text-anchor=\"middle\">nsubj</textPath>\n",
       "    </text>\n",
       "    <path class=\"displacy-arrowhead\" d=\"M70,179.0 L62,167.0 78,167.0\" fill=\"currentColor\"/>\n",
       "</g>\n",
       "\n",
       "<g class=\"displacy-arrow\">\n",
       "    <path class=\"displacy-arc\" id=\"arrow-266f47d8bffc4565bb83c999bdfb4163-0-1\" stroke-width=\"2px\" d=\"M245,177.0 C245,89.5 395.0,89.5 395.0,177.0\" fill=\"none\" stroke=\"currentColor\"/>\n",
       "    <text dy=\"1.25em\" style=\"font-size: 0.8em; letter-spacing: 1px\">\n",
       "        <textPath xlink:href=\"#arrow-266f47d8bffc4565bb83c999bdfb4163-0-1\" class=\"displacy-label\" startOffset=\"50%\" side=\"left\" fill=\"currentColor\" text-anchor=\"middle\">advmod</textPath>\n",
       "    </text>\n",
       "    <path class=\"displacy-arrowhead\" d=\"M395.0,179.0 L403.0,167.0 387.0,167.0\" fill=\"currentColor\"/>\n",
       "</g>\n",
       "\n",
       "<g class=\"displacy-arrow\">\n",
       "    <path class=\"displacy-arc\" id=\"arrow-266f47d8bffc4565bb83c999bdfb4163-0-2\" stroke-width=\"2px\" d=\"M245,177.0 C245,2.0 575.0,2.0 575.0,177.0\" fill=\"none\" stroke=\"currentColor\"/>\n",
       "    <text dy=\"1.25em\" style=\"font-size: 0.8em; letter-spacing: 1px\">\n",
       "        <textPath xlink:href=\"#arrow-266f47d8bffc4565bb83c999bdfb4163-0-2\" class=\"displacy-label\" startOffset=\"50%\" side=\"left\" fill=\"currentColor\" text-anchor=\"middle\">obl</textPath>\n",
       "    </text>\n",
       "    <path class=\"displacy-arrowhead\" d=\"M575.0,179.0 L583.0,167.0 567.0,167.0\" fill=\"currentColor\"/>\n",
       "</g>\n",
       "</svg></span>"
      ],
      "text/plain": [
       "<IPython.core.display.HTML object>"
      ]
     },
     "metadata": {},
     "output_type": "display_data"
    },
    {
     "name": "stdout",
     "output_type": "stream",
     "text": [
      "TokenList<Hän, tuli, ulos, luolasta, ., metadata={sent_id: \"3\", text: \"Hän tuli ulos luolasta.\"}>\n",
      "dict_items([('id', 1), ('form', 'Hän'), ('lemma', 'hän'), ('upos', 'PRON'), ('xpos', 'Pron'), ('feats', {'Case': 'Nom', 'Number': 'Sing', 'Person': '3', 'PronType': 'Prs'}), ('head', 2), ('deprel', 'nsubj'), ('deps', None), ('misc', {'TokenRange': '44:47'})])\n",
      "dict_items([('id', 2), ('form', 'tuli'), ('lemma', 'tulla'), ('upos', 'VERB'), ('xpos', 'V'), ('feats', {'Mood': 'Ind', 'Number': 'Sing', 'Person': '3', 'Tense': 'Past', 'VerbForm': 'Fin', 'Voice': 'Act'}), ('head', 0), ('deprel', 'root'), ('deps', None), ('misc', {'TokenRange': '48:52'})])\n",
      "dict_items([('id', 3), ('form', 'ulos'), ('lemma', 'ulos'), ('upos', 'ADV'), ('xpos', 'Adv'), ('feats', None), ('head', 2), ('deprel', 'advmod'), ('deps', None), ('misc', {'TokenRange': '53:57'})])\n",
      "dict_items([('id', 4), ('form', 'luolasta'), ('lemma', 'luola'), ('upos', 'NOUN'), ('xpos', 'N'), ('feats', {'Case': 'Ela', 'Number': 'Sing'}), ('head', 2), ('deprel', 'obl'), ('deps', None), ('misc', {'SpaceAfter': 'No', 'TokenRange': '58:66'})])\n",
      "dict_items([('id', 5), ('form', '.'), ('lemma', '.'), ('upos', 'PUNCT'), ('xpos', 'Punct'), ('feats', None), ('head', 2), ('deprel', 'punct'), ('deps', None), ('misc', {'SpacesAfter': '\\\\n', 'TokenRange': '66:67'})])\n"
     ]
    }
   ],
   "source": [
    "render_doc_by_sent_id(docs, sentences, '3')\n",
    "# He came out of the cave.\n",
    "\n",
    "# ulos is quite interesing, maybe is literally out?\n",
    "\n",
    "print(sentences[2])\n",
    "\n",
    "for token in sentences[2]:\n",
    "    print(token.items())"
   ]
  },
  {
   "cell_type": "markdown",
   "metadata": {},
   "source": [
    "ON"
   ]
  },
  {
   "cell_type": "code",
   "execution_count": null,
   "metadata": {},
   "outputs": [
    {
     "data": {
      "text/html": [
       "<span class=\"tex2jax_ignore\"><svg xmlns=\"http://www.w3.org/2000/svg\" xmlns:xlink=\"http://www.w3.org/1999/xlink\" xml:lang=\"fi\" id=\"ab3d103575fd42a1bbde3d3b8b9a4a3f-0\" class=\"displacy\" width=\"575\" height=\"312.0\" direction=\"ltr\" style=\"max-width: none; height: 312.0px; color: #000000; background: #ffffff; font-family: Arial; direction: ltr\">\n",
       "<text class=\"displacy-token\" fill=\"currentColor\" text-anchor=\"middle\" y=\"222.0\">\n",
       "    <tspan class=\"displacy-word\" fill=\"currentColor\" x=\"50\">Kirja</tspan>\n",
       "    <tspan class=\"displacy-tag\" dy=\"2em\" fill=\"currentColor\" x=\"50\">NOUN</tspan>\n",
       "</text>\n",
       "\n",
       "<text class=\"displacy-token\" fill=\"currentColor\" text-anchor=\"middle\" y=\"222.0\">\n",
       "    <tspan class=\"displacy-word\" fill=\"currentColor\" x=\"225\">on</tspan>\n",
       "    <tspan class=\"displacy-tag\" dy=\"2em\" fill=\"currentColor\" x=\"225\">AUX</tspan>\n",
       "</text>\n",
       "\n",
       "<text class=\"displacy-token\" fill=\"currentColor\" text-anchor=\"middle\" y=\"222.0\">\n",
       "    <tspan class=\"displacy-word\" fill=\"currentColor\" x=\"400\">pöydällä .</tspan>\n",
       "    <tspan class=\"displacy-tag\" dy=\"2em\" fill=\"currentColor\" x=\"400\">NOUN</tspan>\n",
       "</text>\n",
       "\n",
       "<g class=\"displacy-arrow\">\n",
       "    <path class=\"displacy-arc\" id=\"arrow-ab3d103575fd42a1bbde3d3b8b9a4a3f-0-0\" stroke-width=\"2px\" d=\"M70,177.0 C70,2.0 400.0,2.0 400.0,177.0\" fill=\"none\" stroke=\"currentColor\"/>\n",
       "    <text dy=\"1.25em\" style=\"font-size: 0.8em; letter-spacing: 1px\">\n",
       "        <textPath xlink:href=\"#arrow-ab3d103575fd42a1bbde3d3b8b9a4a3f-0-0\" class=\"displacy-label\" startOffset=\"50%\" side=\"left\" fill=\"currentColor\" text-anchor=\"middle\">nsubj</textPath>\n",
       "    </text>\n",
       "    <path class=\"displacy-arrowhead\" d=\"M70,179.0 L62,167.0 78,167.0\" fill=\"currentColor\"/>\n",
       "</g>\n",
       "\n",
       "<g class=\"displacy-arrow\">\n",
       "    <path class=\"displacy-arc\" id=\"arrow-ab3d103575fd42a1bbde3d3b8b9a4a3f-0-1\" stroke-width=\"2px\" d=\"M245,177.0 C245,89.5 395.0,89.5 395.0,177.0\" fill=\"none\" stroke=\"currentColor\"/>\n",
       "    <text dy=\"1.25em\" style=\"font-size: 0.8em; letter-spacing: 1px\">\n",
       "        <textPath xlink:href=\"#arrow-ab3d103575fd42a1bbde3d3b8b9a4a3f-0-1\" class=\"displacy-label\" startOffset=\"50%\" side=\"left\" fill=\"currentColor\" text-anchor=\"middle\">cop</textPath>\n",
       "    </text>\n",
       "    <path class=\"displacy-arrowhead\" d=\"M245,179.0 L237,167.0 253,167.0\" fill=\"currentColor\"/>\n",
       "</g>\n",
       "</svg></span>"
      ],
      "text/plain": [
       "<IPython.core.display.HTML object>"
      ]
     },
     "metadata": {},
     "output_type": "display_data"
    },
    {
     "name": "stdout",
     "output_type": "stream",
     "text": [
      "TokenList<Kirja, on, pöydällä, ., metadata={sent_id: \"4\", text: \"Kirja on pöydällä.\"}>\n",
      "dict_items([('id', 1), ('form', 'Kirja'), ('lemma', 'kirja'), ('upos', 'NOUN'), ('xpos', 'N'), ('feats', {'Case': 'Nom', 'Number': 'Sing'}), ('head', 3), ('deprel', 'nsubj:cop'), ('deps', None), ('misc', {'TokenRange': '68:73'})])\n",
      "dict_items([('id', 2), ('form', 'on'), ('lemma', 'olla'), ('upos', 'AUX'), ('xpos', 'V'), ('feats', {'Mood': 'Ind', 'Number': 'Sing', 'Person': '3', 'Tense': 'Pres', 'VerbForm': 'Fin', 'Voice': 'Act'}), ('head', 3), ('deprel', 'cop'), ('deps', None), ('misc', {'TokenRange': '74:76'})])\n",
      "dict_items([('id', 3), ('form', 'pöydällä'), ('lemma', 'pöytä'), ('upos', 'NOUN'), ('xpos', 'N'), ('feats', {'Case': 'Ade', 'Number': 'Sing'}), ('head', 0), ('deprel', 'root'), ('deps', None), ('misc', {'SpaceAfter': 'No', 'TokenRange': '77:85'})])\n",
      "dict_items([('id', 4), ('form', '.'), ('lemma', '.'), ('upos', 'PUNCT'), ('xpos', 'Punct'), ('feats', None), ('head', 3), ('deprel', 'punct'), ('deps', None), ('misc', {'SpacesAfter': '\\\\n', 'TokenRange': '85:86'})])\n"
     ]
    }
   ],
   "source": [
    "render_doc_by_sent_id(docs, sentences, '4')\n",
    "# The book is on the table.\n",
    "\n",
    "\n",
    "# addesive for [place, ON]\n",
    "\n",
    "print(sentences[3])\n",
    "\n",
    "for token in sentences[3]:\n",
    "    print(token.items())"
   ]
  },
  {
   "cell_type": "code",
   "execution_count": null,
   "metadata": {},
   "outputs": [
    {
     "data": {
      "text/html": [
       "<span class=\"tex2jax_ignore\"><svg xmlns=\"http://www.w3.org/2000/svg\" xmlns:xlink=\"http://www.w3.org/1999/xlink\" xml:lang=\"fi\" id=\"be569256e30245cd84e6e3a693fb7ab6-0\" class=\"displacy\" width=\"575\" height=\"224.5\" direction=\"ltr\" style=\"max-width: none; height: 224.5px; color: #000000; background: #ffffff; font-family: Arial; direction: ltr\">\n",
       "<text class=\"displacy-token\" fill=\"currentColor\" text-anchor=\"middle\" y=\"134.5\">\n",
       "    <tspan class=\"displacy-word\" fill=\"currentColor\" x=\"50\">Poika</tspan>\n",
       "    <tspan class=\"displacy-tag\" dy=\"2em\" fill=\"currentColor\" x=\"50\">NOUN</tspan>\n",
       "</text>\n",
       "\n",
       "<text class=\"displacy-token\" fill=\"currentColor\" text-anchor=\"middle\" y=\"134.5\">\n",
       "    <tspan class=\"displacy-word\" fill=\"currentColor\" x=\"225\">hyppäsi</tspan>\n",
       "    <tspan class=\"displacy-tag\" dy=\"2em\" fill=\"currentColor\" x=\"225\">VERB</tspan>\n",
       "</text>\n",
       "\n",
       "<text class=\"displacy-token\" fill=\"currentColor\" text-anchor=\"middle\" y=\"134.5\">\n",
       "    <tspan class=\"displacy-word\" fill=\"currentColor\" x=\"400\">pöydälle .</tspan>\n",
       "    <tspan class=\"displacy-tag\" dy=\"2em\" fill=\"currentColor\" x=\"400\">NOUN</tspan>\n",
       "</text>\n",
       "\n",
       "<g class=\"displacy-arrow\">\n",
       "    <path class=\"displacy-arc\" id=\"arrow-be569256e30245cd84e6e3a693fb7ab6-0-0\" stroke-width=\"2px\" d=\"M70,89.5 C70,2.0 225.0,2.0 225.0,89.5\" fill=\"none\" stroke=\"currentColor\"/>\n",
       "    <text dy=\"1.25em\" style=\"font-size: 0.8em; letter-spacing: 1px\">\n",
       "        <textPath xlink:href=\"#arrow-be569256e30245cd84e6e3a693fb7ab6-0-0\" class=\"displacy-label\" startOffset=\"50%\" side=\"left\" fill=\"currentColor\" text-anchor=\"middle\">nsubj</textPath>\n",
       "    </text>\n",
       "    <path class=\"displacy-arrowhead\" d=\"M70,91.5 L62,79.5 78,79.5\" fill=\"currentColor\"/>\n",
       "</g>\n",
       "\n",
       "<g class=\"displacy-arrow\">\n",
       "    <path class=\"displacy-arc\" id=\"arrow-be569256e30245cd84e6e3a693fb7ab6-0-1\" stroke-width=\"2px\" d=\"M245,89.5 C245,2.0 400.0,2.0 400.0,89.5\" fill=\"none\" stroke=\"currentColor\"/>\n",
       "    <text dy=\"1.25em\" style=\"font-size: 0.8em; letter-spacing: 1px\">\n",
       "        <textPath xlink:href=\"#arrow-be569256e30245cd84e6e3a693fb7ab6-0-1\" class=\"displacy-label\" startOffset=\"50%\" side=\"left\" fill=\"currentColor\" text-anchor=\"middle\">obl</textPath>\n",
       "    </text>\n",
       "    <path class=\"displacy-arrowhead\" d=\"M400.0,91.5 L408.0,79.5 392.0,79.5\" fill=\"currentColor\"/>\n",
       "</g>\n",
       "</svg></span>"
      ],
      "text/plain": [
       "<IPython.core.display.HTML object>"
      ]
     },
     "metadata": {},
     "output_type": "display_data"
    },
    {
     "name": "stdout",
     "output_type": "stream",
     "text": [
      "TokenList<Poika, hyppäsi, pöydälle, ., metadata={sent_id: \"5\", text: \"Poika hyppäsi pöydälle.\"}>\n",
      "dict_items([('id', 1), ('form', 'Poika'), ('lemma', 'poika'), ('upos', 'NOUN'), ('xpos', 'N'), ('feats', {'Case': 'Nom', 'Number': 'Sing'}), ('head', 2), ('deprel', 'nsubj'), ('deps', None), ('misc', {'TokenRange': '87:92'})])\n",
      "dict_items([('id', 2), ('form', 'hyppäsi'), ('lemma', 'hypätä'), ('upos', 'VERB'), ('xpos', 'V'), ('feats', {'Mood': 'Ind', 'Number': 'Sing', 'Person': '3', 'Tense': 'Past', 'VerbForm': 'Fin', 'Voice': 'Act'}), ('head', 0), ('deprel', 'root'), ('deps', None), ('misc', {'TokenRange': '93:100'})])\n",
      "dict_items([('id', 3), ('form', 'pöydälle'), ('lemma', 'pöytä'), ('upos', 'NOUN'), ('xpos', 'N'), ('feats', {'Case': 'All', 'Number': 'Sing'}), ('head', 2), ('deprel', 'obl'), ('deps', None), ('misc', {'SpaceAfter': 'No', 'TokenRange': '101:109'})])\n",
      "dict_items([('id', 4), ('form', '.'), ('lemma', '.'), ('upos', 'PUNCT'), ('xpos', 'Punct'), ('feats', None), ('head', 2), ('deprel', 'punct'), ('deps', None), ('misc', {'SpacesAfter': '\\\\n', 'TokenRange': '109:110'})])\n"
     ]
    }
   ],
   "source": [
    "render_doc_by_sent_id(docs, sentences, '5')\n",
    "# The boy jumped onto the table.\n",
    "\n",
    "# allative for [place, ON]\n",
    "\n",
    "print(sentences[4])\n",
    "\n",
    "for token in sentences[4]:\n",
    "    print(token.items())"
   ]
  },
  {
   "cell_type": "code",
   "execution_count": null,
   "metadata": {},
   "outputs": [
    {
     "data": {
      "text/html": [
       "<span class=\"tex2jax_ignore\"><svg xmlns=\"http://www.w3.org/2000/svg\" xmlns:xlink=\"http://www.w3.org/1999/xlink\" xml:lang=\"fi\" id=\"7c6856f1136c49d7be1044c689bd4be5-0\" class=\"displacy\" width=\"750\" height=\"312.0\" direction=\"ltr\" style=\"max-width: none; height: 312.0px; color: #000000; background: #ffffff; font-family: Arial; direction: ltr\">\n",
       "<text class=\"displacy-token\" fill=\"currentColor\" text-anchor=\"middle\" y=\"222.0\">\n",
       "    <tspan class=\"displacy-word\" fill=\"currentColor\" x=\"50\">Tyttö</tspan>\n",
       "    <tspan class=\"displacy-tag\" dy=\"2em\" fill=\"currentColor\" x=\"50\">NOUN</tspan>\n",
       "</text>\n",
       "\n",
       "<text class=\"displacy-token\" fill=\"currentColor\" text-anchor=\"middle\" y=\"222.0\">\n",
       "    <tspan class=\"displacy-word\" fill=\"currentColor\" x=\"225\">kiipesi</tspan>\n",
       "    <tspan class=\"displacy-tag\" dy=\"2em\" fill=\"currentColor\" x=\"225\">VERB</tspan>\n",
       "</text>\n",
       "\n",
       "<text class=\"displacy-token\" fill=\"currentColor\" text-anchor=\"middle\" y=\"222.0\">\n",
       "    <tspan class=\"displacy-word\" fill=\"currentColor\" x=\"400\">alas</tspan>\n",
       "    <tspan class=\"displacy-tag\" dy=\"2em\" fill=\"currentColor\" x=\"400\">ADV</tspan>\n",
       "</text>\n",
       "\n",
       "<text class=\"displacy-token\" fill=\"currentColor\" text-anchor=\"middle\" y=\"222.0\">\n",
       "    <tspan class=\"displacy-word\" fill=\"currentColor\" x=\"575\">pöydältä .</tspan>\n",
       "    <tspan class=\"displacy-tag\" dy=\"2em\" fill=\"currentColor\" x=\"575\">NOUN</tspan>\n",
       "</text>\n",
       "\n",
       "<g class=\"displacy-arrow\">\n",
       "    <path class=\"displacy-arc\" id=\"arrow-7c6856f1136c49d7be1044c689bd4be5-0-0\" stroke-width=\"2px\" d=\"M70,177.0 C70,89.5 220.0,89.5 220.0,177.0\" fill=\"none\" stroke=\"currentColor\"/>\n",
       "    <text dy=\"1.25em\" style=\"font-size: 0.8em; letter-spacing: 1px\">\n",
       "        <textPath xlink:href=\"#arrow-7c6856f1136c49d7be1044c689bd4be5-0-0\" class=\"displacy-label\" startOffset=\"50%\" side=\"left\" fill=\"currentColor\" text-anchor=\"middle\">nsubj</textPath>\n",
       "    </text>\n",
       "    <path class=\"displacy-arrowhead\" d=\"M70,179.0 L62,167.0 78,167.0\" fill=\"currentColor\"/>\n",
       "</g>\n",
       "\n",
       "<g class=\"displacy-arrow\">\n",
       "    <path class=\"displacy-arc\" id=\"arrow-7c6856f1136c49d7be1044c689bd4be5-0-1\" stroke-width=\"2px\" d=\"M245,177.0 C245,89.5 395.0,89.5 395.0,177.0\" fill=\"none\" stroke=\"currentColor\"/>\n",
       "    <text dy=\"1.25em\" style=\"font-size: 0.8em; letter-spacing: 1px\">\n",
       "        <textPath xlink:href=\"#arrow-7c6856f1136c49d7be1044c689bd4be5-0-1\" class=\"displacy-label\" startOffset=\"50%\" side=\"left\" fill=\"currentColor\" text-anchor=\"middle\">advmod</textPath>\n",
       "    </text>\n",
       "    <path class=\"displacy-arrowhead\" d=\"M395.0,179.0 L403.0,167.0 387.0,167.0\" fill=\"currentColor\"/>\n",
       "</g>\n",
       "\n",
       "<g class=\"displacy-arrow\">\n",
       "    <path class=\"displacy-arc\" id=\"arrow-7c6856f1136c49d7be1044c689bd4be5-0-2\" stroke-width=\"2px\" d=\"M245,177.0 C245,2.0 575.0,2.0 575.0,177.0\" fill=\"none\" stroke=\"currentColor\"/>\n",
       "    <text dy=\"1.25em\" style=\"font-size: 0.8em; letter-spacing: 1px\">\n",
       "        <textPath xlink:href=\"#arrow-7c6856f1136c49d7be1044c689bd4be5-0-2\" class=\"displacy-label\" startOffset=\"50%\" side=\"left\" fill=\"currentColor\" text-anchor=\"middle\">obl</textPath>\n",
       "    </text>\n",
       "    <path class=\"displacy-arrowhead\" d=\"M575.0,179.0 L583.0,167.0 567.0,167.0\" fill=\"currentColor\"/>\n",
       "</g>\n",
       "</svg></span>"
      ],
      "text/plain": [
       "<IPython.core.display.HTML object>"
      ]
     },
     "metadata": {},
     "output_type": "display_data"
    },
    {
     "name": "stdout",
     "output_type": "stream",
     "text": [
      "TokenList<Tyttö, kiipesi, alas, pöydältä, ., metadata={sent_id: \"6\", text: \"Tyttö kiipesi alas pöydältä.\"}>\n",
      "dict_items([('id', 1), ('form', 'Tyttö'), ('lemma', 'tyttö'), ('upos', 'NOUN'), ('xpos', 'N'), ('feats', {'Case': 'Nom', 'Number': 'Sing'}), ('head', 2), ('deprel', 'nsubj'), ('deps', None), ('misc', {'TokenRange': '111:116'})])\n",
      "dict_items([('id', 2), ('form', 'kiipesi'), ('lemma', 'kiivetä'), ('upos', 'VERB'), ('xpos', 'V'), ('feats', {'Mood': 'Ind', 'Number': 'Sing', 'Person': '3', 'Tense': 'Past', 'VerbForm': 'Fin', 'Voice': 'Act'}), ('head', 0), ('deprel', 'root'), ('deps', None), ('misc', {'TokenRange': '117:124'})])\n",
      "dict_items([('id', 3), ('form', 'alas'), ('lemma', 'alas'), ('upos', 'ADV'), ('xpos', 'Adv'), ('feats', None), ('head', 2), ('deprel', 'advmod'), ('deps', None), ('misc', {'TokenRange': '125:129'})])\n",
      "dict_items([('id', 4), ('form', 'pöydältä'), ('lemma', 'pöytä'), ('upos', 'NOUN'), ('xpos', 'N'), ('feats', {'Case': 'Abl', 'Number': 'Sing'}), ('head', 2), ('deprel', 'obl'), ('deps', None), ('misc', {'SpaceAfter': 'No', 'TokenRange': '130:138'})])\n",
      "dict_items([('id', 5), ('form', '.'), ('lemma', '.'), ('upos', 'PUNCT'), ('xpos', 'Punct'), ('feats', None), ('head', 2), ('deprel', 'punct'), ('deps', None), ('misc', {'SpacesAfter': '\\\\n', 'TokenRange': '138:139'})])\n"
     ]
    }
   ],
   "source": [
    "render_doc_by_sent_id(docs, sentences, '6')\n",
    "# The girl climbed down from the table.\n",
    "\n",
    "\n",
    "print(sentences[5])\n",
    "\n",
    "for token in sentences[5]:\n",
    "    print(token.items())"
   ]
  },
  {
   "cell_type": "markdown",
   "metadata": {},
   "source": [
    "AT"
   ]
  },
  {
   "cell_type": "code",
   "execution_count": 16,
   "metadata": {},
   "outputs": [
    {
     "data": {
      "text/html": [
       "<span class=\"tex2jax_ignore\"><svg xmlns=\"http://www.w3.org/2000/svg\" xmlns:xlink=\"http://www.w3.org/1999/xlink\" xml:lang=\"fi\" id=\"f6ca836655ce46b1bc9a9e0bf3f11e5d-0\" class=\"displacy\" width=\"750\" height=\"224.5\" direction=\"ltr\" style=\"max-width: none; height: 224.5px; color: #000000; background: #ffffff; font-family: Arial; direction: ltr\">\n",
       "<text class=\"displacy-token\" fill=\"currentColor\" text-anchor=\"middle\" y=\"134.5\">\n",
       "    <tspan class=\"displacy-word\" fill=\"currentColor\" x=\"50\">Lintu</tspan>\n",
       "    <tspan class=\"displacy-tag\" dy=\"2em\" fill=\"currentColor\" x=\"50\">NOUN</tspan>\n",
       "</text>\n",
       "\n",
       "<text class=\"displacy-token\" fill=\"currentColor\" text-anchor=\"middle\" y=\"134.5\">\n",
       "    <tspan class=\"displacy-word\" fill=\"currentColor\" x=\"225\">lepää</tspan>\n",
       "    <tspan class=\"displacy-tag\" dy=\"2em\" fill=\"currentColor\" x=\"225\">VERB</tspan>\n",
       "</text>\n",
       "\n",
       "<text class=\"displacy-token\" fill=\"currentColor\" text-anchor=\"middle\" y=\"134.5\">\n",
       "    <tspan class=\"displacy-word\" fill=\"currentColor\" x=\"400\">puun</tspan>\n",
       "    <tspan class=\"displacy-tag\" dy=\"2em\" fill=\"currentColor\" x=\"400\">NOUN</tspan>\n",
       "</text>\n",
       "\n",
       "<text class=\"displacy-token\" fill=\"currentColor\" text-anchor=\"middle\" y=\"134.5\">\n",
       "    <tspan class=\"displacy-word\" fill=\"currentColor\" x=\"575\">vieressä .</tspan>\n",
       "    <tspan class=\"displacy-tag\" dy=\"2em\" fill=\"currentColor\" x=\"575\">ADP</tspan>\n",
       "</text>\n",
       "\n",
       "<g class=\"displacy-arrow\">\n",
       "    <path class=\"displacy-arc\" id=\"arrow-f6ca836655ce46b1bc9a9e0bf3f11e5d-0-0\" stroke-width=\"2px\" d=\"M70,89.5 C70,2.0 225.0,2.0 225.0,89.5\" fill=\"none\" stroke=\"currentColor\"/>\n",
       "    <text dy=\"1.25em\" style=\"font-size: 0.8em; letter-spacing: 1px\">\n",
       "        <textPath xlink:href=\"#arrow-f6ca836655ce46b1bc9a9e0bf3f11e5d-0-0\" class=\"displacy-label\" startOffset=\"50%\" side=\"left\" fill=\"currentColor\" text-anchor=\"middle\">nsubj</textPath>\n",
       "    </text>\n",
       "    <path class=\"displacy-arrowhead\" d=\"M70,91.5 L62,79.5 78,79.5\" fill=\"currentColor\"/>\n",
       "</g>\n",
       "\n",
       "<g class=\"displacy-arrow\">\n",
       "    <path class=\"displacy-arc\" id=\"arrow-f6ca836655ce46b1bc9a9e0bf3f11e5d-0-1\" stroke-width=\"2px\" d=\"M245,89.5 C245,2.0 400.0,2.0 400.0,89.5\" fill=\"none\" stroke=\"currentColor\"/>\n",
       "    <text dy=\"1.25em\" style=\"font-size: 0.8em; letter-spacing: 1px\">\n",
       "        <textPath xlink:href=\"#arrow-f6ca836655ce46b1bc9a9e0bf3f11e5d-0-1\" class=\"displacy-label\" startOffset=\"50%\" side=\"left\" fill=\"currentColor\" text-anchor=\"middle\">obl</textPath>\n",
       "    </text>\n",
       "    <path class=\"displacy-arrowhead\" d=\"M400.0,91.5 L408.0,79.5 392.0,79.5\" fill=\"currentColor\"/>\n",
       "</g>\n",
       "\n",
       "<g class=\"displacy-arrow\">\n",
       "    <path class=\"displacy-arc\" id=\"arrow-f6ca836655ce46b1bc9a9e0bf3f11e5d-0-2\" stroke-width=\"2px\" d=\"M420,89.5 C420,2.0 575.0,2.0 575.0,89.5\" fill=\"none\" stroke=\"currentColor\"/>\n",
       "    <text dy=\"1.25em\" style=\"font-size: 0.8em; letter-spacing: 1px\">\n",
       "        <textPath xlink:href=\"#arrow-f6ca836655ce46b1bc9a9e0bf3f11e5d-0-2\" class=\"displacy-label\" startOffset=\"50%\" side=\"left\" fill=\"currentColor\" text-anchor=\"middle\">case</textPath>\n",
       "    </text>\n",
       "    <path class=\"displacy-arrowhead\" d=\"M575.0,91.5 L583.0,79.5 567.0,79.5\" fill=\"currentColor\"/>\n",
       "</g>\n",
       "</svg></span>"
      ],
      "text/plain": [
       "<IPython.core.display.HTML object>"
      ]
     },
     "metadata": {},
     "output_type": "display_data"
    },
    {
     "name": "stdout",
     "output_type": "stream",
     "text": [
      "TokenList<Lintu, lepää, puun, vieressä, ., metadata={sent_id: \"7\", text: \"Lintu lepää puun vieressä.\"}>\n",
      "dict_items([('id', 1), ('form', 'Lintu'), ('lemma', 'lintu'), ('upos', 'NOUN'), ('xpos', 'N'), ('feats', {'Case': 'Nom', 'Number': 'Sing'}), ('head', 2), ('deprel', 'nsubj'), ('deps', None), ('misc', {'TokenRange': '140:145'})])\n",
      "dict_items([('id', 2), ('form', 'lepää'), ('lemma', 'levätä'), ('upos', 'VERB'), ('xpos', 'V'), ('feats', {'Mood': 'Ind', 'Number': 'Sing', 'Person': '3', 'Tense': 'Pres', 'VerbForm': 'Fin', 'Voice': 'Act'}), ('head', 0), ('deprel', 'root'), ('deps', None), ('misc', {'TokenRange': '146:151'})])\n",
      "dict_items([('id', 3), ('form', 'puun'), ('lemma', 'puu'), ('upos', 'NOUN'), ('xpos', 'N'), ('feats', {'Case': 'Gen', 'Number': 'Sing'}), ('head', 2), ('deprel', 'obl'), ('deps', None), ('misc', {'TokenRange': '152:156'})])\n",
      "dict_items([('id', 4), ('form', 'vieressä'), ('lemma', 'vieressä'), ('upos', 'ADP'), ('xpos', 'Adp'), ('feats', {'AdpType': 'Post'}), ('head', 3), ('deprel', 'case'), ('deps', None), ('misc', {'SpaceAfter': 'No', 'TokenRange': '157:165'})])\n",
      "dict_items([('id', 5), ('form', '.'), ('lemma', '.'), ('upos', 'PUNCT'), ('xpos', 'Punct'), ('feats', None), ('head', 2), ('deprel', 'punct'), ('deps', None), ('misc', {'SpacesAfter': '\\\\n', 'TokenRange': '165:166'})])\n"
     ]
    }
   ],
   "source": [
    "render_doc_by_sent_id(docs, sentences, '7')\n",
    "# The bird rests next to the tree.\n",
    "\n",
    "\n",
    "print(sentences[6])\n",
    "\n",
    "for token in sentences[6]:\n",
    "    print(token.items())\n"
   ]
  },
  {
   "cell_type": "code",
   "execution_count": 17,
   "metadata": {},
   "outputs": [
    {
     "data": {
      "text/html": [
       "<span class=\"tex2jax_ignore\"><svg xmlns=\"http://www.w3.org/2000/svg\" xmlns:xlink=\"http://www.w3.org/1999/xlink\" xml:lang=\"fi\" id=\"bbb868ad2098407e9d1123b1d2ece818-0\" class=\"displacy\" width=\"750\" height=\"224.5\" direction=\"ltr\" style=\"max-width: none; height: 224.5px; color: #000000; background: #ffffff; font-family: Arial; direction: ltr\">\n",
       "<text class=\"displacy-token\" fill=\"currentColor\" text-anchor=\"middle\" y=\"134.5\">\n",
       "    <tspan class=\"displacy-word\" fill=\"currentColor\" x=\"50\">Poika</tspan>\n",
       "    <tspan class=\"displacy-tag\" dy=\"2em\" fill=\"currentColor\" x=\"50\">NOUN</tspan>\n",
       "</text>\n",
       "\n",
       "<text class=\"displacy-token\" fill=\"currentColor\" text-anchor=\"middle\" y=\"134.5\">\n",
       "    <tspan class=\"displacy-word\" fill=\"currentColor\" x=\"225\">juoksee</tspan>\n",
       "    <tspan class=\"displacy-tag\" dy=\"2em\" fill=\"currentColor\" x=\"225\">VERB</tspan>\n",
       "</text>\n",
       "\n",
       "<text class=\"displacy-token\" fill=\"currentColor\" text-anchor=\"middle\" y=\"134.5\">\n",
       "    <tspan class=\"displacy-word\" fill=\"currentColor\" x=\"400\">puuta</tspan>\n",
       "    <tspan class=\"displacy-tag\" dy=\"2em\" fill=\"currentColor\" x=\"400\">NOUN</tspan>\n",
       "</text>\n",
       "\n",
       "<text class=\"displacy-token\" fill=\"currentColor\" text-anchor=\"middle\" y=\"134.5\">\n",
       "    <tspan class=\"displacy-word\" fill=\"currentColor\" x=\"575\">kohti .</tspan>\n",
       "    <tspan class=\"displacy-tag\" dy=\"2em\" fill=\"currentColor\" x=\"575\">ADP</tspan>\n",
       "</text>\n",
       "\n",
       "<g class=\"displacy-arrow\">\n",
       "    <path class=\"displacy-arc\" id=\"arrow-bbb868ad2098407e9d1123b1d2ece818-0-0\" stroke-width=\"2px\" d=\"M70,89.5 C70,2.0 225.0,2.0 225.0,89.5\" fill=\"none\" stroke=\"currentColor\"/>\n",
       "    <text dy=\"1.25em\" style=\"font-size: 0.8em; letter-spacing: 1px\">\n",
       "        <textPath xlink:href=\"#arrow-bbb868ad2098407e9d1123b1d2ece818-0-0\" class=\"displacy-label\" startOffset=\"50%\" side=\"left\" fill=\"currentColor\" text-anchor=\"middle\">nsubj</textPath>\n",
       "    </text>\n",
       "    <path class=\"displacy-arrowhead\" d=\"M70,91.5 L62,79.5 78,79.5\" fill=\"currentColor\"/>\n",
       "</g>\n",
       "\n",
       "<g class=\"displacy-arrow\">\n",
       "    <path class=\"displacy-arc\" id=\"arrow-bbb868ad2098407e9d1123b1d2ece818-0-1\" stroke-width=\"2px\" d=\"M245,89.5 C245,2.0 400.0,2.0 400.0,89.5\" fill=\"none\" stroke=\"currentColor\"/>\n",
       "    <text dy=\"1.25em\" style=\"font-size: 0.8em; letter-spacing: 1px\">\n",
       "        <textPath xlink:href=\"#arrow-bbb868ad2098407e9d1123b1d2ece818-0-1\" class=\"displacy-label\" startOffset=\"50%\" side=\"left\" fill=\"currentColor\" text-anchor=\"middle\">obl</textPath>\n",
       "    </text>\n",
       "    <path class=\"displacy-arrowhead\" d=\"M400.0,91.5 L408.0,79.5 392.0,79.5\" fill=\"currentColor\"/>\n",
       "</g>\n",
       "\n",
       "<g class=\"displacy-arrow\">\n",
       "    <path class=\"displacy-arc\" id=\"arrow-bbb868ad2098407e9d1123b1d2ece818-0-2\" stroke-width=\"2px\" d=\"M420,89.5 C420,2.0 575.0,2.0 575.0,89.5\" fill=\"none\" stroke=\"currentColor\"/>\n",
       "    <text dy=\"1.25em\" style=\"font-size: 0.8em; letter-spacing: 1px\">\n",
       "        <textPath xlink:href=\"#arrow-bbb868ad2098407e9d1123b1d2ece818-0-2\" class=\"displacy-label\" startOffset=\"50%\" side=\"left\" fill=\"currentColor\" text-anchor=\"middle\">case</textPath>\n",
       "    </text>\n",
       "    <path class=\"displacy-arrowhead\" d=\"M575.0,91.5 L583.0,79.5 567.0,79.5\" fill=\"currentColor\"/>\n",
       "</g>\n",
       "</svg></span>"
      ],
      "text/plain": [
       "<IPython.core.display.HTML object>"
      ]
     },
     "metadata": {},
     "output_type": "display_data"
    },
    {
     "name": "stdout",
     "output_type": "stream",
     "text": [
      "TokenList<Poika, juoksee, puuta, kohti, ., metadata={sent_id: \"8\", text: \"Poika juoksee puuta kohti.\"}>\n",
      "dict_items([('id', 1), ('form', 'Poika'), ('lemma', 'poika'), ('upos', 'NOUN'), ('xpos', 'N'), ('feats', {'Case': 'Nom', 'Number': 'Sing'}), ('head', 2), ('deprel', 'nsubj'), ('deps', None), ('misc', {'TokenRange': '167:172'})])\n",
      "dict_items([('id', 2), ('form', 'juoksee'), ('lemma', 'juosta'), ('upos', 'VERB'), ('xpos', 'V'), ('feats', {'Mood': 'Ind', 'Number': 'Sing', 'Person': '3', 'Tense': 'Pres', 'VerbForm': 'Fin', 'Voice': 'Act'}), ('head', 0), ('deprel', 'root'), ('deps', None), ('misc', {'TokenRange': '173:180'})])\n",
      "dict_items([('id', 3), ('form', 'puuta'), ('lemma', 'puu'), ('upos', 'NOUN'), ('xpos', 'N'), ('feats', {'Case': 'Par', 'Number': 'Sing'}), ('head', 2), ('deprel', 'obl'), ('deps', None), ('misc', {'TokenRange': '181:186'})])\n",
      "dict_items([('id', 4), ('form', 'kohti'), ('lemma', 'kohti'), ('upos', 'ADP'), ('xpos', 'Adp'), ('feats', {'AdpType': 'Post'}), ('head', 3), ('deprel', 'case'), ('deps', None), ('misc', {'SpaceAfter': 'No', 'TokenRange': '187:192'})])\n",
      "dict_items([('id', 5), ('form', '.'), ('lemma', '.'), ('upos', 'PUNCT'), ('xpos', 'Punct'), ('feats', None), ('head', 2), ('deprel', 'punct'), ('deps', None), ('misc', {'SpacesAfter': '\\\\n', 'TokenRange': '192:193'})])\n"
     ]
    }
   ],
   "source": [
    "render_doc_by_sent_id(docs, sentences, '8')\n",
    "# The boy runs toward the tree.\n",
    "\n",
    "\n",
    "\n",
    "print(sentences[7])\n",
    "\n",
    "for token in sentences[7]:\n",
    "    print(token.items())"
   ]
  },
  {
   "cell_type": "code",
   "execution_count": 18,
   "metadata": {},
   "outputs": [
    {
     "data": {
      "text/html": [
       "<span class=\"tex2jax_ignore\"><svg xmlns=\"http://www.w3.org/2000/svg\" xmlns:xlink=\"http://www.w3.org/1999/xlink\" xml:lang=\"fi\" id=\"d5da87f36556471495aa9287043e0815-0\" class=\"displacy\" width=\"925\" height=\"312.0\" direction=\"ltr\" style=\"max-width: none; height: 312.0px; color: #000000; background: #ffffff; font-family: Arial; direction: ltr\">\n",
       "<text class=\"displacy-token\" fill=\"currentColor\" text-anchor=\"middle\" y=\"222.0\">\n",
       "    <tspan class=\"displacy-word\" fill=\"currentColor\" x=\"50\">Orava</tspan>\n",
       "    <tspan class=\"displacy-tag\" dy=\"2em\" fill=\"currentColor\" x=\"50\">NOUN</tspan>\n",
       "</text>\n",
       "\n",
       "<text class=\"displacy-token\" fill=\"currentColor\" text-anchor=\"middle\" y=\"222.0\">\n",
       "    <tspan class=\"displacy-word\" fill=\"currentColor\" x=\"225\">liikkui</tspan>\n",
       "    <tspan class=\"displacy-tag\" dy=\"2em\" fill=\"currentColor\" x=\"225\">VERB</tspan>\n",
       "</text>\n",
       "\n",
       "<text class=\"displacy-token\" fill=\"currentColor\" text-anchor=\"middle\" y=\"222.0\">\n",
       "    <tspan class=\"displacy-word\" fill=\"currentColor\" x=\"400\">pois</tspan>\n",
       "    <tspan class=\"displacy-tag\" dy=\"2em\" fill=\"currentColor\" x=\"400\">ADV</tspan>\n",
       "</text>\n",
       "\n",
       "<text class=\"displacy-token\" fill=\"currentColor\" text-anchor=\"middle\" y=\"222.0\">\n",
       "    <tspan class=\"displacy-word\" fill=\"currentColor\" x=\"575\">puun</tspan>\n",
       "    <tspan class=\"displacy-tag\" dy=\"2em\" fill=\"currentColor\" x=\"575\">NOUN</tspan>\n",
       "</text>\n",
       "\n",
       "<text class=\"displacy-token\" fill=\"currentColor\" text-anchor=\"middle\" y=\"222.0\">\n",
       "    <tspan class=\"displacy-word\" fill=\"currentColor\" x=\"750\">luota .</tspan>\n",
       "    <tspan class=\"displacy-tag\" dy=\"2em\" fill=\"currentColor\" x=\"750\">ADP</tspan>\n",
       "</text>\n",
       "\n",
       "<g class=\"displacy-arrow\">\n",
       "    <path class=\"displacy-arc\" id=\"arrow-d5da87f36556471495aa9287043e0815-0-0\" stroke-width=\"2px\" d=\"M70,177.0 C70,89.5 220.0,89.5 220.0,177.0\" fill=\"none\" stroke=\"currentColor\"/>\n",
       "    <text dy=\"1.25em\" style=\"font-size: 0.8em; letter-spacing: 1px\">\n",
       "        <textPath xlink:href=\"#arrow-d5da87f36556471495aa9287043e0815-0-0\" class=\"displacy-label\" startOffset=\"50%\" side=\"left\" fill=\"currentColor\" text-anchor=\"middle\">nsubj</textPath>\n",
       "    </text>\n",
       "    <path class=\"displacy-arrowhead\" d=\"M70,179.0 L62,167.0 78,167.0\" fill=\"currentColor\"/>\n",
       "</g>\n",
       "\n",
       "<g class=\"displacy-arrow\">\n",
       "    <path class=\"displacy-arc\" id=\"arrow-d5da87f36556471495aa9287043e0815-0-1\" stroke-width=\"2px\" d=\"M245,177.0 C245,89.5 395.0,89.5 395.0,177.0\" fill=\"none\" stroke=\"currentColor\"/>\n",
       "    <text dy=\"1.25em\" style=\"font-size: 0.8em; letter-spacing: 1px\">\n",
       "        <textPath xlink:href=\"#arrow-d5da87f36556471495aa9287043e0815-0-1\" class=\"displacy-label\" startOffset=\"50%\" side=\"left\" fill=\"currentColor\" text-anchor=\"middle\">advmod</textPath>\n",
       "    </text>\n",
       "    <path class=\"displacy-arrowhead\" d=\"M395.0,179.0 L403.0,167.0 387.0,167.0\" fill=\"currentColor\"/>\n",
       "</g>\n",
       "\n",
       "<g class=\"displacy-arrow\">\n",
       "    <path class=\"displacy-arc\" id=\"arrow-d5da87f36556471495aa9287043e0815-0-2\" stroke-width=\"2px\" d=\"M245,177.0 C245,2.0 575.0,2.0 575.0,177.0\" fill=\"none\" stroke=\"currentColor\"/>\n",
       "    <text dy=\"1.25em\" style=\"font-size: 0.8em; letter-spacing: 1px\">\n",
       "        <textPath xlink:href=\"#arrow-d5da87f36556471495aa9287043e0815-0-2\" class=\"displacy-label\" startOffset=\"50%\" side=\"left\" fill=\"currentColor\" text-anchor=\"middle\">obl</textPath>\n",
       "    </text>\n",
       "    <path class=\"displacy-arrowhead\" d=\"M575.0,179.0 L583.0,167.0 567.0,167.0\" fill=\"currentColor\"/>\n",
       "</g>\n",
       "\n",
       "<g class=\"displacy-arrow\">\n",
       "    <path class=\"displacy-arc\" id=\"arrow-d5da87f36556471495aa9287043e0815-0-3\" stroke-width=\"2px\" d=\"M595,177.0 C595,89.5 745.0,89.5 745.0,177.0\" fill=\"none\" stroke=\"currentColor\"/>\n",
       "    <text dy=\"1.25em\" style=\"font-size: 0.8em; letter-spacing: 1px\">\n",
       "        <textPath xlink:href=\"#arrow-d5da87f36556471495aa9287043e0815-0-3\" class=\"displacy-label\" startOffset=\"50%\" side=\"left\" fill=\"currentColor\" text-anchor=\"middle\">case</textPath>\n",
       "    </text>\n",
       "    <path class=\"displacy-arrowhead\" d=\"M745.0,179.0 L753.0,167.0 737.0,167.0\" fill=\"currentColor\"/>\n",
       "</g>\n",
       "</svg></span>"
      ],
      "text/plain": [
       "<IPython.core.display.HTML object>"
      ]
     },
     "metadata": {},
     "output_type": "display_data"
    },
    {
     "name": "stdout",
     "output_type": "stream",
     "text": [
      "TokenList<Orava, liikkui, pois, puun, luota, ., metadata={sent_id: \"9\", text: \"Orava liikkui pois puun luota.\"}>\n",
      "dict_items([('id', 1), ('form', 'Orava'), ('lemma', 'orava'), ('upos', 'NOUN'), ('xpos', 'N'), ('feats', {'Case': 'Nom', 'Number': 'Sing'}), ('head', 2), ('deprel', 'nsubj'), ('deps', None), ('misc', {'TokenRange': '194:199'})])\n",
      "dict_items([('id', 2), ('form', 'liikkui'), ('lemma', 'liikkua'), ('upos', 'VERB'), ('xpos', 'V'), ('feats', {'Mood': 'Ind', 'Number': 'Sing', 'Person': '3', 'Tense': 'Past', 'VerbForm': 'Fin', 'Voice': 'Act'}), ('head', 0), ('deprel', 'root'), ('deps', None), ('misc', {'TokenRange': '200:207'})])\n",
      "dict_items([('id', 3), ('form', 'pois'), ('lemma', 'pois'), ('upos', 'ADV'), ('xpos', 'Adv'), ('feats', None), ('head', 2), ('deprel', 'advmod'), ('deps', None), ('misc', {'TokenRange': '208:212'})])\n",
      "dict_items([('id', 4), ('form', 'puun'), ('lemma', 'puu'), ('upos', 'NOUN'), ('xpos', 'N'), ('feats', {'Case': 'Gen', 'Number': 'Sing'}), ('head', 2), ('deprel', 'obl'), ('deps', None), ('misc', {'TokenRange': '213:217'})])\n",
      "dict_items([('id', 5), ('form', 'luota'), ('lemma', 'luota'), ('upos', 'ADP'), ('xpos', 'Adp'), ('feats', {'AdpType': 'Post'}), ('head', 4), ('deprel', 'case'), ('deps', None), ('misc', {'SpaceAfter': 'No', 'TokenRange': '218:223'})])\n",
      "dict_items([('id', 6), ('form', '.'), ('lemma', '.'), ('upos', 'PUNCT'), ('xpos', 'Punct'), ('feats', None), ('head', 2), ('deprel', 'punct'), ('deps', None), ('misc', {'SpacesAfter': '\\\\n', 'TokenRange': '223:224'})])\n"
     ]
    }
   ],
   "source": [
    "render_doc_by_sent_id(docs, sentences, '9')\n",
    "# The squirrel moved away from the tree.\n",
    "\n",
    "\n",
    "\n",
    "print(sentences[8])\n",
    "\n",
    "for token in sentences[8]:\n",
    "    print(token.items())"
   ]
  },
  {
   "cell_type": "code",
   "execution_count": null,
   "metadata": {},
   "outputs": [],
   "source": []
  }
 ],
 "metadata": {
  "kernelspec": {
   "display_name": "venv",
   "language": "python",
   "name": "python3"
  },
  "language_info": {
   "codemirror_mode": {
    "name": "ipython",
    "version": 3
   },
   "file_extension": ".py",
   "mimetype": "text/x-python",
   "name": "python",
   "nbconvert_exporter": "python",
   "pygments_lexer": "ipython3",
   "version": "3.12.4"
  }
 },
 "nbformat": 4,
 "nbformat_minor": 2
}

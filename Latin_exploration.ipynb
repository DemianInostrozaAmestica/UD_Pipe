{
 "cells": [
  {
   "cell_type": "code",
   "execution_count": 23,
   "metadata": {},
   "outputs": [],
   "source": [
    "from conllu import parse\n",
    "\n",
    "with open('data/latin.conllu', 'r', encoding='utf8') as file:\n",
    "    data = file.read()\n",
    "\n",
    "sentences = parse(data)\n",
    "\n",
    "import spacy\n",
    "from spacy.tokens import Doc, Token\n",
    "from conllu import parse_incr\n",
    "from conllu import parse\n",
    "from spacy.vocab import Vocab\n",
    "from spacy import displacy\n",
    "from pprint import pprint\n",
    "\n",
    "nlp = spacy.blank(\"la\")  \n",
    "vocab = nlp.vocab\n",
    "\n",
    "if not Token.has_extension(\"xpos\"):\n",
    "    Token.set_extension(\"xpos\", default=None)\n",
    "if not Token.has_extension(\"deps\"):\n",
    "    Token.set_extension(\"deps\", default=None)\n",
    "if not Token.has_extension(\"misc\"):\n",
    "    Token.set_extension(\"misc\", default=None)\n",
    "\n",
    "\n",
    "def process_conllu_file(file_path):\n",
    "    docs = []\n",
    "    with open(file_path, \"r\", encoding=\"utf-8\") as file:\n",
    "        for conllu_sentence in parse_incr(file):\n",
    "            doc = conllu_to_spacy_doc(conllu_sentence, vocab)\n",
    "            docs.append(doc)\n",
    "    return docs\n",
    "\n",
    "def conllu_to_spacy_doc(conllu_sentence, vocab):\n",
    "    words = [token[\"form\"] for token in conllu_sentence]\n",
    "    heads = [token[\"head\"] if token[\"head\"] is not None else 0 for token in conllu_sentence]  # Head = 0 para raíces\n",
    "    deps = [token[\"deprel\"].split(\":\")[0] for token in conllu_sentence]\n",
    "    lemmas = [token[\"lemma\"] for token in conllu_sentence]\n",
    "    pos_tags = [token[\"upostag\"] for token in conllu_sentence]\n",
    "    xpos_tags = [token[\"xpos\"] for token in conllu_sentence]\n",
    "    morph_feats = [token[\"feats\"] or {} for token in conllu_sentence]\n",
    "    misc_info = [token[\"misc\"] or {} for token in conllu_sentence]\n",
    "    deps_info = [token[\"deps\"] or {} for token in conllu_sentence]\n",
    "\n",
    "    # Crear el objeto Doc\n",
    "    doc = Doc(vocab, words=words)\n",
    "\n",
    "    # Asignar los atributos a cada token\n",
    "    for i, token in enumerate(doc):\n",
    "        token.lemma_ = lemmas[i]\n",
    "        \n",
    "        # Asignar el Universal POS a `pos_`, o usar `tag_` si no es válido\n",
    "        if pos_tags[i] != \"_\":\n",
    "            token.pos_ = pos_tags[i]\n",
    "        elif xpos_tags[i] is not None:  # Verificar si xpos_tags[i] no es None antes de asignarlo\n",
    "            token.tag_ = xpos_tags[i]  # Usar `xpos` como `tag_` si `upos` es \"_\"\n",
    "\n",
    "        token.dep_ = deps[i]\n",
    "        \n",
    "        # Verificar que heads[i] sea un número entero antes de asignarlo como cabeza\n",
    "        if isinstance(heads[i], int) and heads[i] > 0:\n",
    "            token.head = doc[heads[i] - 1]  # Usar head como índice (spaCy usa índice 0 para la raíz)\n",
    "        else:\n",
    "            token.head = token  # Si head es 0 o no válido, el token se apunta a sí mismo como raíz\n",
    "\n",
    "        # Asignar xpos, deps y misc como atributos personalizados\n",
    "        token._.xpos = xpos_tags[i]\n",
    "        token._.deps = deps_info[i]\n",
    "        token._.misc = misc_info[i]\n",
    "\n",
    "        # Convertir `feats` a un formato que spaCy entiende y asignarlo a morph\n",
    "        if morph_feats[i]:\n",
    "            feats_str = \"|\".join(f\"{k}={v}\" for k, v in morph_feats[i].items())\n",
    "            token.set_morph(feats_str)\n",
    "\n",
    "    return doc\n",
    "\n",
    "def render_doc_by_sent_id(docs, sentences, target_sent_id):\n",
    "    # Buscar el índice del `sent_id` deseado en los metadatos de `sentences`\n",
    "    for i, sentence in enumerate(sentences):\n",
    "        if sentence.metadata.get(\"sent_id\") == target_sent_id:\n",
    "            # Renderizar el Doc correspondiente usando `displacy`\n",
    "            displacy.render(docs[i], style=\"dep\", jupyter=True)\n",
    "            return  # Salimos después de encontrar y renderizar\n",
    "    print(f\"Oración con sent_id '{target_sent_id}' no encontrada.\")\n",
    "\n",
    "\n",
    "file_path = \"data/latin.conllu\"\n",
    "docs = process_conllu_file(file_path)\n"
   ]
  },
  {
   "cell_type": "markdown",
   "metadata": {},
   "source": [
    "IN"
   ]
  },
  {
   "cell_type": "code",
   "execution_count": 24,
   "metadata": {},
   "outputs": [
    {
     "data": {
      "text/html": [
       "<span class=\"tex2jax_ignore\"><svg xmlns=\"http://www.w3.org/2000/svg\" xmlns:xlink=\"http://www.w3.org/1999/xlink\" xml:lang=\"la\" id=\"98baad44500043ee94ceafdd0bfe58b5-0\" class=\"displacy\" width=\"750\" height=\"312.0\" direction=\"ltr\" style=\"max-width: none; height: 312.0px; color: #000000; background: #ffffff; font-family: Arial; direction: ltr\">\n",
       "<text class=\"displacy-token\" fill=\"currentColor\" text-anchor=\"middle\" y=\"222.0\">\n",
       "    <tspan class=\"displacy-word\" fill=\"currentColor\" x=\"50\">Fēlēs</tspan>\n",
       "    <tspan class=\"displacy-tag\" dy=\"2em\" fill=\"currentColor\" x=\"50\">NOUN</tspan>\n",
       "</text>\n",
       "\n",
       "<text class=\"displacy-token\" fill=\"currentColor\" text-anchor=\"middle\" y=\"222.0\">\n",
       "    <tspan class=\"displacy-word\" fill=\"currentColor\" x=\"225\">est</tspan>\n",
       "    <tspan class=\"displacy-tag\" dy=\"2em\" fill=\"currentColor\" x=\"225\">AUX</tspan>\n",
       "</text>\n",
       "\n",
       "<text class=\"displacy-token\" fill=\"currentColor\" text-anchor=\"middle\" y=\"222.0\">\n",
       "    <tspan class=\"displacy-word\" fill=\"currentColor\" x=\"400\">in</tspan>\n",
       "    <tspan class=\"displacy-tag\" dy=\"2em\" fill=\"currentColor\" x=\"400\">ADP</tspan>\n",
       "</text>\n",
       "\n",
       "<text class=\"displacy-token\" fill=\"currentColor\" text-anchor=\"middle\" y=\"222.0\">\n",
       "    <tspan class=\"displacy-word\" fill=\"currentColor\" x=\"575\">armāriō .</tspan>\n",
       "    <tspan class=\"displacy-tag\" dy=\"2em\" fill=\"currentColor\" x=\"575\">NOUN</tspan>\n",
       "</text>\n",
       "\n",
       "<g class=\"displacy-arrow\">\n",
       "    <path class=\"displacy-arc\" id=\"arrow-98baad44500043ee94ceafdd0bfe58b5-0-0\" stroke-width=\"2px\" d=\"M70,177.0 C70,89.5 220.0,89.5 220.0,177.0\" fill=\"none\" stroke=\"currentColor\"/>\n",
       "    <text dy=\"1.25em\" style=\"font-size: 0.8em; letter-spacing: 1px\">\n",
       "        <textPath xlink:href=\"#arrow-98baad44500043ee94ceafdd0bfe58b5-0-0\" class=\"displacy-label\" startOffset=\"50%\" side=\"left\" fill=\"currentColor\" text-anchor=\"middle\">nsubj</textPath>\n",
       "    </text>\n",
       "    <path class=\"displacy-arrowhead\" d=\"M70,179.0 L62,167.0 78,167.0\" fill=\"currentColor\"/>\n",
       "</g>\n",
       "\n",
       "<g class=\"displacy-arrow\">\n",
       "    <path class=\"displacy-arc\" id=\"arrow-98baad44500043ee94ceafdd0bfe58b5-0-1\" stroke-width=\"2px\" d=\"M420,177.0 C420,89.5 570.0,89.5 570.0,177.0\" fill=\"none\" stroke=\"currentColor\"/>\n",
       "    <text dy=\"1.25em\" style=\"font-size: 0.8em; letter-spacing: 1px\">\n",
       "        <textPath xlink:href=\"#arrow-98baad44500043ee94ceafdd0bfe58b5-0-1\" class=\"displacy-label\" startOffset=\"50%\" side=\"left\" fill=\"currentColor\" text-anchor=\"middle\">case</textPath>\n",
       "    </text>\n",
       "    <path class=\"displacy-arrowhead\" d=\"M420,179.0 L412,167.0 428,167.0\" fill=\"currentColor\"/>\n",
       "</g>\n",
       "\n",
       "<g class=\"displacy-arrow\">\n",
       "    <path class=\"displacy-arc\" id=\"arrow-98baad44500043ee94ceafdd0bfe58b5-0-2\" stroke-width=\"2px\" d=\"M245,177.0 C245,2.0 575.0,2.0 575.0,177.0\" fill=\"none\" stroke=\"currentColor\"/>\n",
       "    <text dy=\"1.25em\" style=\"font-size: 0.8em; letter-spacing: 1px\">\n",
       "        <textPath xlink:href=\"#arrow-98baad44500043ee94ceafdd0bfe58b5-0-2\" class=\"displacy-label\" startOffset=\"50%\" side=\"left\" fill=\"currentColor\" text-anchor=\"middle\">obl</textPath>\n",
       "    </text>\n",
       "    <path class=\"displacy-arrowhead\" d=\"M575.0,179.0 L583.0,167.0 567.0,167.0\" fill=\"currentColor\"/>\n",
       "</g>\n",
       "</svg></span>"
      ],
      "text/plain": [
       "<IPython.core.display.HTML object>"
      ]
     },
     "metadata": {},
     "output_type": "display_data"
    },
    {
     "name": "stdout",
     "output_type": "stream",
     "text": [
      "TokenList<Fēlēs, est, in, armāriō, ., metadata={generator: \"UDPipe 2, https://lindat.mff.cuni.cz/services/udpipe\", udpipe_model: \"latin-ittb-ud-2.12-230717\", udpipe_model_licence: \"CC BY-NC-SA\", newdoc: \"None\", newpar: \"None\", sent_id: \"1\", text: \"Fēlēs est in armāriō.\"}>\n",
      "dict_items([('id', 1), ('form', 'Fēlēs'), ('lemma', 'fēlēs'), ('upos', 'NOUN'), ('xpos', 'C1|grn1|casA|gen1'), ('feats', {'Case': 'Nom', 'Gender': 'Masc', 'InflClass': 'IndEurI', 'Number': 'Sing'}), ('head', 2), ('deprel', 'nsubj'), ('deps', None), ('misc', {'TokenRange': '0:5'})])\n",
      "dict_items([('id', 2), ('form', 'est'), ('lemma', 'sum'), ('upos', 'AUX'), ('xpos', 'N3|modA|tem1|gen6'), ('feats', {'InflClass': 'LatAnom', 'Number': 'Sing', 'VerbForm': 'Fin'}), ('head', 0), ('deprel', 'root'), ('deps', None), ('misc', {'TokenRange': '6:9'})])\n",
      "dict_items([('id', 3), ('form', 'in'), ('lemma', 'in'), ('upos', 'ADP'), ('xpos', 'S4'), ('feats', None), ('head', 4), ('deprel', 'case'), ('deps', None), ('misc', {'TokenRange': '10:12'})])\n",
      "dict_items([('id', 4), ('form', 'armāriō'), ('lemma', 'armārium'), ('upos', 'NOUN'), ('xpos', 'B1|grn1|casF|gen3'), ('feats', {'Case': 'Abl', 'Gender': 'Neut', 'InflClass': 'IndEurO', 'Number': 'Sing'}), ('head', 2), ('deprel', 'obl'), ('deps', None), ('misc', {'SpaceAfter': 'No', 'TokenRange': '13:20'})])\n",
      "dict_items([('id', 5), ('form', '.'), ('lemma', '.'), ('upos', 'PUNCT'), ('xpos', 'Punc'), ('feats', None), ('head', 2), ('deprel', 'punct'), ('deps', None), ('misc', {'SpacesAfter': '\\\\n', 'TokenRange': '20:21'})])\n"
     ]
    }
   ],
   "source": [
    "render_doc_by_sent_id(docs, sentences, '1')\n",
    "# The cat is in the wardrobe.\n",
    "\n",
    "print(sentences[0])\n",
    "\n",
    "for token in sentences[0]:\n",
    "    print(token.items())"
   ]
  },
  {
   "cell_type": "code",
   "execution_count": 25,
   "metadata": {},
   "outputs": [
    {
     "data": {
      "text/html": [
       "<span class=\"tex2jax_ignore\"><svg xmlns=\"http://www.w3.org/2000/svg\" xmlns:xlink=\"http://www.w3.org/1999/xlink\" xml:lang=\"la\" id=\"60a92508095c48c18b43308b7e710425-0\" class=\"displacy\" width=\"575\" height=\"224.5\" direction=\"ltr\" style=\"max-width: none; height: 224.5px; color: #000000; background: #ffffff; font-family: Arial; direction: ltr\">\n",
       "<text class=\"displacy-token\" fill=\"currentColor\" text-anchor=\"middle\" y=\"134.5\">\n",
       "    <tspan class=\"displacy-word\" fill=\"currentColor\" x=\"50\">Ea</tspan>\n",
       "    <tspan class=\"displacy-tag\" dy=\"2em\" fill=\"currentColor\" x=\"50\">PRON</tspan>\n",
       "</text>\n",
       "\n",
       "<text class=\"displacy-token\" fill=\"currentColor\" text-anchor=\"middle\" y=\"134.5\">\n",
       "    <tspan class=\"displacy-word\" fill=\"currentColor\" x=\"225\">intrat</tspan>\n",
       "    <tspan class=\"displacy-tag\" dy=\"2em\" fill=\"currentColor\" x=\"225\">VERB</tspan>\n",
       "</text>\n",
       "\n",
       "<text class=\"displacy-token\" fill=\"currentColor\" text-anchor=\"middle\" y=\"134.5\">\n",
       "    <tspan class=\"displacy-word\" fill=\"currentColor\" x=\"400\">tabernam .</tspan>\n",
       "    <tspan class=\"displacy-tag\" dy=\"2em\" fill=\"currentColor\" x=\"400\">NOUN</tspan>\n",
       "</text>\n",
       "\n",
       "<g class=\"displacy-arrow\">\n",
       "    <path class=\"displacy-arc\" id=\"arrow-60a92508095c48c18b43308b7e710425-0-0\" stroke-width=\"2px\" d=\"M70,89.5 C70,2.0 225.0,2.0 225.0,89.5\" fill=\"none\" stroke=\"currentColor\"/>\n",
       "    <text dy=\"1.25em\" style=\"font-size: 0.8em; letter-spacing: 1px\">\n",
       "        <textPath xlink:href=\"#arrow-60a92508095c48c18b43308b7e710425-0-0\" class=\"displacy-label\" startOffset=\"50%\" side=\"left\" fill=\"currentColor\" text-anchor=\"middle\">nsubj</textPath>\n",
       "    </text>\n",
       "    <path class=\"displacy-arrowhead\" d=\"M70,91.5 L62,79.5 78,79.5\" fill=\"currentColor\"/>\n",
       "</g>\n",
       "\n",
       "<g class=\"displacy-arrow\">\n",
       "    <path class=\"displacy-arc\" id=\"arrow-60a92508095c48c18b43308b7e710425-0-1\" stroke-width=\"2px\" d=\"M245,89.5 C245,2.0 400.0,2.0 400.0,89.5\" fill=\"none\" stroke=\"currentColor\"/>\n",
       "    <text dy=\"1.25em\" style=\"font-size: 0.8em; letter-spacing: 1px\">\n",
       "        <textPath xlink:href=\"#arrow-60a92508095c48c18b43308b7e710425-0-1\" class=\"displacy-label\" startOffset=\"50%\" side=\"left\" fill=\"currentColor\" text-anchor=\"middle\">obj</textPath>\n",
       "    </text>\n",
       "    <path class=\"displacy-arrowhead\" d=\"M400.0,91.5 L408.0,79.5 392.0,79.5\" fill=\"currentColor\"/>\n",
       "</g>\n",
       "</svg></span>"
      ],
      "text/plain": [
       "<IPython.core.display.HTML object>"
      ]
     },
     "metadata": {},
     "output_type": "display_data"
    },
    {
     "name": "stdout",
     "output_type": "stream",
     "text": [
      "TokenList<Ea, intrat, tabernam, ., metadata={sent_id: \"2\", text: \"Ea intrat tabernam.\"}>\n",
      "dict_items([('id', 1), ('form', 'Ea'), ('lemma', 'ea'), ('upos', 'PRON'), ('xpos', 'F1|grn1|casA|gen2'), ('feats', {'Case': 'Abl', 'Gender': 'Fem', 'InflClass': 'LatPron', 'Number': 'Sing', 'Person': '3', 'PronType': 'Prs'}), ('head', 2), ('deprel', 'nsubj'), ('deps', None), ('misc', {'TokenRange': '22:24'})])\n",
      "dict_items([('id', 2), ('form', 'intrat'), ('lemma', 'intro'), ('upos', 'VERB'), ('xpos', 'J3|modA|tem1|gen6'), ('feats', {'Aspect': 'Imp', 'InflClass': 'LatA', 'Mood': 'Ind', 'Number': 'Sing', 'Person': '3', 'Tense': 'Pres', 'VerbForm': 'Fin', 'Voice': 'Act'}), ('head', 0), ('deprel', 'root'), ('deps', None), ('misc', {'TokenRange': '25:31'})])\n",
      "dict_items([('id', 3), ('form', 'tabernam'), ('lemma', 'tabernus'), ('upos', 'NOUN'), ('xpos', 'A1|grn1|casD|gen2'), ('feats', {'Case': 'Acc', 'Gender': 'Fem', 'InflClass': 'IndEurA', 'Number': 'Sing'}), ('head', 2), ('deprel', 'obj'), ('deps', None), ('misc', {'SpaceAfter': 'No', 'TokenRange': '32:40'})])\n",
      "dict_items([('id', 4), ('form', '.'), ('lemma', '.'), ('upos', 'PUNCT'), ('xpos', 'Punc'), ('feats', None), ('head', 2), ('deprel', 'punct'), ('deps', None), ('misc', {'SpacesAfter': '\\\\n', 'TokenRange': '40:41'})])\n"
     ]
    }
   ],
   "source": [
    "render_doc_by_sent_id(docs, sentences, '2')\n",
    "# She enters the shop.\n",
    "\n",
    "\n",
    "print(sentences[1])\n",
    "\n",
    "for token in sentences[1]:\n",
    "    print(token.items())"
   ]
  },
  {
   "cell_type": "code",
   "execution_count": 27,
   "metadata": {},
   "outputs": [
    {
     "data": {
      "text/html": [
       "<span class=\"tex2jax_ignore\"><svg xmlns=\"http://www.w3.org/2000/svg\" xmlns:xlink=\"http://www.w3.org/1999/xlink\" xml:lang=\"la\" id=\"c3d97a209bc942ada6d73d3f5a2621ac-0\" class=\"displacy\" width=\"750\" height=\"312.0\" direction=\"ltr\" style=\"max-width: none; height: 312.0px; color: #000000; background: #ffffff; font-family: Arial; direction: ltr\">\n",
       "<text class=\"displacy-token\" fill=\"currentColor\" text-anchor=\"middle\" y=\"222.0\">\n",
       "    <tspan class=\"displacy-word\" fill=\"currentColor\" x=\"50\">Ille</tspan>\n",
       "    <tspan class=\"displacy-tag\" dy=\"2em\" fill=\"currentColor\" x=\"50\">DET</tspan>\n",
       "</text>\n",
       "\n",
       "<text class=\"displacy-token\" fill=\"currentColor\" text-anchor=\"middle\" y=\"222.0\">\n",
       "    <tspan class=\"displacy-word\" fill=\"currentColor\" x=\"225\">ēgreditur</tspan>\n",
       "    <tspan class=\"displacy-tag\" dy=\"2em\" fill=\"currentColor\" x=\"225\">VERB</tspan>\n",
       "</text>\n",
       "\n",
       "<text class=\"displacy-token\" fill=\"currentColor\" text-anchor=\"middle\" y=\"222.0\">\n",
       "    <tspan class=\"displacy-word\" fill=\"currentColor\" x=\"400\">ē</tspan>\n",
       "    <tspan class=\"displacy-tag\" dy=\"2em\" fill=\"currentColor\" x=\"400\">ADP</tspan>\n",
       "</text>\n",
       "\n",
       "<text class=\"displacy-token\" fill=\"currentColor\" text-anchor=\"middle\" y=\"222.0\">\n",
       "    <tspan class=\"displacy-word\" fill=\"currentColor\" x=\"575\">spēluncā .</tspan>\n",
       "    <tspan class=\"displacy-tag\" dy=\"2em\" fill=\"currentColor\" x=\"575\">NOUN</tspan>\n",
       "</text>\n",
       "\n",
       "<g class=\"displacy-arrow\">\n",
       "    <path class=\"displacy-arc\" id=\"arrow-c3d97a209bc942ada6d73d3f5a2621ac-0-0\" stroke-width=\"2px\" d=\"M70,177.0 C70,89.5 220.0,89.5 220.0,177.0\" fill=\"none\" stroke=\"currentColor\"/>\n",
       "    <text dy=\"1.25em\" style=\"font-size: 0.8em; letter-spacing: 1px\">\n",
       "        <textPath xlink:href=\"#arrow-c3d97a209bc942ada6d73d3f5a2621ac-0-0\" class=\"displacy-label\" startOffset=\"50%\" side=\"left\" fill=\"currentColor\" text-anchor=\"middle\">nsubj</textPath>\n",
       "    </text>\n",
       "    <path class=\"displacy-arrowhead\" d=\"M70,179.0 L62,167.0 78,167.0\" fill=\"currentColor\"/>\n",
       "</g>\n",
       "\n",
       "<g class=\"displacy-arrow\">\n",
       "    <path class=\"displacy-arc\" id=\"arrow-c3d97a209bc942ada6d73d3f5a2621ac-0-1\" stroke-width=\"2px\" d=\"M420,177.0 C420,89.5 570.0,89.5 570.0,177.0\" fill=\"none\" stroke=\"currentColor\"/>\n",
       "    <text dy=\"1.25em\" style=\"font-size: 0.8em; letter-spacing: 1px\">\n",
       "        <textPath xlink:href=\"#arrow-c3d97a209bc942ada6d73d3f5a2621ac-0-1\" class=\"displacy-label\" startOffset=\"50%\" side=\"left\" fill=\"currentColor\" text-anchor=\"middle\">case</textPath>\n",
       "    </text>\n",
       "    <path class=\"displacy-arrowhead\" d=\"M420,179.0 L412,167.0 428,167.0\" fill=\"currentColor\"/>\n",
       "</g>\n",
       "\n",
       "<g class=\"displacy-arrow\">\n",
       "    <path class=\"displacy-arc\" id=\"arrow-c3d97a209bc942ada6d73d3f5a2621ac-0-2\" stroke-width=\"2px\" d=\"M245,177.0 C245,2.0 575.0,2.0 575.0,177.0\" fill=\"none\" stroke=\"currentColor\"/>\n",
       "    <text dy=\"1.25em\" style=\"font-size: 0.8em; letter-spacing: 1px\">\n",
       "        <textPath xlink:href=\"#arrow-c3d97a209bc942ada6d73d3f5a2621ac-0-2\" class=\"displacy-label\" startOffset=\"50%\" side=\"left\" fill=\"currentColor\" text-anchor=\"middle\">obl</textPath>\n",
       "    </text>\n",
       "    <path class=\"displacy-arrowhead\" d=\"M575.0,179.0 L583.0,167.0 567.0,167.0\" fill=\"currentColor\"/>\n",
       "</g>\n",
       "</svg></span>"
      ],
      "text/plain": [
       "<IPython.core.display.HTML object>"
      ]
     },
     "metadata": {},
     "output_type": "display_data"
    },
    {
     "name": "stdout",
     "output_type": "stream",
     "text": [
      "TokenList<Ille, ēgreditur, ē, spēluncā, ., metadata={sent_id: \"3\", text: \"Ille ēgreditur ē spēluncā.\"}>\n",
      "dict_items([('id', 1), ('form', 'Ille'), ('lemma', 'ille'), ('upos', 'DET'), ('xpos', 'F1|grn1|casA|gen1'), ('feats', {'Case': 'Nom', 'Gender': 'Masc', 'InflClass': 'LatPron', 'Number': 'Sing', 'PronType': 'Dem'}), ('head', 2), ('deprel', 'nsubj:pass'), ('deps', None), ('misc', {'TokenRange': '42:46'})])\n",
      "dict_items([('id', 2), ('form', 'ēgreditur'), ('lemma', 'ēgredo'), ('upos', 'VERB'), ('xpos', 'L3|modJ|tem1|gen6'), ('feats', {'Aspect': 'Imp', 'InflClass': 'LatX', 'Mood': 'Ind', 'Number': 'Sing', 'Person': '3', 'Tense': 'Pres', 'VerbForm': 'Fin', 'Voice': 'Pass'}), ('head', 0), ('deprel', 'root'), ('deps', None), ('misc', {'TokenRange': '47:56'})])\n",
      "dict_items([('id', 3), ('form', 'ē'), ('lemma', 'ē'), ('upos', 'ADP'), ('xpos', 'S4|vgr1'), ('feats', None), ('head', 4), ('deprel', 'case'), ('deps', None), ('misc', {'TokenRange': '57:58'})])\n",
      "dict_items([('id', 4), ('form', 'spēluncā'), ('lemma', 'spēluncā'), ('upos', 'NOUN'), ('xpos', 'A1|grn1|casF|gen2'), ('feats', {'Case': 'Abl', 'Gender': 'Fem', 'InflClass': 'IndEurA', 'Number': 'Sing'}), ('head', 2), ('deprel', 'obl'), ('deps', None), ('misc', {'SpaceAfter': 'No', 'TokenRange': '59:67'})])\n",
      "dict_items([('id', 5), ('form', '.'), ('lemma', '.'), ('upos', 'PUNCT'), ('xpos', 'Punc'), ('feats', None), ('head', 2), ('deprel', 'punct'), ('deps', None), ('misc', {'SpacesAfter': '\\\\n', 'TokenRange': '67:68'})])\n"
     ]
    }
   ],
   "source": [
    "render_doc_by_sent_id(docs, sentences, '3')\n",
    "# He came out of the cave.\n",
    "\n",
    "\n",
    "print(sentences[2])\n",
    "\n",
    "for token in sentences[2]:\n",
    "    print(token.items())"
   ]
  },
  {
   "cell_type": "markdown",
   "metadata": {},
   "source": [
    "ON"
   ]
  },
  {
   "cell_type": "code",
   "execution_count": 28,
   "metadata": {},
   "outputs": [
    {
     "data": {
      "text/html": [
       "<span class=\"tex2jax_ignore\"><svg xmlns=\"http://www.w3.org/2000/svg\" xmlns:xlink=\"http://www.w3.org/1999/xlink\" xml:lang=\"la\" id=\"802956b379904cc2b50195849bd8a2e2-0\" class=\"displacy\" width=\"750\" height=\"312.0\" direction=\"ltr\" style=\"max-width: none; height: 312.0px; color: #000000; background: #ffffff; font-family: Arial; direction: ltr\">\n",
       "<text class=\"displacy-token\" fill=\"currentColor\" text-anchor=\"middle\" y=\"222.0\">\n",
       "    <tspan class=\"displacy-word\" fill=\"currentColor\" x=\"50\">Liber</tspan>\n",
       "    <tspan class=\"displacy-tag\" dy=\"2em\" fill=\"currentColor\" x=\"50\">NOUN</tspan>\n",
       "</text>\n",
       "\n",
       "<text class=\"displacy-token\" fill=\"currentColor\" text-anchor=\"middle\" y=\"222.0\">\n",
       "    <tspan class=\"displacy-word\" fill=\"currentColor\" x=\"225\">est</tspan>\n",
       "    <tspan class=\"displacy-tag\" dy=\"2em\" fill=\"currentColor\" x=\"225\">AUX</tspan>\n",
       "</text>\n",
       "\n",
       "<text class=\"displacy-token\" fill=\"currentColor\" text-anchor=\"middle\" y=\"222.0\">\n",
       "    <tspan class=\"displacy-word\" fill=\"currentColor\" x=\"400\">in</tspan>\n",
       "    <tspan class=\"displacy-tag\" dy=\"2em\" fill=\"currentColor\" x=\"400\">ADP</tspan>\n",
       "</text>\n",
       "\n",
       "<text class=\"displacy-token\" fill=\"currentColor\" text-anchor=\"middle\" y=\"222.0\">\n",
       "    <tspan class=\"displacy-word\" fill=\"currentColor\" x=\"575\">mēnsā .</tspan>\n",
       "    <tspan class=\"displacy-tag\" dy=\"2em\" fill=\"currentColor\" x=\"575\">NOUN</tspan>\n",
       "</text>\n",
       "\n",
       "<g class=\"displacy-arrow\">\n",
       "    <path class=\"displacy-arc\" id=\"arrow-802956b379904cc2b50195849bd8a2e2-0-0\" stroke-width=\"2px\" d=\"M70,177.0 C70,89.5 220.0,89.5 220.0,177.0\" fill=\"none\" stroke=\"currentColor\"/>\n",
       "    <text dy=\"1.25em\" style=\"font-size: 0.8em; letter-spacing: 1px\">\n",
       "        <textPath xlink:href=\"#arrow-802956b379904cc2b50195849bd8a2e2-0-0\" class=\"displacy-label\" startOffset=\"50%\" side=\"left\" fill=\"currentColor\" text-anchor=\"middle\">nsubj</textPath>\n",
       "    </text>\n",
       "    <path class=\"displacy-arrowhead\" d=\"M70,179.0 L62,167.0 78,167.0\" fill=\"currentColor\"/>\n",
       "</g>\n",
       "\n",
       "<g class=\"displacy-arrow\">\n",
       "    <path class=\"displacy-arc\" id=\"arrow-802956b379904cc2b50195849bd8a2e2-0-1\" stroke-width=\"2px\" d=\"M420,177.0 C420,89.5 570.0,89.5 570.0,177.0\" fill=\"none\" stroke=\"currentColor\"/>\n",
       "    <text dy=\"1.25em\" style=\"font-size: 0.8em; letter-spacing: 1px\">\n",
       "        <textPath xlink:href=\"#arrow-802956b379904cc2b50195849bd8a2e2-0-1\" class=\"displacy-label\" startOffset=\"50%\" side=\"left\" fill=\"currentColor\" text-anchor=\"middle\">case</textPath>\n",
       "    </text>\n",
       "    <path class=\"displacy-arrowhead\" d=\"M420,179.0 L412,167.0 428,167.0\" fill=\"currentColor\"/>\n",
       "</g>\n",
       "\n",
       "<g class=\"displacy-arrow\">\n",
       "    <path class=\"displacy-arc\" id=\"arrow-802956b379904cc2b50195849bd8a2e2-0-2\" stroke-width=\"2px\" d=\"M245,177.0 C245,2.0 575.0,2.0 575.0,177.0\" fill=\"none\" stroke=\"currentColor\"/>\n",
       "    <text dy=\"1.25em\" style=\"font-size: 0.8em; letter-spacing: 1px\">\n",
       "        <textPath xlink:href=\"#arrow-802956b379904cc2b50195849bd8a2e2-0-2\" class=\"displacy-label\" startOffset=\"50%\" side=\"left\" fill=\"currentColor\" text-anchor=\"middle\">obl</textPath>\n",
       "    </text>\n",
       "    <path class=\"displacy-arrowhead\" d=\"M575.0,179.0 L583.0,167.0 567.0,167.0\" fill=\"currentColor\"/>\n",
       "</g>\n",
       "</svg></span>"
      ],
      "text/plain": [
       "<IPython.core.display.HTML object>"
      ]
     },
     "metadata": {},
     "output_type": "display_data"
    },
    {
     "name": "stdout",
     "output_type": "stream",
     "text": [
      "TokenList<Liber, est, in, mēnsā, ., metadata={sent_id: \"4\", text: \"Liber est in mēnsā.\"}>\n",
      "dict_items([('id', 1), ('form', 'Liber'), ('lemma', 'liber'), ('upos', 'NOUN'), ('xpos', 'B1|grn1|casA|gen1'), ('feats', {'Case': 'Nom', 'Gender': 'Masc', 'InflClass': 'IndEurO', 'Number': 'Sing'}), ('head', 2), ('deprel', 'nsubj'), ('deps', None), ('misc', {'TokenRange': '69:74'})])\n",
      "dict_items([('id', 2), ('form', 'est'), ('lemma', 'sum'), ('upos', 'AUX'), ('xpos', 'N3|modA|tem1|gen6'), ('feats', {'InflClass': 'LatAnom', 'Number': 'Sing', 'VerbForm': 'Fin'}), ('head', 0), ('deprel', 'root'), ('deps', None), ('misc', {'TokenRange': '75:78'})])\n",
      "dict_items([('id', 3), ('form', 'in'), ('lemma', 'in'), ('upos', 'ADP'), ('xpos', 'S4'), ('feats', None), ('head', 4), ('deprel', 'case'), ('deps', None), ('misc', {'TokenRange': '79:81'})])\n",
      "dict_items([('id', 4), ('form', 'mēnsā'), ('lemma', 'mēnsā'), ('upos', 'NOUN'), ('xpos', 'C1|grn1|casF|gen2'), ('feats', {'Case': 'Abl', 'Gender': 'Fem', 'InflClass': 'IndEurI', 'Number': 'Sing'}), ('head', 2), ('deprel', 'obl'), ('deps', None), ('misc', {'SpaceAfter': 'No', 'TokenRange': '82:87'})])\n",
      "dict_items([('id', 5), ('form', '.'), ('lemma', '.'), ('upos', 'PUNCT'), ('xpos', 'Punc'), ('feats', None), ('head', 2), ('deprel', 'punct'), ('deps', None), ('misc', {'SpacesAfter': '\\\\n', 'TokenRange': '87:88'})])\n"
     ]
    }
   ],
   "source": [
    "render_doc_by_sent_id(docs, sentences, '4')\n",
    "# The book is on the table.\n",
    "\n",
    "\n",
    "print(sentences[3])\n",
    "\n",
    "for token in sentences[3]:\n",
    "    print(token.items())"
   ]
  },
  {
   "cell_type": "code",
   "execution_count": 29,
   "metadata": {},
   "outputs": [
    {
     "data": {
      "text/html": [
       "<span class=\"tex2jax_ignore\"><svg xmlns=\"http://www.w3.org/2000/svg\" xmlns:xlink=\"http://www.w3.org/1999/xlink\" xml:lang=\"la\" id=\"166a22afc16149eb85b4ebbd08f60208-0\" class=\"displacy\" width=\"750\" height=\"312.0\" direction=\"ltr\" style=\"max-width: none; height: 312.0px; color: #000000; background: #ffffff; font-family: Arial; direction: ltr\">\n",
       "<text class=\"displacy-token\" fill=\"currentColor\" text-anchor=\"middle\" y=\"222.0\">\n",
       "    <tspan class=\"displacy-word\" fill=\"currentColor\" x=\"50\">Puer</tspan>\n",
       "    <tspan class=\"displacy-tag\" dy=\"2em\" fill=\"currentColor\" x=\"50\">NOUN</tspan>\n",
       "</text>\n",
       "\n",
       "<text class=\"displacy-token\" fill=\"currentColor\" text-anchor=\"middle\" y=\"222.0\">\n",
       "    <tspan class=\"displacy-word\" fill=\"currentColor\" x=\"225\">sālīvit</tspan>\n",
       "    <tspan class=\"displacy-tag\" dy=\"2em\" fill=\"currentColor\" x=\"225\">VERB</tspan>\n",
       "</text>\n",
       "\n",
       "<text class=\"displacy-token\" fill=\"currentColor\" text-anchor=\"middle\" y=\"222.0\">\n",
       "    <tspan class=\"displacy-word\" fill=\"currentColor\" x=\"400\">in</tspan>\n",
       "    <tspan class=\"displacy-tag\" dy=\"2em\" fill=\"currentColor\" x=\"400\">ADP</tspan>\n",
       "</text>\n",
       "\n",
       "<text class=\"displacy-token\" fill=\"currentColor\" text-anchor=\"middle\" y=\"222.0\">\n",
       "    <tspan class=\"displacy-word\" fill=\"currentColor\" x=\"575\">mēnsam .</tspan>\n",
       "    <tspan class=\"displacy-tag\" dy=\"2em\" fill=\"currentColor\" x=\"575\">NOUN</tspan>\n",
       "</text>\n",
       "\n",
       "<g class=\"displacy-arrow\">\n",
       "    <path class=\"displacy-arc\" id=\"arrow-166a22afc16149eb85b4ebbd08f60208-0-0\" stroke-width=\"2px\" d=\"M70,177.0 C70,89.5 220.0,89.5 220.0,177.0\" fill=\"none\" stroke=\"currentColor\"/>\n",
       "    <text dy=\"1.25em\" style=\"font-size: 0.8em; letter-spacing: 1px\">\n",
       "        <textPath xlink:href=\"#arrow-166a22afc16149eb85b4ebbd08f60208-0-0\" class=\"displacy-label\" startOffset=\"50%\" side=\"left\" fill=\"currentColor\" text-anchor=\"middle\">nsubj</textPath>\n",
       "    </text>\n",
       "    <path class=\"displacy-arrowhead\" d=\"M70,179.0 L62,167.0 78,167.0\" fill=\"currentColor\"/>\n",
       "</g>\n",
       "\n",
       "<g class=\"displacy-arrow\">\n",
       "    <path class=\"displacy-arc\" id=\"arrow-166a22afc16149eb85b4ebbd08f60208-0-1\" stroke-width=\"2px\" d=\"M420,177.0 C420,89.5 570.0,89.5 570.0,177.0\" fill=\"none\" stroke=\"currentColor\"/>\n",
       "    <text dy=\"1.25em\" style=\"font-size: 0.8em; letter-spacing: 1px\">\n",
       "        <textPath xlink:href=\"#arrow-166a22afc16149eb85b4ebbd08f60208-0-1\" class=\"displacy-label\" startOffset=\"50%\" side=\"left\" fill=\"currentColor\" text-anchor=\"middle\">case</textPath>\n",
       "    </text>\n",
       "    <path class=\"displacy-arrowhead\" d=\"M420,179.0 L412,167.0 428,167.0\" fill=\"currentColor\"/>\n",
       "</g>\n",
       "\n",
       "<g class=\"displacy-arrow\">\n",
       "    <path class=\"displacy-arc\" id=\"arrow-166a22afc16149eb85b4ebbd08f60208-0-2\" stroke-width=\"2px\" d=\"M245,177.0 C245,2.0 575.0,2.0 575.0,177.0\" fill=\"none\" stroke=\"currentColor\"/>\n",
       "    <text dy=\"1.25em\" style=\"font-size: 0.8em; letter-spacing: 1px\">\n",
       "        <textPath xlink:href=\"#arrow-166a22afc16149eb85b4ebbd08f60208-0-2\" class=\"displacy-label\" startOffset=\"50%\" side=\"left\" fill=\"currentColor\" text-anchor=\"middle\">obl</textPath>\n",
       "    </text>\n",
       "    <path class=\"displacy-arrowhead\" d=\"M575.0,179.0 L583.0,167.0 567.0,167.0\" fill=\"currentColor\"/>\n",
       "</g>\n",
       "</svg></span>"
      ],
      "text/plain": [
       "<IPython.core.display.HTML object>"
      ]
     },
     "metadata": {},
     "output_type": "display_data"
    },
    {
     "name": "stdout",
     "output_type": "stream",
     "text": [
      "TokenList<Puer, sālīvit, in, mēnsam, ., metadata={sent_id: \"5\", text: \"Puer sālīvit in mēnsam.\"}>\n",
      "dict_items([('id', 1), ('form', 'Puer'), ('lemma', 'puer'), ('upos', 'NOUN'), ('xpos', 'B1|grn1|casA|gen1'), ('feats', {'Case': 'Nom', 'Gender': 'Masc', 'InflClass': 'IndEurO', 'Number': 'Sing'}), ('head', 2), ('deprel', 'nsubj'), ('deps', None), ('misc', {'TokenRange': '89:93'})])\n",
      "dict_items([('id', 2), ('form', 'sālīvit'), ('lemma', 'sālīvo'), ('upos', 'VERB'), ('xpos', 'L3|modA|tem1|gen6'), ('feats', {'Aspect': 'Imp', 'InflClass': 'LatX', 'Mood': 'Ind', 'Number': 'Sing', 'Person': '3', 'Tense': 'Pres', 'VerbForm': 'Fin', 'Voice': 'Act'}), ('head', 0), ('deprel', 'root'), ('deps', None), ('misc', {'TokenRange': '94:101'})])\n",
      "dict_items([('id', 3), ('form', 'in'), ('lemma', 'in'), ('upos', 'ADP'), ('xpos', 'S4'), ('feats', None), ('head', 4), ('deprel', 'case'), ('deps', None), ('misc', {'TokenRange': '102:104'})])\n",
      "dict_items([('id', 4), ('form', 'mēnsam'), ('lemma', 'mēnsa'), ('upos', 'NOUN'), ('xpos', 'A1|grn1|casD|gen2'), ('feats', {'Case': 'Acc', 'Gender': 'Fem', 'InflClass': 'IndEurA', 'Number': 'Sing'}), ('head', 2), ('deprel', 'obl:arg'), ('deps', None), ('misc', {'SpaceAfter': 'No', 'TokenRange': '105:111'})])\n",
      "dict_items([('id', 5), ('form', '.'), ('lemma', '.'), ('upos', 'PUNCT'), ('xpos', 'Punc'), ('feats', None), ('head', 2), ('deprel', 'punct'), ('deps', None), ('misc', {'SpacesAfter': '\\\\n', 'TokenRange': '111:112'})])\n"
     ]
    }
   ],
   "source": [
    "render_doc_by_sent_id(docs, sentences, '5')\n",
    "# The boy jumped onto the table.\n",
    "\n",
    "\n",
    "print(sentences[4])\n",
    "\n",
    "for token in sentences[4]:\n",
    "    print(token.items())"
   ]
  },
  {
   "cell_type": "code",
   "execution_count": 30,
   "metadata": {},
   "outputs": [
    {
     "data": {
      "text/html": [
       "<span class=\"tex2jax_ignore\"><svg xmlns=\"http://www.w3.org/2000/svg\" xmlns:xlink=\"http://www.w3.org/1999/xlink\" xml:lang=\"la\" id=\"9724e365a0d146f48102df81acaa1942-0\" class=\"displacy\" width=\"750\" height=\"312.0\" direction=\"ltr\" style=\"max-width: none; height: 312.0px; color: #000000; background: #ffffff; font-family: Arial; direction: ltr\">\n",
       "<text class=\"displacy-token\" fill=\"currentColor\" text-anchor=\"middle\" y=\"222.0\">\n",
       "    <tspan class=\"displacy-word\" fill=\"currentColor\" x=\"50\">Puella</tspan>\n",
       "    <tspan class=\"displacy-tag\" dy=\"2em\" fill=\"currentColor\" x=\"50\">NOUN</tspan>\n",
       "</text>\n",
       "\n",
       "<text class=\"displacy-token\" fill=\"currentColor\" text-anchor=\"middle\" y=\"222.0\">\n",
       "    <tspan class=\"displacy-word\" fill=\"currentColor\" x=\"225\">dēscendit</tspan>\n",
       "    <tspan class=\"displacy-tag\" dy=\"2em\" fill=\"currentColor\" x=\"225\">VERB</tspan>\n",
       "</text>\n",
       "\n",
       "<text class=\"displacy-token\" fill=\"currentColor\" text-anchor=\"middle\" y=\"222.0\">\n",
       "    <tspan class=\"displacy-word\" fill=\"currentColor\" x=\"400\">dē</tspan>\n",
       "    <tspan class=\"displacy-tag\" dy=\"2em\" fill=\"currentColor\" x=\"400\">ADP</tspan>\n",
       "</text>\n",
       "\n",
       "<text class=\"displacy-token\" fill=\"currentColor\" text-anchor=\"middle\" y=\"222.0\">\n",
       "    <tspan class=\"displacy-word\" fill=\"currentColor\" x=\"575\">mēnsā .</tspan>\n",
       "    <tspan class=\"displacy-tag\" dy=\"2em\" fill=\"currentColor\" x=\"575\">NOUN</tspan>\n",
       "</text>\n",
       "\n",
       "<g class=\"displacy-arrow\">\n",
       "    <path class=\"displacy-arc\" id=\"arrow-9724e365a0d146f48102df81acaa1942-0-0\" stroke-width=\"2px\" d=\"M70,177.0 C70,89.5 220.0,89.5 220.0,177.0\" fill=\"none\" stroke=\"currentColor\"/>\n",
       "    <text dy=\"1.25em\" style=\"font-size: 0.8em; letter-spacing: 1px\">\n",
       "        <textPath xlink:href=\"#arrow-9724e365a0d146f48102df81acaa1942-0-0\" class=\"displacy-label\" startOffset=\"50%\" side=\"left\" fill=\"currentColor\" text-anchor=\"middle\">nsubj</textPath>\n",
       "    </text>\n",
       "    <path class=\"displacy-arrowhead\" d=\"M70,179.0 L62,167.0 78,167.0\" fill=\"currentColor\"/>\n",
       "</g>\n",
       "\n",
       "<g class=\"displacy-arrow\">\n",
       "    <path class=\"displacy-arc\" id=\"arrow-9724e365a0d146f48102df81acaa1942-0-1\" stroke-width=\"2px\" d=\"M420,177.0 C420,89.5 570.0,89.5 570.0,177.0\" fill=\"none\" stroke=\"currentColor\"/>\n",
       "    <text dy=\"1.25em\" style=\"font-size: 0.8em; letter-spacing: 1px\">\n",
       "        <textPath xlink:href=\"#arrow-9724e365a0d146f48102df81acaa1942-0-1\" class=\"displacy-label\" startOffset=\"50%\" side=\"left\" fill=\"currentColor\" text-anchor=\"middle\">case</textPath>\n",
       "    </text>\n",
       "    <path class=\"displacy-arrowhead\" d=\"M420,179.0 L412,167.0 428,167.0\" fill=\"currentColor\"/>\n",
       "</g>\n",
       "\n",
       "<g class=\"displacy-arrow\">\n",
       "    <path class=\"displacy-arc\" id=\"arrow-9724e365a0d146f48102df81acaa1942-0-2\" stroke-width=\"2px\" d=\"M245,177.0 C245,2.0 575.0,2.0 575.0,177.0\" fill=\"none\" stroke=\"currentColor\"/>\n",
       "    <text dy=\"1.25em\" style=\"font-size: 0.8em; letter-spacing: 1px\">\n",
       "        <textPath xlink:href=\"#arrow-9724e365a0d146f48102df81acaa1942-0-2\" class=\"displacy-label\" startOffset=\"50%\" side=\"left\" fill=\"currentColor\" text-anchor=\"middle\">obl</textPath>\n",
       "    </text>\n",
       "    <path class=\"displacy-arrowhead\" d=\"M575.0,179.0 L583.0,167.0 567.0,167.0\" fill=\"currentColor\"/>\n",
       "</g>\n",
       "</svg></span>"
      ],
      "text/plain": [
       "<IPython.core.display.HTML object>"
      ]
     },
     "metadata": {},
     "output_type": "display_data"
    },
    {
     "name": "stdout",
     "output_type": "stream",
     "text": [
      "TokenList<Puella, dēscendit, dē, mēnsā, ., metadata={sent_id: \"6\", text: \"Puella dēscendit dē mēnsā.\"}>\n",
      "dict_items([('id', 1), ('form', 'Puella'), ('lemma', 'puella'), ('upos', 'NOUN'), ('xpos', 'A1|grn1|casA|gen2|vgr1'), ('feats', {'Case': 'Nom', 'Gender': 'Fem', 'InflClass': 'IndEurA', 'Number': 'Sing'}), ('head', 2), ('deprel', 'nsubj'), ('deps', None), ('misc', {'TokenRange': '113:119'})])\n",
      "dict_items([('id', 2), ('form', 'dēscendit'), ('lemma', 'dēscendo'), ('upos', 'VERB'), ('xpos', 'L3|modA|tem1|gen6'), ('feats', {'Aspect': 'Imp', 'InflClass': 'LatX', 'Mood': 'Ind', 'Number': 'Sing', 'Person': '3', 'Tense': 'Pres', 'VerbForm': 'Fin', 'Voice': 'Act'}), ('head', 0), ('deprel', 'root'), ('deps', None), ('misc', {'TokenRange': '120:129'})])\n",
      "dict_items([('id', 3), ('form', 'dē'), ('lemma', 'dē'), ('upos', 'ADP'), ('xpos', 'S4'), ('feats', None), ('head', 4), ('deprel', 'case'), ('deps', None), ('misc', {'TokenRange': '130:132'})])\n",
      "dict_items([('id', 4), ('form', 'mēnsā'), ('lemma', 'mēnsā'), ('upos', 'NOUN'), ('xpos', 'C1|grn1|casF|gen2'), ('feats', {'Case': 'Abl', 'Gender': 'Fem', 'InflClass': 'IndEurI', 'Number': 'Sing'}), ('head', 2), ('deprel', 'obl:arg'), ('deps', None), ('misc', {'SpaceAfter': 'No', 'TokenRange': '133:138'})])\n",
      "dict_items([('id', 5), ('form', '.'), ('lemma', '.'), ('upos', 'PUNCT'), ('xpos', 'Punc'), ('feats', None), ('head', 2), ('deprel', 'punct'), ('deps', None), ('misc', {'SpacesAfter': '\\\\n', 'TokenRange': '138:139'})])\n"
     ]
    }
   ],
   "source": [
    "render_doc_by_sent_id(docs, sentences, '6')\n",
    "# The girl climbed down from the table.\n",
    "\n",
    "\n",
    "print(sentences[5])\n",
    "\n",
    "for token in sentences[5]:\n",
    "    print(token.items())"
   ]
  },
  {
   "cell_type": "markdown",
   "metadata": {},
   "source": [
    "AT"
   ]
  },
  {
   "cell_type": "code",
   "execution_count": 31,
   "metadata": {},
   "outputs": [
    {
     "data": {
      "text/html": [
       "<span class=\"tex2jax_ignore\"><svg xmlns=\"http://www.w3.org/2000/svg\" xmlns:xlink=\"http://www.w3.org/1999/xlink\" xml:lang=\"la\" id=\"c5f13bac837a4158ac353dad79fae06a-0\" class=\"displacy\" width=\"750\" height=\"312.0\" direction=\"ltr\" style=\"max-width: none; height: 312.0px; color: #000000; background: #ffffff; font-family: Arial; direction: ltr\">\n",
       "<text class=\"displacy-token\" fill=\"currentColor\" text-anchor=\"middle\" y=\"222.0\">\n",
       "    <tspan class=\"displacy-word\" fill=\"currentColor\" x=\"50\">Avis</tspan>\n",
       "    <tspan class=\"displacy-tag\" dy=\"2em\" fill=\"currentColor\" x=\"50\">PRON</tspan>\n",
       "</text>\n",
       "\n",
       "<text class=\"displacy-token\" fill=\"currentColor\" text-anchor=\"middle\" y=\"222.0\">\n",
       "    <tspan class=\"displacy-word\" fill=\"currentColor\" x=\"225\">requiēscit</tspan>\n",
       "    <tspan class=\"displacy-tag\" dy=\"2em\" fill=\"currentColor\" x=\"225\">VERB</tspan>\n",
       "</text>\n",
       "\n",
       "<text class=\"displacy-token\" fill=\"currentColor\" text-anchor=\"middle\" y=\"222.0\">\n",
       "    <tspan class=\"displacy-word\" fill=\"currentColor\" x=\"400\">prope</tspan>\n",
       "    <tspan class=\"displacy-tag\" dy=\"2em\" fill=\"currentColor\" x=\"400\">ADP</tspan>\n",
       "</text>\n",
       "\n",
       "<text class=\"displacy-token\" fill=\"currentColor\" text-anchor=\"middle\" y=\"222.0\">\n",
       "    <tspan class=\"displacy-word\" fill=\"currentColor\" x=\"575\">arborem .</tspan>\n",
       "    <tspan class=\"displacy-tag\" dy=\"2em\" fill=\"currentColor\" x=\"575\">NOUN</tspan>\n",
       "</text>\n",
       "\n",
       "<g class=\"displacy-arrow\">\n",
       "    <path class=\"displacy-arc\" id=\"arrow-c5f13bac837a4158ac353dad79fae06a-0-0\" stroke-width=\"2px\" d=\"M70,177.0 C70,89.5 220.0,89.5 220.0,177.0\" fill=\"none\" stroke=\"currentColor\"/>\n",
       "    <text dy=\"1.25em\" style=\"font-size: 0.8em; letter-spacing: 1px\">\n",
       "        <textPath xlink:href=\"#arrow-c5f13bac837a4158ac353dad79fae06a-0-0\" class=\"displacy-label\" startOffset=\"50%\" side=\"left\" fill=\"currentColor\" text-anchor=\"middle\">obl</textPath>\n",
       "    </text>\n",
       "    <path class=\"displacy-arrowhead\" d=\"M70,179.0 L62,167.0 78,167.0\" fill=\"currentColor\"/>\n",
       "</g>\n",
       "\n",
       "<g class=\"displacy-arrow\">\n",
       "    <path class=\"displacy-arc\" id=\"arrow-c5f13bac837a4158ac353dad79fae06a-0-1\" stroke-width=\"2px\" d=\"M420,177.0 C420,89.5 570.0,89.5 570.0,177.0\" fill=\"none\" stroke=\"currentColor\"/>\n",
       "    <text dy=\"1.25em\" style=\"font-size: 0.8em; letter-spacing: 1px\">\n",
       "        <textPath xlink:href=\"#arrow-c5f13bac837a4158ac353dad79fae06a-0-1\" class=\"displacy-label\" startOffset=\"50%\" side=\"left\" fill=\"currentColor\" text-anchor=\"middle\">case</textPath>\n",
       "    </text>\n",
       "    <path class=\"displacy-arrowhead\" d=\"M420,179.0 L412,167.0 428,167.0\" fill=\"currentColor\"/>\n",
       "</g>\n",
       "\n",
       "<g class=\"displacy-arrow\">\n",
       "    <path class=\"displacy-arc\" id=\"arrow-c5f13bac837a4158ac353dad79fae06a-0-2\" stroke-width=\"2px\" d=\"M245,177.0 C245,2.0 575.0,2.0 575.0,177.0\" fill=\"none\" stroke=\"currentColor\"/>\n",
       "    <text dy=\"1.25em\" style=\"font-size: 0.8em; letter-spacing: 1px\">\n",
       "        <textPath xlink:href=\"#arrow-c5f13bac837a4158ac353dad79fae06a-0-2\" class=\"displacy-label\" startOffset=\"50%\" side=\"left\" fill=\"currentColor\" text-anchor=\"middle\">obl</textPath>\n",
       "    </text>\n",
       "    <path class=\"displacy-arrowhead\" d=\"M575.0,179.0 L583.0,167.0 567.0,167.0\" fill=\"currentColor\"/>\n",
       "</g>\n",
       "</svg></span>"
      ],
      "text/plain": [
       "<IPython.core.display.HTML object>"
      ]
     },
     "metadata": {},
     "output_type": "display_data"
    },
    {
     "name": "stdout",
     "output_type": "stream",
     "text": [
      "TokenList<Avis, requiēscit, prope, arborem, ., metadata={sent_id: \"7\", text: \"Avis requiēscit prope arborem.\"}>\n",
      "dict_items([('id', 1), ('form', 'Avis'), ('lemma', 'avis'), ('upos', 'PRON'), ('xpos', 'B1|grn1|casL|gen1'), ('feats', {'Case': 'Dat', 'Gender': 'Masc', 'InflClass': 'IndEurO', 'Number': 'Plur'}), ('head', 2), ('deprel', 'obl:arg'), ('deps', None), ('misc', {'TokenRange': '140:144'})])\n",
      "dict_items([('id', 2), ('form', 'requiēscit'), ('lemma', 'requiēsco'), ('upos', 'VERB'), ('xpos', 'L3|modA|tem1|gen6'), ('feats', {'Aspect': 'Imp', 'InflClass': 'LatX', 'Mood': 'Ind', 'Number': 'Sing', 'Person': '3', 'Tense': 'Pres', 'VerbForm': 'Fin', 'Voice': 'Act'}), ('head', 0), ('deprel', 'root'), ('deps', None), ('misc', {'TokenRange': '145:155'})])\n",
      "dict_items([('id', 3), ('form', 'prope'), ('lemma', 'prope'), ('upos', 'ADP'), ('xpos', 'S4'), ('feats', None), ('head', 4), ('deprel', 'case'), ('deps', None), ('misc', {'TokenRange': '156:161'})])\n",
      "dict_items([('id', 4), ('form', 'arborem'), ('lemma', 'arbor'), ('upos', 'NOUN'), ('xpos', 'C1|grn1|casD|gen1'), ('feats', {'Case': 'Acc', 'Gender': 'Masc', 'InflClass': 'IndEurX', 'Number': 'Sing'}), ('head', 2), ('deprel', 'obl'), ('deps', None), ('misc', {'SpaceAfter': 'No', 'TokenRange': '162:169'})])\n",
      "dict_items([('id', 5), ('form', '.'), ('lemma', '.'), ('upos', 'PUNCT'), ('xpos', 'Punc'), ('feats', None), ('head', 2), ('deprel', 'punct'), ('deps', None), ('misc', {'SpacesAfter': '\\\\n', 'TokenRange': '169:170'})])\n"
     ]
    }
   ],
   "source": [
    "render_doc_by_sent_id(docs, sentences, '7')\n",
    "# The bird rests next to the tree.\n",
    "\n",
    "\n",
    "print(sentences[6])\n",
    "\n",
    "for token in sentences[6]:\n",
    "    print(token.items())\n"
   ]
  },
  {
   "cell_type": "code",
   "execution_count": 32,
   "metadata": {},
   "outputs": [
    {
     "data": {
      "text/html": [
       "<span class=\"tex2jax_ignore\"><svg xmlns=\"http://www.w3.org/2000/svg\" xmlns:xlink=\"http://www.w3.org/1999/xlink\" xml:lang=\"la\" id=\"c2b0243d857a400883098404b97ec04e-0\" class=\"displacy\" width=\"750\" height=\"312.0\" direction=\"ltr\" style=\"max-width: none; height: 312.0px; color: #000000; background: #ffffff; font-family: Arial; direction: ltr\">\n",
       "<text class=\"displacy-token\" fill=\"currentColor\" text-anchor=\"middle\" y=\"222.0\">\n",
       "    <tspan class=\"displacy-word\" fill=\"currentColor\" x=\"50\">Puer</tspan>\n",
       "    <tspan class=\"displacy-tag\" dy=\"2em\" fill=\"currentColor\" x=\"50\">NOUN</tspan>\n",
       "</text>\n",
       "\n",
       "<text class=\"displacy-token\" fill=\"currentColor\" text-anchor=\"middle\" y=\"222.0\">\n",
       "    <tspan class=\"displacy-word\" fill=\"currentColor\" x=\"225\">currit</tspan>\n",
       "    <tspan class=\"displacy-tag\" dy=\"2em\" fill=\"currentColor\" x=\"225\">VERB</tspan>\n",
       "</text>\n",
       "\n",
       "<text class=\"displacy-token\" fill=\"currentColor\" text-anchor=\"middle\" y=\"222.0\">\n",
       "    <tspan class=\"displacy-word\" fill=\"currentColor\" x=\"400\">ad</tspan>\n",
       "    <tspan class=\"displacy-tag\" dy=\"2em\" fill=\"currentColor\" x=\"400\">ADP</tspan>\n",
       "</text>\n",
       "\n",
       "<text class=\"displacy-token\" fill=\"currentColor\" text-anchor=\"middle\" y=\"222.0\">\n",
       "    <tspan class=\"displacy-word\" fill=\"currentColor\" x=\"575\">arborem .</tspan>\n",
       "    <tspan class=\"displacy-tag\" dy=\"2em\" fill=\"currentColor\" x=\"575\">NOUN</tspan>\n",
       "</text>\n",
       "\n",
       "<g class=\"displacy-arrow\">\n",
       "    <path class=\"displacy-arc\" id=\"arrow-c2b0243d857a400883098404b97ec04e-0-0\" stroke-width=\"2px\" d=\"M70,177.0 C70,89.5 220.0,89.5 220.0,177.0\" fill=\"none\" stroke=\"currentColor\"/>\n",
       "    <text dy=\"1.25em\" style=\"font-size: 0.8em; letter-spacing: 1px\">\n",
       "        <textPath xlink:href=\"#arrow-c2b0243d857a400883098404b97ec04e-0-0\" class=\"displacy-label\" startOffset=\"50%\" side=\"left\" fill=\"currentColor\" text-anchor=\"middle\">nsubj</textPath>\n",
       "    </text>\n",
       "    <path class=\"displacy-arrowhead\" d=\"M70,179.0 L62,167.0 78,167.0\" fill=\"currentColor\"/>\n",
       "</g>\n",
       "\n",
       "<g class=\"displacy-arrow\">\n",
       "    <path class=\"displacy-arc\" id=\"arrow-c2b0243d857a400883098404b97ec04e-0-1\" stroke-width=\"2px\" d=\"M420,177.0 C420,89.5 570.0,89.5 570.0,177.0\" fill=\"none\" stroke=\"currentColor\"/>\n",
       "    <text dy=\"1.25em\" style=\"font-size: 0.8em; letter-spacing: 1px\">\n",
       "        <textPath xlink:href=\"#arrow-c2b0243d857a400883098404b97ec04e-0-1\" class=\"displacy-label\" startOffset=\"50%\" side=\"left\" fill=\"currentColor\" text-anchor=\"middle\">case</textPath>\n",
       "    </text>\n",
       "    <path class=\"displacy-arrowhead\" d=\"M420,179.0 L412,167.0 428,167.0\" fill=\"currentColor\"/>\n",
       "</g>\n",
       "\n",
       "<g class=\"displacy-arrow\">\n",
       "    <path class=\"displacy-arc\" id=\"arrow-c2b0243d857a400883098404b97ec04e-0-2\" stroke-width=\"2px\" d=\"M245,177.0 C245,2.0 575.0,2.0 575.0,177.0\" fill=\"none\" stroke=\"currentColor\"/>\n",
       "    <text dy=\"1.25em\" style=\"font-size: 0.8em; letter-spacing: 1px\">\n",
       "        <textPath xlink:href=\"#arrow-c2b0243d857a400883098404b97ec04e-0-2\" class=\"displacy-label\" startOffset=\"50%\" side=\"left\" fill=\"currentColor\" text-anchor=\"middle\">obl</textPath>\n",
       "    </text>\n",
       "    <path class=\"displacy-arrowhead\" d=\"M575.0,179.0 L583.0,167.0 567.0,167.0\" fill=\"currentColor\"/>\n",
       "</g>\n",
       "</svg></span>"
      ],
      "text/plain": [
       "<IPython.core.display.HTML object>"
      ]
     },
     "metadata": {},
     "output_type": "display_data"
    },
    {
     "name": "stdout",
     "output_type": "stream",
     "text": [
      "TokenList<Puer, currit, ad, arborem, ., metadata={sent_id: \"8\", text: \"Puer currit ad arborem.\"}>\n",
      "dict_items([('id', 1), ('form', 'Puer'), ('lemma', 'puer'), ('upos', 'NOUN'), ('xpos', 'B1|grn1|casA|gen1'), ('feats', {'Case': 'Nom', 'Gender': 'Masc', 'InflClass': 'IndEurO', 'Number': 'Sing'}), ('head', 2), ('deprel', 'nsubj'), ('deps', None), ('misc', {'TokenRange': '171:175'})])\n",
      "dict_items([('id', 2), ('form', 'currit'), ('lemma', 'curro'), ('upos', 'VERB'), ('xpos', 'L3|modA|tem1|gen6'), ('feats', {'Aspect': 'Imp', 'InflClass': 'LatX', 'Mood': 'Ind', 'Number': 'Sing', 'Person': '3', 'Tense': 'Pres', 'VerbForm': 'Fin', 'Voice': 'Act'}), ('head', 0), ('deprel', 'root'), ('deps', None), ('misc', {'TokenRange': '176:182'})])\n",
      "dict_items([('id', 3), ('form', 'ad'), ('lemma', 'ad'), ('upos', 'ADP'), ('xpos', 'S4'), ('feats', None), ('head', 4), ('deprel', 'case'), ('deps', None), ('misc', {'TokenRange': '183:185'})])\n",
      "dict_items([('id', 4), ('form', 'arborem'), ('lemma', 'arbor'), ('upos', 'NOUN'), ('xpos', 'C1|grn1|casD|gen1'), ('feats', {'Case': 'Acc', 'Gender': 'Masc', 'InflClass': 'IndEurX', 'Number': 'Sing'}), ('head', 2), ('deprel', 'obl:arg'), ('deps', None), ('misc', {'SpaceAfter': 'No', 'TokenRange': '186:193'})])\n",
      "dict_items([('id', 5), ('form', '.'), ('lemma', '.'), ('upos', 'PUNCT'), ('xpos', 'Punc'), ('feats', None), ('head', 2), ('deprel', 'punct'), ('deps', None), ('misc', {'SpacesAfter': '\\\\n', 'TokenRange': '193:194'})])\n"
     ]
    }
   ],
   "source": [
    "render_doc_by_sent_id(docs, sentences, '8')\n",
    "# The boy runs toward the tree.\n",
    "\n",
    "\n",
    "\n",
    "print(sentences[7])\n",
    "\n",
    "for token in sentences[7]:\n",
    "    print(token.items())"
   ]
  },
  {
   "cell_type": "code",
   "execution_count": 33,
   "metadata": {},
   "outputs": [
    {
     "data": {
      "text/html": [
       "<span class=\"tex2jax_ignore\"><svg xmlns=\"http://www.w3.org/2000/svg\" xmlns:xlink=\"http://www.w3.org/1999/xlink\" xml:lang=\"la\" id=\"48b8abdc6501470da86ed6e6d4bd47ef-0\" class=\"displacy\" width=\"750\" height=\"312.0\" direction=\"ltr\" style=\"max-width: none; height: 312.0px; color: #000000; background: #ffffff; font-family: Arial; direction: ltr\">\n",
       "<text class=\"displacy-token\" fill=\"currentColor\" text-anchor=\"middle\" y=\"222.0\">\n",
       "    <tspan class=\"displacy-word\" fill=\"currentColor\" x=\"50\">Sciūrus</tspan>\n",
       "    <tspan class=\"displacy-tag\" dy=\"2em\" fill=\"currentColor\" x=\"50\">NOUN</tspan>\n",
       "</text>\n",
       "\n",
       "<text class=\"displacy-token\" fill=\"currentColor\" text-anchor=\"middle\" y=\"222.0\">\n",
       "    <tspan class=\"displacy-word\" fill=\"currentColor\" x=\"225\">ab</tspan>\n",
       "    <tspan class=\"displacy-tag\" dy=\"2em\" fill=\"currentColor\" x=\"225\">ADP</tspan>\n",
       "</text>\n",
       "\n",
       "<text class=\"displacy-token\" fill=\"currentColor\" text-anchor=\"middle\" y=\"222.0\">\n",
       "    <tspan class=\"displacy-word\" fill=\"currentColor\" x=\"400\">arbore</tspan>\n",
       "    <tspan class=\"displacy-tag\" dy=\"2em\" fill=\"currentColor\" x=\"400\">NOUN</tspan>\n",
       "</text>\n",
       "\n",
       "<text class=\"displacy-token\" fill=\"currentColor\" text-anchor=\"middle\" y=\"222.0\">\n",
       "    <tspan class=\"displacy-word\" fill=\"currentColor\" x=\"575\">sēcessit .</tspan>\n",
       "    <tspan class=\"displacy-tag\" dy=\"2em\" fill=\"currentColor\" x=\"575\">VERB</tspan>\n",
       "</text>\n",
       "\n",
       "<g class=\"displacy-arrow\">\n",
       "    <path class=\"displacy-arc\" id=\"arrow-48b8abdc6501470da86ed6e6d4bd47ef-0-0\" stroke-width=\"2px\" d=\"M70,177.0 C70,2.0 575.0,2.0 575.0,177.0\" fill=\"none\" stroke=\"currentColor\"/>\n",
       "    <text dy=\"1.25em\" style=\"font-size: 0.8em; letter-spacing: 1px\">\n",
       "        <textPath xlink:href=\"#arrow-48b8abdc6501470da86ed6e6d4bd47ef-0-0\" class=\"displacy-label\" startOffset=\"50%\" side=\"left\" fill=\"currentColor\" text-anchor=\"middle\">nsubj</textPath>\n",
       "    </text>\n",
       "    <path class=\"displacy-arrowhead\" d=\"M70,179.0 L62,167.0 78,167.0\" fill=\"currentColor\"/>\n",
       "</g>\n",
       "\n",
       "<g class=\"displacy-arrow\">\n",
       "    <path class=\"displacy-arc\" id=\"arrow-48b8abdc6501470da86ed6e6d4bd47ef-0-1\" stroke-width=\"2px\" d=\"M245,177.0 C245,89.5 395.0,89.5 395.0,177.0\" fill=\"none\" stroke=\"currentColor\"/>\n",
       "    <text dy=\"1.25em\" style=\"font-size: 0.8em; letter-spacing: 1px\">\n",
       "        <textPath xlink:href=\"#arrow-48b8abdc6501470da86ed6e6d4bd47ef-0-1\" class=\"displacy-label\" startOffset=\"50%\" side=\"left\" fill=\"currentColor\" text-anchor=\"middle\">case</textPath>\n",
       "    </text>\n",
       "    <path class=\"displacy-arrowhead\" d=\"M245,179.0 L237,167.0 253,167.0\" fill=\"currentColor\"/>\n",
       "</g>\n",
       "\n",
       "<g class=\"displacy-arrow\">\n",
       "    <path class=\"displacy-arc\" id=\"arrow-48b8abdc6501470da86ed6e6d4bd47ef-0-2\" stroke-width=\"2px\" d=\"M420,177.0 C420,89.5 570.0,89.5 570.0,177.0\" fill=\"none\" stroke=\"currentColor\"/>\n",
       "    <text dy=\"1.25em\" style=\"font-size: 0.8em; letter-spacing: 1px\">\n",
       "        <textPath xlink:href=\"#arrow-48b8abdc6501470da86ed6e6d4bd47ef-0-2\" class=\"displacy-label\" startOffset=\"50%\" side=\"left\" fill=\"currentColor\" text-anchor=\"middle\">obl</textPath>\n",
       "    </text>\n",
       "    <path class=\"displacy-arrowhead\" d=\"M420,179.0 L412,167.0 428,167.0\" fill=\"currentColor\"/>\n",
       "</g>\n",
       "</svg></span>"
      ],
      "text/plain": [
       "<IPython.core.display.HTML object>"
      ]
     },
     "metadata": {},
     "output_type": "display_data"
    },
    {
     "name": "stdout",
     "output_type": "stream",
     "text": [
      "TokenList<Sciūrus, ab, arbore, sēcessit, ., metadata={sent_id: \"9\", text: \"Sciūrus ab arbore sēcessit.\"}>\n",
      "dict_items([('id', 1), ('form', 'Sciūrus'), ('lemma', 'sciūrus'), ('upos', 'NOUN'), ('xpos', 'B1|grn1|casA|gen1'), ('feats', {'Case': 'Nom', 'Gender': 'Masc', 'InflClass': 'IndEurO', 'Number': 'Sing'}), ('head', 4), ('deprel', 'nsubj'), ('deps', None), ('misc', {'TokenRange': '195:202'})])\n",
      "dict_items([('id', 2), ('form', 'ab'), ('lemma', 'ab'), ('upos', 'ADP'), ('xpos', 'S4|vgr2'), ('feats', None), ('head', 3), ('deprel', 'case'), ('deps', None), ('misc', {'TokenRange': '203:205'})])\n",
      "dict_items([('id', 3), ('form', 'arbore'), ('lemma', 'arbor'), ('upos', 'NOUN'), ('xpos', 'C1|grn1|casF|gen2'), ('feats', {'Case': 'Abl', 'Gender': 'Fem', 'InflClass': 'IndEurX', 'Number': 'Sing'}), ('head', 4), ('deprel', 'obl:arg'), ('deps', None), ('misc', {'TokenRange': '206:212'})])\n",
      "dict_items([('id', 4), ('form', 'sēcessit'), ('lemma', 'sēcedo'), ('upos', 'VERB'), ('xpos', 'L3|modA|tem4|gen6'), ('feats', {'Aspect': 'Perf', 'InflClass': 'LatX', 'Mood': 'Ind', 'Number': 'Sing', 'Person': '3', 'Tense': 'Past', 'VerbForm': 'Fin', 'Voice': 'Act'}), ('head', 0), ('deprel', 'root'), ('deps', None), ('misc', {'SpaceAfter': 'No', 'TokenRange': '213:221'})])\n",
      "dict_items([('id', 5), ('form', '.'), ('lemma', '.'), ('upos', 'PUNCT'), ('xpos', 'Punc'), ('feats', None), ('head', 4), ('deprel', 'punct'), ('deps', None), ('misc', {'SpaceAfter': 'No', 'TokenRange': '221:222'})])\n"
     ]
    }
   ],
   "source": [
    "render_doc_by_sent_id(docs, sentences, '9')\n",
    "# The squirrel moved away from the tree.\n",
    "\n",
    "\n",
    "\n",
    "print(sentences[8])\n",
    "\n",
    "for token in sentences[8]:\n",
    "    print(token.items())"
   ]
  },
  {
   "cell_type": "code",
   "execution_count": null,
   "metadata": {},
   "outputs": [],
   "source": []
  }
 ],
 "metadata": {
  "kernelspec": {
   "display_name": "venv",
   "language": "python",
   "name": "python3"
  },
  "language_info": {
   "codemirror_mode": {
    "name": "ipython",
    "version": 3
   },
   "file_extension": ".py",
   "mimetype": "text/x-python",
   "name": "python",
   "nbconvert_exporter": "python",
   "pygments_lexer": "ipython3",
   "version": "3.12.4"
  }
 },
 "nbformat": 4,
 "nbformat_minor": 2
}

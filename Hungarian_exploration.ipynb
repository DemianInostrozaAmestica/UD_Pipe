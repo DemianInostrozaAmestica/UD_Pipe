{
 "cells": [
  {
   "cell_type": "code",
   "execution_count": 1,
   "metadata": {},
   "outputs": [],
   "source": [
    "from conllu import parse"
   ]
  },
  {
   "cell_type": "code",
   "execution_count": 3,
   "metadata": {},
   "outputs": [],
   "source": [
    "with open('data/hungarian.conllu', 'r', encoding='utf8') as file:\n",
    "    data = file.read()\n",
    "\n",
    "sentences = parse(data)"
   ]
  },
  {
   "cell_type": "code",
   "execution_count": 6,
   "metadata": {},
   "outputs": [
    {
     "name": "stdout",
     "output_type": "stream",
     "text": [
      "A\n",
      "macska\n",
      "a\n",
      "szekrényben\n",
      "van\n",
      ".\n"
     ]
    }
   ],
   "source": [
    "for token in sentences[0]:\n",
    "    print(token)"
   ]
  },
  {
   "cell_type": "code",
   "execution_count": 11,
   "metadata": {},
   "outputs": [
    {
     "data": {
      "text/plain": [
       "TokenList<A, macska, a, szekrényben, van, ., metadata={generator: \"UDPipe 2, https://lindat.mff.cuni.cz/services/udpipe\", udpipe_model: \"hungarian-szeged-ud-2.12-230717\", udpipe_model_licence: \"CC BY-NC-SA\", newdoc: \"None\", newpar: \"None\", sent_id: \"1\", text: \"A macska a szekrényben van.\"}>"
      ]
     },
     "execution_count": 11,
     "metadata": {},
     "output_type": "execute_result"
    }
   ],
   "source": [
    "sentences[0]"
   ]
  },
  {
   "cell_type": "markdown",
   "metadata": {},
   "source": [
    "Exploring Hungarian data"
   ]
  },
  {
   "cell_type": "code",
   "execution_count": 23,
   "metadata": {},
   "outputs": [],
   "source": [
    "import spacy\n",
    "from spacy.tokens import Doc, Token\n",
    "from conllu import parse_incr\n",
    "from conllu import parse\n",
    "from spacy.vocab import Vocab\n",
    "from spacy import displacy\n",
    "from pprint import pprint\n",
    "\n",
    "nlp = spacy.blank(\"hu\")  \n",
    "vocab = nlp.vocab\n",
    "\n",
    "if not Token.has_extension(\"xpos\"):\n",
    "    Token.set_extension(\"xpos\", default=None)\n",
    "if not Token.has_extension(\"deps\"):\n",
    "    Token.set_extension(\"deps\", default=None)\n",
    "if not Token.has_extension(\"misc\"):\n",
    "    Token.set_extension(\"misc\", default=None)\n",
    "\n",
    "\n",
    "def process_conllu_file(file_path):\n",
    "    docs = []\n",
    "    with open(file_path, \"r\", encoding=\"utf-8\") as file:\n",
    "        for conllu_sentence in parse_incr(file):\n",
    "            doc = conllu_to_spacy_doc(conllu_sentence, vocab)\n",
    "            docs.append(doc)\n",
    "    return docs\n",
    "\n",
    "def conllu_to_spacy_doc(conllu_sentence, vocab):\n",
    "    words = [token[\"form\"] for token in conllu_sentence]\n",
    "    heads = [token[\"head\"] if token[\"head\"] is not None else 0 for token in conllu_sentence]  # Head = 0 para raíces\n",
    "    deps = [token[\"deprel\"].split(\":\")[0] for token in conllu_sentence]\n",
    "    lemmas = [token[\"lemma\"] for token in conllu_sentence]\n",
    "    pos_tags = [token[\"upostag\"] for token in conllu_sentence]\n",
    "    xpos_tags = [token[\"xpos\"] for token in conllu_sentence]\n",
    "    morph_feats = [token[\"feats\"] or {} for token in conllu_sentence]\n",
    "    misc_info = [token[\"misc\"] or {} for token in conllu_sentence]\n",
    "    deps_info = [token[\"deps\"] or {} for token in conllu_sentence]\n",
    "\n",
    "    # Crear el objeto Doc\n",
    "    doc = Doc(vocab, words=words)\n",
    "\n",
    "    # Asignar los atributos a cada token\n",
    "    for i, token in enumerate(doc):\n",
    "        token.lemma_ = lemmas[i]\n",
    "        \n",
    "        # Asignar el Universal POS a `pos_`, o usar `tag_` si no es válido\n",
    "        if pos_tags[i] != \"_\":\n",
    "            token.pos_ = pos_tags[i]\n",
    "        elif xpos_tags[i] is not None:  # Verificar si xpos_tags[i] no es None antes de asignarlo\n",
    "            token.tag_ = xpos_tags[i]  # Usar `xpos` como `tag_` si `upos` es \"_\"\n",
    "\n",
    "        token.dep_ = deps[i]\n",
    "        \n",
    "        # Verificar que heads[i] sea un número entero antes de asignarlo como cabeza\n",
    "        if isinstance(heads[i], int) and heads[i] > 0:\n",
    "            token.head = doc[heads[i] - 1]  # Usar head como índice (spaCy usa índice 0 para la raíz)\n",
    "        else:\n",
    "            token.head = token  # Si head es 0 o no válido, el token se apunta a sí mismo como raíz\n",
    "\n",
    "        # Asignar xpos, deps y misc como atributos personalizados\n",
    "        token._.xpos = xpos_tags[i]\n",
    "        token._.deps = deps_info[i]\n",
    "        token._.misc = misc_info[i]\n",
    "\n",
    "        # Convertir `feats` a un formato que spaCy entiende y asignarlo a morph\n",
    "        if morph_feats[i]:\n",
    "            feats_str = \"|\".join(f\"{k}={v}\" for k, v in morph_feats[i].items())\n",
    "            token.set_morph(feats_str)\n",
    "\n",
    "    return doc\n",
    "\n",
    "def render_doc_by_sent_id(docs, sentences, target_sent_id):\n",
    "    # Buscar el índice del `sent_id` deseado en los metadatos de `sentences`\n",
    "    for i, sentence in enumerate(sentences):\n",
    "        if sentence.metadata.get(\"sent_id\") == target_sent_id:\n",
    "            # Renderizar el Doc correspondiente usando `displacy`\n",
    "            displacy.render(docs[i], style=\"dep\", jupyter=True)\n",
    "            return  # Salimos después de encontrar y renderizar\n",
    "    print(f\"Oración con sent_id '{target_sent_id}' no encontrada.\")\n",
    "\n",
    "\n",
    "file_path = \"data/hungarian.conllu\"\n",
    "docs = process_conllu_file(file_path)\n",
    "\n"
   ]
  },
  {
   "cell_type": "code",
   "execution_count": 36,
   "metadata": {},
   "outputs": [
    {
     "data": {
      "text/html": [
       "<span class=\"tex2jax_ignore\"><svg xmlns=\"http://www.w3.org/2000/svg\" xmlns:xlink=\"http://www.w3.org/1999/xlink\" xml:lang=\"hu\" id=\"14a72c7414054ade9c3a586ea1d03b5a-0\" class=\"displacy\" width=\"925\" height=\"312.0\" direction=\"ltr\" style=\"max-width: none; height: 312.0px; color: #000000; background: #ffffff; font-family: Arial; direction: ltr\">\n",
       "<text class=\"displacy-token\" fill=\"currentColor\" text-anchor=\"middle\" y=\"222.0\">\n",
       "    <tspan class=\"displacy-word\" fill=\"currentColor\" x=\"50\">A</tspan>\n",
       "    <tspan class=\"displacy-tag\" dy=\"2em\" fill=\"currentColor\" x=\"50\">DET</tspan>\n",
       "</text>\n",
       "\n",
       "<text class=\"displacy-token\" fill=\"currentColor\" text-anchor=\"middle\" y=\"222.0\">\n",
       "    <tspan class=\"displacy-word\" fill=\"currentColor\" x=\"225\">macska</tspan>\n",
       "    <tspan class=\"displacy-tag\" dy=\"2em\" fill=\"currentColor\" x=\"225\">NOUN</tspan>\n",
       "</text>\n",
       "\n",
       "<text class=\"displacy-token\" fill=\"currentColor\" text-anchor=\"middle\" y=\"222.0\">\n",
       "    <tspan class=\"displacy-word\" fill=\"currentColor\" x=\"400\">a</tspan>\n",
       "    <tspan class=\"displacy-tag\" dy=\"2em\" fill=\"currentColor\" x=\"400\">DET</tspan>\n",
       "</text>\n",
       "\n",
       "<text class=\"displacy-token\" fill=\"currentColor\" text-anchor=\"middle\" y=\"222.0\">\n",
       "    <tspan class=\"displacy-word\" fill=\"currentColor\" x=\"575\">szekrényben</tspan>\n",
       "    <tspan class=\"displacy-tag\" dy=\"2em\" fill=\"currentColor\" x=\"575\">NOUN</tspan>\n",
       "</text>\n",
       "\n",
       "<text class=\"displacy-token\" fill=\"currentColor\" text-anchor=\"middle\" y=\"222.0\">\n",
       "    <tspan class=\"displacy-word\" fill=\"currentColor\" x=\"750\">van .</tspan>\n",
       "    <tspan class=\"displacy-tag\" dy=\"2em\" fill=\"currentColor\" x=\"750\">VERB</tspan>\n",
       "</text>\n",
       "\n",
       "<g class=\"displacy-arrow\">\n",
       "    <path class=\"displacy-arc\" id=\"arrow-14a72c7414054ade9c3a586ea1d03b5a-0-0\" stroke-width=\"2px\" d=\"M70,177.0 C70,89.5 220.0,89.5 220.0,177.0\" fill=\"none\" stroke=\"currentColor\"/>\n",
       "    <text dy=\"1.25em\" style=\"font-size: 0.8em; letter-spacing: 1px\">\n",
       "        <textPath xlink:href=\"#arrow-14a72c7414054ade9c3a586ea1d03b5a-0-0\" class=\"displacy-label\" startOffset=\"50%\" side=\"left\" fill=\"currentColor\" text-anchor=\"middle\">det</textPath>\n",
       "    </text>\n",
       "    <path class=\"displacy-arrowhead\" d=\"M70,179.0 L62,167.0 78,167.0\" fill=\"currentColor\"/>\n",
       "</g>\n",
       "\n",
       "<g class=\"displacy-arrow\">\n",
       "    <path class=\"displacy-arc\" id=\"arrow-14a72c7414054ade9c3a586ea1d03b5a-0-1\" stroke-width=\"2px\" d=\"M245,177.0 C245,2.0 750.0,2.0 750.0,177.0\" fill=\"none\" stroke=\"currentColor\"/>\n",
       "    <text dy=\"1.25em\" style=\"font-size: 0.8em; letter-spacing: 1px\">\n",
       "        <textPath xlink:href=\"#arrow-14a72c7414054ade9c3a586ea1d03b5a-0-1\" class=\"displacy-label\" startOffset=\"50%\" side=\"left\" fill=\"currentColor\" text-anchor=\"middle\">nsubj</textPath>\n",
       "    </text>\n",
       "    <path class=\"displacy-arrowhead\" d=\"M245,179.0 L237,167.0 253,167.0\" fill=\"currentColor\"/>\n",
       "</g>\n",
       "\n",
       "<g class=\"displacy-arrow\">\n",
       "    <path class=\"displacy-arc\" id=\"arrow-14a72c7414054ade9c3a586ea1d03b5a-0-2\" stroke-width=\"2px\" d=\"M420,177.0 C420,89.5 570.0,89.5 570.0,177.0\" fill=\"none\" stroke=\"currentColor\"/>\n",
       "    <text dy=\"1.25em\" style=\"font-size: 0.8em; letter-spacing: 1px\">\n",
       "        <textPath xlink:href=\"#arrow-14a72c7414054ade9c3a586ea1d03b5a-0-2\" class=\"displacy-label\" startOffset=\"50%\" side=\"left\" fill=\"currentColor\" text-anchor=\"middle\">det</textPath>\n",
       "    </text>\n",
       "    <path class=\"displacy-arrowhead\" d=\"M420,179.0 L412,167.0 428,167.0\" fill=\"currentColor\"/>\n",
       "</g>\n",
       "\n",
       "<g class=\"displacy-arrow\">\n",
       "    <path class=\"displacy-arc\" id=\"arrow-14a72c7414054ade9c3a586ea1d03b5a-0-3\" stroke-width=\"2px\" d=\"M595,177.0 C595,89.5 745.0,89.5 745.0,177.0\" fill=\"none\" stroke=\"currentColor\"/>\n",
       "    <text dy=\"1.25em\" style=\"font-size: 0.8em; letter-spacing: 1px\">\n",
       "        <textPath xlink:href=\"#arrow-14a72c7414054ade9c3a586ea1d03b5a-0-3\" class=\"displacy-label\" startOffset=\"50%\" side=\"left\" fill=\"currentColor\" text-anchor=\"middle\">obl</textPath>\n",
       "    </text>\n",
       "    <path class=\"displacy-arrowhead\" d=\"M595,179.0 L587,167.0 603,167.0\" fill=\"currentColor\"/>\n",
       "</g>\n",
       "</svg></span>"
      ],
      "text/plain": [
       "<IPython.core.display.HTML object>"
      ]
     },
     "metadata": {},
     "output_type": "display_data"
    },
    {
     "name": "stdout",
     "output_type": "stream",
     "text": [
      "dict_items([('id', 1), ('form', 'A'), ('lemma', 'a'), ('upos', 'DET'), ('xpos', None), ('feats', {'Definite': 'Def', 'PronType': 'Art'}), ('head', 2), ('deprel', 'det'), ('deps', None), ('misc', {'TokenRange': '0:1'})])\n",
      "dict_items([('id', 2), ('form', 'macska'), ('lemma', 'macska'), ('upos', 'NOUN'), ('xpos', None), ('feats', {'Case': 'Nom', 'Number': 'Sing'}), ('head', 5), ('deprel', 'nsubj'), ('deps', None), ('misc', {'TokenRange': '2:8'})])\n",
      "dict_items([('id', 3), ('form', 'a'), ('lemma', 'a'), ('upos', 'DET'), ('xpos', None), ('feats', {'Definite': 'Def', 'PronType': 'Art'}), ('head', 4), ('deprel', 'det'), ('deps', None), ('misc', {'TokenRange': '9:10'})])\n",
      "dict_items([('id', 4), ('form', 'szekrényben'), ('lemma', 'szekrény'), ('upos', 'NOUN'), ('xpos', None), ('feats', {'Case': 'Ine', 'Number': 'Sing'}), ('head', 5), ('deprel', 'obl'), ('deps', None), ('misc', {'TokenRange': '11:22'})])\n",
      "dict_items([('id', 5), ('form', 'van'), ('lemma', 'van'), ('upos', 'VERB'), ('xpos', None), ('feats', {'Definite': 'Ind', 'Mood': 'Ind', 'Number': 'Sing', 'Person': '3', 'Tense': 'Pres', 'VerbForm': 'Fin', 'Voice': 'Act'}), ('head', 0), ('deprel', 'root'), ('deps', None), ('misc', {'SpaceAfter': 'No', 'TokenRange': '23:26'})])\n",
      "dict_items([('id', 6), ('form', '.'), ('lemma', '.'), ('upos', 'PUNCT'), ('xpos', None), ('feats', None), ('head', 5), ('deprel', 'punct'), ('deps', None), ('misc', {'SpacesAfter': '\\\\n', 'TokenRange': '26:27'})])\n"
     ]
    }
   ],
   "source": [
    "render_doc_by_sent_id(docs, sentences, '1')\n",
    "# The cat is in the wardrobe.\n",
    "\n",
    "for token in sentences[0]:\n",
    "    print(token.items())"
   ]
  },
  {
   "cell_type": "code",
   "execution_count": 27,
   "metadata": {},
   "outputs": [
    {
     "name": "stdout",
     "output_type": "stream",
     "text": [
      "dict_items([('id', 4), ('form', 'szekrényben'), ('lemma', 'szekrény'), ('upos', 'NOUN'), ('xpos', None), ('feats', {'Case': 'Ine', 'Number': 'Sing'}), ('head', 5), ('deprel', 'obl'), ('deps', None), ('misc', {'TokenRange': '11:22'})])\n"
     ]
    }
   ],
   "source": [
    "pprint(sentences[0][3].items())"
   ]
  },
  {
   "cell_type": "code",
   "execution_count": 32,
   "metadata": {},
   "outputs": [
    {
     "name": "stdout",
     "output_type": "stream",
     "text": [
      "obl\n",
      "Ine\n"
     ]
    }
   ],
   "source": [
    "print(sentences[0][3].get('deprel'))\n",
    "print(sentences[0][3].get('feats').get('Case'))"
   ]
  },
  {
   "cell_type": "code",
   "execution_count": null,
   "metadata": {},
   "outputs": [
    {
     "name": "stdout",
     "output_type": "stream",
     "text": [
      "Ine\n"
     ]
    }
   ],
   "source": [
    "pprint(sentences[0][3].items())"
   ]
  },
  {
   "cell_type": "code",
   "execution_count": null,
   "metadata": {},
   "outputs": [
    {
     "data": {
      "text/html": [
       "<span class=\"tex2jax_ignore\"><svg xmlns=\"http://www.w3.org/2000/svg\" xmlns:xlink=\"http://www.w3.org/1999/xlink\" xml:lang=\"hu\" id=\"1afaac8b57414fe4a8fa542d359206b3-0\" class=\"displacy\" width=\"750\" height=\"312.0\" direction=\"ltr\" style=\"max-width: none; height: 312.0px; color: #000000; background: #ffffff; font-family: Arial; direction: ltr\">\n",
       "<text class=\"displacy-token\" fill=\"currentColor\" text-anchor=\"middle\" y=\"222.0\">\n",
       "    <tspan class=\"displacy-word\" fill=\"currentColor\" x=\"50\">Ő</tspan>\n",
       "    <tspan class=\"displacy-tag\" dy=\"2em\" fill=\"currentColor\" x=\"50\">PRON</tspan>\n",
       "</text>\n",
       "\n",
       "<text class=\"displacy-token\" fill=\"currentColor\" text-anchor=\"middle\" y=\"222.0\">\n",
       "    <tspan class=\"displacy-word\" fill=\"currentColor\" x=\"225\">bemegy</tspan>\n",
       "    <tspan class=\"displacy-tag\" dy=\"2em\" fill=\"currentColor\" x=\"225\">VERB</tspan>\n",
       "</text>\n",
       "\n",
       "<text class=\"displacy-token\" fill=\"currentColor\" text-anchor=\"middle\" y=\"222.0\">\n",
       "    <tspan class=\"displacy-word\" fill=\"currentColor\" x=\"400\">a</tspan>\n",
       "    <tspan class=\"displacy-tag\" dy=\"2em\" fill=\"currentColor\" x=\"400\">DET</tspan>\n",
       "</text>\n",
       "\n",
       "<text class=\"displacy-token\" fill=\"currentColor\" text-anchor=\"middle\" y=\"222.0\">\n",
       "    <tspan class=\"displacy-word\" fill=\"currentColor\" x=\"575\">boltba .</tspan>\n",
       "    <tspan class=\"displacy-tag\" dy=\"2em\" fill=\"currentColor\" x=\"575\">NOUN</tspan>\n",
       "</text>\n",
       "\n",
       "<g class=\"displacy-arrow\">\n",
       "    <path class=\"displacy-arc\" id=\"arrow-1afaac8b57414fe4a8fa542d359206b3-0-0\" stroke-width=\"2px\" d=\"M70,177.0 C70,89.5 220.0,89.5 220.0,177.0\" fill=\"none\" stroke=\"currentColor\"/>\n",
       "    <text dy=\"1.25em\" style=\"font-size: 0.8em; letter-spacing: 1px\">\n",
       "        <textPath xlink:href=\"#arrow-1afaac8b57414fe4a8fa542d359206b3-0-0\" class=\"displacy-label\" startOffset=\"50%\" side=\"left\" fill=\"currentColor\" text-anchor=\"middle\">nsubj</textPath>\n",
       "    </text>\n",
       "    <path class=\"displacy-arrowhead\" d=\"M70,179.0 L62,167.0 78,167.0\" fill=\"currentColor\"/>\n",
       "</g>\n",
       "\n",
       "<g class=\"displacy-arrow\">\n",
       "    <path class=\"displacy-arc\" id=\"arrow-1afaac8b57414fe4a8fa542d359206b3-0-1\" stroke-width=\"2px\" d=\"M420,177.0 C420,89.5 570.0,89.5 570.0,177.0\" fill=\"none\" stroke=\"currentColor\"/>\n",
       "    <text dy=\"1.25em\" style=\"font-size: 0.8em; letter-spacing: 1px\">\n",
       "        <textPath xlink:href=\"#arrow-1afaac8b57414fe4a8fa542d359206b3-0-1\" class=\"displacy-label\" startOffset=\"50%\" side=\"left\" fill=\"currentColor\" text-anchor=\"middle\">det</textPath>\n",
       "    </text>\n",
       "    <path class=\"displacy-arrowhead\" d=\"M420,179.0 L412,167.0 428,167.0\" fill=\"currentColor\"/>\n",
       "</g>\n",
       "\n",
       "<g class=\"displacy-arrow\">\n",
       "    <path class=\"displacy-arc\" id=\"arrow-1afaac8b57414fe4a8fa542d359206b3-0-2\" stroke-width=\"2px\" d=\"M245,177.0 C245,2.0 575.0,2.0 575.0,177.0\" fill=\"none\" stroke=\"currentColor\"/>\n",
       "    <text dy=\"1.25em\" style=\"font-size: 0.8em; letter-spacing: 1px\">\n",
       "        <textPath xlink:href=\"#arrow-1afaac8b57414fe4a8fa542d359206b3-0-2\" class=\"displacy-label\" startOffset=\"50%\" side=\"left\" fill=\"currentColor\" text-anchor=\"middle\">nsubj</textPath>\n",
       "    </text>\n",
       "    <path class=\"displacy-arrowhead\" d=\"M575.0,179.0 L583.0,167.0 567.0,167.0\" fill=\"currentColor\"/>\n",
       "</g>\n",
       "</svg></span>"
      ],
      "text/plain": [
       "<IPython.core.display.HTML object>"
      ]
     },
     "metadata": {},
     "output_type": "display_data"
    },
    {
     "name": "stdout",
     "output_type": "stream",
     "text": [
      "TokenList<Ő, bemegy, a, boltba, ., metadata={sent_id: \"2\", text: \"Ő bemegy a boltba.\"}>\n",
      "dict_items([('id', 1), ('form', 'Ő'), ('lemma', 'ő'), ('upos', 'PRON'), ('xpos', None), ('feats', {'Case': 'Nom', 'Number': 'Sing', 'Person': '3', 'PronType': 'Prs'}), ('head', 2), ('deprel', 'nsubj'), ('deps', None), ('misc', {'TokenRange': '28:29'})])\n",
      "dict_items([('id', 2), ('form', 'bemegy'), ('lemma', 'bemegy'), ('upos', 'VERB'), ('xpos', None), ('feats', {'Definite': 'Ind', 'Mood': 'Ind', 'Number': 'Sing', 'Person': '3', 'Tense': 'Pres', 'VerbForm': 'Fin', 'Voice': 'Act'}), ('head', 0), ('deprel', 'root'), ('deps', None), ('misc', {'TokenRange': '30:36'})])\n",
      "dict_items([('id', 3), ('form', 'a'), ('lemma', 'a'), ('upos', 'DET'), ('xpos', None), ('feats', {'Definite': 'Def', 'PronType': 'Art'}), ('head', 4), ('deprel', 'det'), ('deps', None), ('misc', {'TokenRange': '37:38'})])\n",
      "dict_items([('id', 4), ('form', 'boltba'), ('lemma', 'bolt'), ('upos', 'NOUN'), ('xpos', None), ('feats', {'Case': 'Nom', 'Number': 'Sing'}), ('head', 2), ('deprel', 'nsubj'), ('deps', None), ('misc', {'SpaceAfter': 'No', 'TokenRange': '39:45'})])\n",
      "dict_items([('id', 5), ('form', '.'), ('lemma', '.'), ('upos', 'PUNCT'), ('xpos', None), ('feats', None), ('head', 2), ('deprel', 'punct'), ('deps', None), ('misc', {'SpacesAfter': '\\\\n', 'TokenRange': '45:46'})])\n"
     ]
    }
   ],
   "source": [
    "render_doc_by_sent_id(docs, sentences, '2')\n",
    "#She enters the shop.\n",
    "\n",
    "print(sentences[1])\n",
    "\n",
    "for token in sentences[1]:\n",
    "    print(token.items())"
   ]
  },
  {
   "cell_type": "code",
   "execution_count": 42,
   "metadata": {},
   "outputs": [
    {
     "data": {
      "text/plain": [
       "dict_items([('id', 4), ('form', 'boltba'), ('lemma', 'bolt'), ('upos', 'NOUN'), ('xpos', None), ('feats', {'Case': 'Nom', 'Number': 'Sing'}), ('head', 2), ('deprel', 'nsubj'), ('deps', None), ('misc', {'SpaceAfter': 'No', 'TokenRange': '39:45'})])"
      ]
     },
     "execution_count": 42,
     "metadata": {},
     "output_type": "execute_result"
    }
   ],
   "source": [
    "# boltba 'shop' is glossed as nominative.\n",
    "sentences[1][3].items()"
   ]
  },
  {
   "cell_type": "code",
   "execution_count": 51,
   "metadata": {},
   "outputs": [
    {
     "data": {
      "text/html": [
       "<span class=\"tex2jax_ignore\"><svg xmlns=\"http://www.w3.org/2000/svg\" xmlns:xlink=\"http://www.w3.org/1999/xlink\" xml:lang=\"hu\" id=\"0cbd63c1cb6844939c52b7077535790a-0\" class=\"displacy\" width=\"925\" height=\"312.0\" direction=\"ltr\" style=\"max-width: none; height: 312.0px; color: #000000; background: #ffffff; font-family: Arial; direction: ltr\">\n",
       "<text class=\"displacy-token\" fill=\"currentColor\" text-anchor=\"middle\" y=\"222.0\">\n",
       "    <tspan class=\"displacy-word\" fill=\"currentColor\" x=\"50\">A</tspan>\n",
       "    <tspan class=\"displacy-tag\" dy=\"2em\" fill=\"currentColor\" x=\"50\">DET</tspan>\n",
       "</text>\n",
       "\n",
       "<text class=\"displacy-token\" fill=\"currentColor\" text-anchor=\"middle\" y=\"222.0\">\n",
       "    <tspan class=\"displacy-word\" fill=\"currentColor\" x=\"225\">madár</tspan>\n",
       "    <tspan class=\"displacy-tag\" dy=\"2em\" fill=\"currentColor\" x=\"225\">NOUN</tspan>\n",
       "</text>\n",
       "\n",
       "<text class=\"displacy-token\" fill=\"currentColor\" text-anchor=\"middle\" y=\"222.0\">\n",
       "    <tspan class=\"displacy-word\" fill=\"currentColor\" x=\"400\">a</tspan>\n",
       "    <tspan class=\"displacy-tag\" dy=\"2em\" fill=\"currentColor\" x=\"400\">DET</tspan>\n",
       "</text>\n",
       "\n",
       "<text class=\"displacy-token\" fill=\"currentColor\" text-anchor=\"middle\" y=\"222.0\">\n",
       "    <tspan class=\"displacy-word\" fill=\"currentColor\" x=\"575\">fánál</tspan>\n",
       "    <tspan class=\"displacy-tag\" dy=\"2em\" fill=\"currentColor\" x=\"575\">NOUN</tspan>\n",
       "</text>\n",
       "\n",
       "<text class=\"displacy-token\" fill=\"currentColor\" text-anchor=\"middle\" y=\"222.0\">\n",
       "    <tspan class=\"displacy-word\" fill=\"currentColor\" x=\"750\">pihen .</tspan>\n",
       "    <tspan class=\"displacy-tag\" dy=\"2em\" fill=\"currentColor\" x=\"750\">VERB</tspan>\n",
       "</text>\n",
       "\n",
       "<g class=\"displacy-arrow\">\n",
       "    <path class=\"displacy-arc\" id=\"arrow-0cbd63c1cb6844939c52b7077535790a-0-0\" stroke-width=\"2px\" d=\"M70,177.0 C70,89.5 220.0,89.5 220.0,177.0\" fill=\"none\" stroke=\"currentColor\"/>\n",
       "    <text dy=\"1.25em\" style=\"font-size: 0.8em; letter-spacing: 1px\">\n",
       "        <textPath xlink:href=\"#arrow-0cbd63c1cb6844939c52b7077535790a-0-0\" class=\"displacy-label\" startOffset=\"50%\" side=\"left\" fill=\"currentColor\" text-anchor=\"middle\">det</textPath>\n",
       "    </text>\n",
       "    <path class=\"displacy-arrowhead\" d=\"M70,179.0 L62,167.0 78,167.0\" fill=\"currentColor\"/>\n",
       "</g>\n",
       "\n",
       "<g class=\"displacy-arrow\">\n",
       "    <path class=\"displacy-arc\" id=\"arrow-0cbd63c1cb6844939c52b7077535790a-0-1\" stroke-width=\"2px\" d=\"M245,177.0 C245,2.0 750.0,2.0 750.0,177.0\" fill=\"none\" stroke=\"currentColor\"/>\n",
       "    <text dy=\"1.25em\" style=\"font-size: 0.8em; letter-spacing: 1px\">\n",
       "        <textPath xlink:href=\"#arrow-0cbd63c1cb6844939c52b7077535790a-0-1\" class=\"displacy-label\" startOffset=\"50%\" side=\"left\" fill=\"currentColor\" text-anchor=\"middle\">nsubj</textPath>\n",
       "    </text>\n",
       "    <path class=\"displacy-arrowhead\" d=\"M245,179.0 L237,167.0 253,167.0\" fill=\"currentColor\"/>\n",
       "</g>\n",
       "\n",
       "<g class=\"displacy-arrow\">\n",
       "    <path class=\"displacy-arc\" id=\"arrow-0cbd63c1cb6844939c52b7077535790a-0-2\" stroke-width=\"2px\" d=\"M420,177.0 C420,89.5 570.0,89.5 570.0,177.0\" fill=\"none\" stroke=\"currentColor\"/>\n",
       "    <text dy=\"1.25em\" style=\"font-size: 0.8em; letter-spacing: 1px\">\n",
       "        <textPath xlink:href=\"#arrow-0cbd63c1cb6844939c52b7077535790a-0-2\" class=\"displacy-label\" startOffset=\"50%\" side=\"left\" fill=\"currentColor\" text-anchor=\"middle\">det</textPath>\n",
       "    </text>\n",
       "    <path class=\"displacy-arrowhead\" d=\"M420,179.0 L412,167.0 428,167.0\" fill=\"currentColor\"/>\n",
       "</g>\n",
       "\n",
       "<g class=\"displacy-arrow\">\n",
       "    <path class=\"displacy-arc\" id=\"arrow-0cbd63c1cb6844939c52b7077535790a-0-3\" stroke-width=\"2px\" d=\"M595,177.0 C595,89.5 745.0,89.5 745.0,177.0\" fill=\"none\" stroke=\"currentColor\"/>\n",
       "    <text dy=\"1.25em\" style=\"font-size: 0.8em; letter-spacing: 1px\">\n",
       "        <textPath xlink:href=\"#arrow-0cbd63c1cb6844939c52b7077535790a-0-3\" class=\"displacy-label\" startOffset=\"50%\" side=\"left\" fill=\"currentColor\" text-anchor=\"middle\">nsubj</textPath>\n",
       "    </text>\n",
       "    <path class=\"displacy-arrowhead\" d=\"M595,179.0 L587,167.0 603,167.0\" fill=\"currentColor\"/>\n",
       "</g>\n",
       "</svg></span>"
      ],
      "text/plain": [
       "<IPython.core.display.HTML object>"
      ]
     },
     "metadata": {},
     "output_type": "display_data"
    },
    {
     "name": "stdout",
     "output_type": "stream",
     "text": [
      "dict_items([('id', 1), ('form', 'A'), ('lemma', 'a'), ('upos', 'DET'), ('xpos', None), ('feats', {'Definite': 'Def', 'PronType': 'Art'}), ('head', 2), ('deprel', 'det'), ('deps', None), ('misc', {'TokenRange': '155:156'})])\n",
      "dict_items([('id', 2), ('form', 'madár'), ('lemma', 'madár'), ('upos', 'NOUN'), ('xpos', None), ('feats', {'Case': 'Nom', 'Number': 'Sing'}), ('head', 5), ('deprel', 'nsubj'), ('deps', None), ('misc', {'TokenRange': '157:162'})])\n",
      "dict_items([('id', 3), ('form', 'a'), ('lemma', 'a'), ('upos', 'DET'), ('xpos', None), ('feats', {'Definite': 'Def', 'PronType': 'Art'}), ('head', 4), ('deprel', 'det'), ('deps', None), ('misc', {'TokenRange': '163:164'})])\n",
      "dict_items([('id', 4), ('form', 'fánál'), ('lemma', 'fánál'), ('upos', 'NOUN'), ('xpos', None), ('feats', {'Case': 'Nom', 'Number': 'Sing'}), ('head', 5), ('deprel', 'nsubj'), ('deps', None), ('misc', {'TokenRange': '165:170'})])\n",
      "dict_items([('id', 5), ('form', 'pihen'), ('lemma', 'pihen'), ('upos', 'VERB'), ('xpos', None), ('feats', {'Definite': 'Ind', 'Mood': 'Ind', 'Number': 'Sing', 'Person': '3', 'Tense': 'Pres', 'VerbForm': 'Fin', 'Voice': 'Act'}), ('head', 0), ('deprel', 'root'), ('deps', None), ('misc', {'SpaceAfter': 'No', 'TokenRange': '171:176'})])\n",
      "dict_items([('id', 6), ('form', '.'), ('lemma', '.'), ('upos', 'PUNCT'), ('xpos', None), ('feats', None), ('head', 5), ('deprel', 'punct'), ('deps', None), ('misc', {'SpacesAfter': '\\\\n', 'TokenRange': '176:177'})])\n"
     ]
    }
   ],
   "source": [
    "render_doc_by_sent_id(docs, sentences, '7')\n",
    "\n",
    "for token in sentences[6]:\n",
    "    print(token.items())"
   ]
  },
  {
   "cell_type": "code",
   "execution_count": null,
   "metadata": {},
   "outputs": [
    {
     "data": {
      "text/plain": [
       "'Nom'"
      ]
     },
     "execution_count": 54,
     "metadata": {},
     "output_type": "execute_result"
    }
   ],
   "source": [
    "sentences[6][3].get('feats').get('Case')\n",
    "\n",
    "# The bird rests next to the tree.\n",
    "\n",
    "#The output should say 'adessive'"
   ]
  },
  {
   "cell_type": "code",
   "execution_count": null,
   "metadata": {},
   "outputs": [],
   "source": [
    "\n"
   ]
  }
 ],
 "metadata": {
  "kernelspec": {
   "display_name": "venv",
   "language": "python",
   "name": "python3"
  },
  "language_info": {
   "codemirror_mode": {
    "name": "ipython",
    "version": 3
   },
   "file_extension": ".py",
   "mimetype": "text/x-python",
   "name": "python",
   "nbconvert_exporter": "python",
   "pygments_lexer": "ipython3",
   "version": "3.12.4"
  }
 },
 "nbformat": 4,
 "nbformat_minor": 2
}
